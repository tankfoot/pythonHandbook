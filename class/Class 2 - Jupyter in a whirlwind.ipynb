{
 "cells": [
  {
   "cell_type": "markdown",
   "metadata": {
    "ExecuteTime": {
     "end_time": "2018-01-10T21:02:39.615840Z",
     "start_time": "2018-01-10T21:02:39.610532Z"
    },
    "solution": "hidden"
   },
   "source": [
    "# Class 2 - Jupyter in a whirlwind"
   ]
  },
  {
   "cell_type": "markdown",
   "metadata": {
    "ExecuteTime": {
     "end_time": "2018-01-10T21:07:51.059017Z",
     "start_time": "2018-01-10T21:07:51.047391Z"
    }
   },
   "source": [
    "In this class, we will discuss how to use Jupyter notebooks. We will discuss the following issues:\n",
    "* Basics of Jupyter notebooks\n",
    "* Keyboard shortcuts\n",
    "* Code cells vs. Markdown cells\n",
    "* Useful commands\n",
    "* Let's practice\n",
    "\n",
    "You will find the documentation for the Jupyter frontend [here](https://jupyter-notebook.readthedocs.io/en/stable/examples/Notebook/Notebook%20Basics.html)."
   ]
  },
  {
   "cell_type": "markdown",
   "metadata": {
    "ExecuteTime": {
     "end_time": "2018-01-10T21:11:10.586378Z",
     "start_time": "2018-01-10T21:11:10.582733Z"
    }
   },
   "source": [
    "## Basics of Jupyter notebooks"
   ]
  },
  {
   "cell_type": "markdown",
   "metadata": {},
   "source": [
    "* Everything is handled in cells. Cells contain source code, explanation, documentation, and output.\n",
    "* Jupyter is interactive and differentiates between a command mode (`Esc`) and an edit mode (`Enter`).\n",
    "* Keyboard shortcuts are vital to know for effective work in Jupyter."
   ]
  },
  {
   "cell_type": "markdown",
   "metadata": {
    "ExecuteTime": {
     "end_time": "2018-01-10T21:12:13.710745Z",
     "start_time": "2018-01-10T21:12:13.706070Z"
    }
   },
   "source": [
    "## Keyboard shortcuts"
   ]
  },
  {
   "cell_type": "markdown",
   "metadata": {
    "ExecuteTime": {
     "end_time": "2018-01-10T21:12:43.102060Z",
     "start_time": "2018-01-10T21:12:43.081630Z"
    }
   },
   "source": [
    "* `Enter` will bring you into edit mode\n",
    "    + In edit mode you can write Python or [Markdown](https://github.com/adam-p/markdown-here/wiki/Markdown-Cheatsheet)\n",
    "    + `Shift + Control + -` will split the cell at the cursor (useful to logically organize code)\n",
    "* `Esc` will bring you in command mode\n",
    "    + `b` will create a new cell below the current sell (`a` creates a cell above)\n",
    "    + `y` interprets a cell as code\n",
    "    + `m` interprets a cell as markdown\n",
    "    + pressing `d` twice deletes a cell\n",
    "    + `x`,`c`,`v` will cut, copy, or paste cells\n",
    "* `Shift + Enter` runs a cell\n",
    "* `Shift + Command + P` opens the command palette\n",
    "* You can run shell commands using `!` - This is helpful to see available files or to install new packages."
   ]
  },
  {
   "cell_type": "markdown",
   "metadata": {
    "ExecuteTime": {
     "end_time": "2018-01-10T21:42:56.308863Z",
     "start_time": "2018-01-10T21:42:56.303753Z"
    }
   },
   "source": [
    "## Code cells vs. Markdown cells"
   ]
  },
  {
   "cell_type": "markdown",
   "metadata": {},
   "source": [
    "Code cells will be interpreted and executed as Python code. Markdown cells will be formatted. Use `y` and `m` to toggle the cell type."
   ]
  },
  {
   "cell_type": "markdown",
   "metadata": {},
   "source": [
    "Markdown cells enable [literate programming](https://en.wikipedia.org/wiki/Literate_programming) because they allow you to augment your code with text and media (images, video). The following [cheatsheet](https://github.com/adam-p/markdown-here/wiki/Markdown-Cheatsheet) provides you with the basic formatting commands. Markdown cells also understand HTML."
   ]
  },
  {
   "cell_type": "markdown",
   "metadata": {},
   "source": [
    "`<img src=\"https://www.scu.edu/media/institutional-pages/homepage/lg-1609-openhouse3.jpg\" />` gives you:"
   ]
  },
  {
   "cell_type": "markdown",
   "metadata": {},
   "source": [
    "<img src=\"https://www.scu.edu/media/institutional-pages/homepage/lg-1609-openhouse3.jpg\" />"
   ]
  },
  {
   "cell_type": "markdown",
   "metadata": {},
   "source": [
    "## Useful commands"
   ]
  },
  {
   "cell_type": "markdown",
   "metadata": {},
   "source": [
    "`?library.method|variable` provides you a help-text. `type()` give you the type of an object. You will find more useful commands [here](https://www.dataquest.io/blog/jupyter-notebook-tips-tricks-shortcuts/)"
   ]
  },
  {
   "cell_type": "code",
   "execution_count": 1,
   "metadata": {
    "ExecuteTime": {
     "end_time": "2018-01-11T01:43:20.250420Z",
     "start_time": "2018-01-11T01:43:20.192298Z"
    }
   },
   "outputs": [],
   "source": [
    "?type()"
   ]
  },
  {
   "cell_type": "markdown",
   "metadata": {
    "ExecuteTime": {
     "end_time": "2018-01-10T21:22:27.842264Z",
     "start_time": "2018-01-10T21:22:27.834776Z"
    }
   },
   "source": [
    "The following two-liner will enable Jypter to show multiple outputs at the same time. "
   ]
  },
  {
   "cell_type": "code",
   "execution_count": 2,
   "metadata": {
    "ExecuteTime": {
     "end_time": "2018-01-11T01:43:20.465630Z",
     "start_time": "2018-01-11T01:43:20.459928Z"
    }
   },
   "outputs": [],
   "source": [
    "from IPython.core.interactiveshell import InteractiveShell\n",
    "InteractiveShell.ast_node_interactivity = \"all\""
   ]
  },
  {
   "cell_type": "markdown",
   "metadata": {},
   "source": [
    "Magical commands provide simplifications of common tasks."
   ]
  },
  {
   "cell_type": "markdown",
   "metadata": {},
   "source": [
    "`%lsmagic` lists your available magical powers ;)"
   ]
  },
  {
   "cell_type": "code",
   "execution_count": 3,
   "metadata": {
    "ExecuteTime": {
     "end_time": "2018-01-11T01:43:20.903456Z",
     "start_time": "2018-01-11T01:43:20.881484Z"
    }
   },
   "outputs": [
    {
     "data": {
      "application/json": {
       "cell": {
        "!": "OSMagics",
        "HTML": "Other",
        "SVG": "Other",
        "bash": "Other",
        "capture": "ExecutionMagics",
        "debug": "ExecutionMagics",
        "file": "Other",
        "html": "DisplayMagics",
        "javascript": "DisplayMagics",
        "js": "DisplayMagics",
        "latex": "DisplayMagics",
        "markdown": "DisplayMagics",
        "perl": "Other",
        "prun": "ExecutionMagics",
        "pypy": "Other",
        "python": "Other",
        "python2": "Other",
        "python3": "Other",
        "ruby": "Other",
        "script": "ScriptMagics",
        "sh": "Other",
        "svg": "DisplayMagics",
        "sx": "OSMagics",
        "system": "OSMagics",
        "time": "ExecutionMagics",
        "timeit": "ExecutionMagics",
        "writefile": "OSMagics"
       },
       "line": {
        "alias": "OSMagics",
        "alias_magic": "BasicMagics",
        "autocall": "AutoMagics",
        "automagic": "AutoMagics",
        "autosave": "KernelMagics",
        "bookmark": "OSMagics",
        "cat": "Other",
        "cd": "OSMagics",
        "clear": "KernelMagics",
        "colors": "BasicMagics",
        "config": "ConfigMagics",
        "connect_info": "KernelMagics",
        "cp": "Other",
        "debug": "ExecutionMagics",
        "dhist": "OSMagics",
        "dirs": "OSMagics",
        "doctest_mode": "BasicMagics",
        "ed": "Other",
        "edit": "KernelMagics",
        "env": "OSMagics",
        "gui": "BasicMagics",
        "hist": "Other",
        "history": "HistoryMagics",
        "killbgscripts": "ScriptMagics",
        "ldir": "Other",
        "less": "KernelMagics",
        "lf": "Other",
        "lk": "Other",
        "ll": "Other",
        "load": "CodeMagics",
        "load_ext": "ExtensionMagics",
        "loadpy": "CodeMagics",
        "logoff": "LoggingMagics",
        "logon": "LoggingMagics",
        "logstart": "LoggingMagics",
        "logstate": "LoggingMagics",
        "logstop": "LoggingMagics",
        "ls": "Other",
        "lsmagic": "BasicMagics",
        "lx": "Other",
        "macro": "ExecutionMagics",
        "magic": "BasicMagics",
        "man": "KernelMagics",
        "matplotlib": "PylabMagics",
        "mkdir": "Other",
        "more": "KernelMagics",
        "mv": "Other",
        "notebook": "BasicMagics",
        "page": "BasicMagics",
        "pastebin": "CodeMagics",
        "pdb": "ExecutionMagics",
        "pdef": "NamespaceMagics",
        "pdoc": "NamespaceMagics",
        "pfile": "NamespaceMagics",
        "pinfo": "NamespaceMagics",
        "pinfo2": "NamespaceMagics",
        "pip": "BasicMagics",
        "popd": "OSMagics",
        "pprint": "BasicMagics",
        "precision": "BasicMagics",
        "profile": "BasicMagics",
        "prun": "ExecutionMagics",
        "psearch": "NamespaceMagics",
        "psource": "NamespaceMagics",
        "pushd": "OSMagics",
        "pwd": "OSMagics",
        "pycat": "OSMagics",
        "pylab": "PylabMagics",
        "qtconsole": "KernelMagics",
        "quickref": "BasicMagics",
        "recall": "HistoryMagics",
        "rehashx": "OSMagics",
        "reload_ext": "ExtensionMagics",
        "rep": "Other",
        "rerun": "HistoryMagics",
        "reset": "NamespaceMagics",
        "reset_selective": "NamespaceMagics",
        "rm": "Other",
        "rmdir": "Other",
        "run": "ExecutionMagics",
        "save": "CodeMagics",
        "sc": "OSMagics",
        "set_env": "OSMagics",
        "store": "StoreMagics",
        "sx": "OSMagics",
        "system": "OSMagics",
        "tb": "ExecutionMagics",
        "time": "ExecutionMagics",
        "timeit": "ExecutionMagics",
        "unalias": "OSMagics",
        "unload_ext": "ExtensionMagics",
        "who": "NamespaceMagics",
        "who_ls": "NamespaceMagics",
        "whos": "NamespaceMagics",
        "xdel": "NamespaceMagics",
        "xmode": "BasicMagics"
       }
      },
      "text/plain": [
       "Available line magics:\n",
       "%alias  %alias_magic  %autocall  %automagic  %autosave  %bookmark  %cat  %cd  %clear  %colors  %config  %connect_info  %cp  %debug  %dhist  %dirs  %doctest_mode  %ed  %edit  %env  %gui  %hist  %history  %killbgscripts  %ldir  %less  %lf  %lk  %ll  %load  %load_ext  %loadpy  %logoff  %logon  %logstart  %logstate  %logstop  %ls  %lsmagic  %lx  %macro  %magic  %man  %matplotlib  %mkdir  %more  %mv  %notebook  %page  %pastebin  %pdb  %pdef  %pdoc  %pfile  %pinfo  %pinfo2  %popd  %pprint  %precision  %profile  %prun  %psearch  %psource  %pushd  %pwd  %pycat  %pylab  %qtconsole  %quickref  %recall  %rehashx  %reload_ext  %rep  %rerun  %reset  %reset_selective  %rm  %rmdir  %run  %save  %sc  %set_env  %store  %sx  %system  %tb  %time  %timeit  %unalias  %unload_ext  %who  %who_ls  %whos  %xdel  %xmode\n",
       "\n",
       "Available cell magics:\n",
       "%%!  %%HTML  %%SVG  %%bash  %%capture  %%debug  %%file  %%html  %%javascript  %%js  %%latex  %%markdown  %%perl  %%prun  %%pypy  %%python  %%python2  %%python3  %%ruby  %%script  %%sh  %%svg  %%sx  %%system  %%time  %%timeit  %%writefile\n",
       "\n",
       "Automagic is ON, % prefix IS NOT needed for line magics."
      ]
     },
     "execution_count": 3,
     "metadata": {},
     "output_type": "execute_result"
    }
   ],
   "source": [
    "%lsmagic"
   ]
  },
  {
   "cell_type": "markdown",
   "metadata": {
    "ExecuteTime": {
     "end_time": "2018-01-10T21:29:05.083690Z",
     "start_time": "2018-01-10T21:29:05.075859Z"
    }
   },
   "source": [
    "If you want to run external code, use `%run`. Equally useful is `%load`. This will show you the code and allows you to execute it. "
   ]
  },
  {
   "cell_type": "code",
   "execution_count": 4,
   "metadata": {
    "ExecuteTime": {
     "end_time": "2018-01-11T01:43:21.165268Z",
     "start_time": "2018-01-11T01:43:21.145980Z"
    }
   },
   "outputs": [
    {
     "name": "stdout",
     "output_type": "stream",
     "text": [
      "Hello World!\n"
     ]
    }
   ],
   "source": [
    "% run hello_world.py"
   ]
  },
  {
   "cell_type": "code",
   "execution_count": 5,
   "metadata": {
    "ExecuteTime": {
     "end_time": "2018-01-11T01:43:21.343732Z",
     "start_time": "2018-01-11T01:43:21.336259Z"
    }
   },
   "outputs": [
    {
     "name": "stdout",
     "output_type": "stream",
     "text": [
      "Hello World!\n"
     ]
    }
   ],
   "source": [
    "# %load https://raw.githubusercontent.com/mschermann/msis2802winter2018classes/master/hello_world.py\n",
    "print(\"Hello World!\")"
   ]
  },
  {
   "cell_type": "markdown",
   "metadata": {},
   "source": [
    "[Jupyter extensions](https://github.com/ipython-contrib/jupyter_contrib_nbextensions) are little tools that you can add to make your life easier. Most of the time, extensions will come with your Jupyter distribution."
   ]
  },
  {
   "cell_type": "markdown",
   "metadata": {},
   "source": [
    "## Let's practice markdown cells"
   ]
  },
  {
   "cell_type": "markdown",
   "metadata": {},
   "source": [
    "Interpret the following code cells and explain what happens and what the results are in markdown cells."
   ]
  },
  {
   "cell_type": "code",
   "execution_count": 24,
   "metadata": {
    "ExecuteTime": {
     "end_time": "2018-01-11T01:49:44.081908Z",
     "start_time": "2018-01-11T01:49:43.224677Z"
    }
   },
   "outputs": [],
   "source": [
    "import pandas as pd\n",
    "prices = pd.read_csv(\"http://blog.yhat.com/static/misc/data/marijuana-street-price-clean.csv\")"
   ]
  },
  {
   "cell_type": "code",
   "execution_count": 25,
   "metadata": {
    "ExecuteTime": {
     "end_time": "2018-01-11T01:49:44.723835Z",
     "start_time": "2018-01-11T01:49:44.680120Z"
    }
   },
   "outputs": [
    {
     "data": {
      "text/html": [
       "<div>\n",
       "<style scoped>\n",
       "    .dataframe tbody tr th:only-of-type {\n",
       "        vertical-align: middle;\n",
       "    }\n",
       "\n",
       "    .dataframe tbody tr th {\n",
       "        vertical-align: top;\n",
       "    }\n",
       "\n",
       "    .dataframe thead th {\n",
       "        text-align: right;\n",
       "    }\n",
       "</style>\n",
       "<table border=\"1\" class=\"dataframe\">\n",
       "  <thead>\n",
       "    <tr style=\"text-align: right;\">\n",
       "      <th></th>\n",
       "      <th>State</th>\n",
       "      <th>HighQ</th>\n",
       "      <th>HighQN</th>\n",
       "      <th>MedQ</th>\n",
       "      <th>MedQN</th>\n",
       "      <th>LowQ</th>\n",
       "      <th>LowQN</th>\n",
       "      <th>date</th>\n",
       "    </tr>\n",
       "  </thead>\n",
       "  <tbody>\n",
       "    <tr>\n",
       "      <th>22894</th>\n",
       "      <td>Virginia</td>\n",
       "      <td>364.98</td>\n",
       "      <td>3513</td>\n",
       "      <td>293.12</td>\n",
       "      <td>3079</td>\n",
       "      <td>NaN</td>\n",
       "      <td>284</td>\n",
       "      <td>2014-12-31</td>\n",
       "    </tr>\n",
       "    <tr>\n",
       "      <th>22895</th>\n",
       "      <td>Washington</td>\n",
       "      <td>233.05</td>\n",
       "      <td>3337</td>\n",
       "      <td>189.92</td>\n",
       "      <td>3562</td>\n",
       "      <td>NaN</td>\n",
       "      <td>160</td>\n",
       "      <td>2014-12-31</td>\n",
       "    </tr>\n",
       "    <tr>\n",
       "      <th>22896</th>\n",
       "      <td>West Virginia</td>\n",
       "      <td>359.35</td>\n",
       "      <td>551</td>\n",
       "      <td>224.03</td>\n",
       "      <td>545</td>\n",
       "      <td>NaN</td>\n",
       "      <td>60</td>\n",
       "      <td>2014-12-31</td>\n",
       "    </tr>\n",
       "    <tr>\n",
       "      <th>22897</th>\n",
       "      <td>Wisconsin</td>\n",
       "      <td>350.52</td>\n",
       "      <td>2244</td>\n",
       "      <td>272.71</td>\n",
       "      <td>2221</td>\n",
       "      <td>NaN</td>\n",
       "      <td>167</td>\n",
       "      <td>2014-12-31</td>\n",
       "    </tr>\n",
       "    <tr>\n",
       "      <th>22898</th>\n",
       "      <td>Wyoming</td>\n",
       "      <td>322.27</td>\n",
       "      <td>131</td>\n",
       "      <td>351.86</td>\n",
       "      <td>197</td>\n",
       "      <td>NaN</td>\n",
       "      <td>12</td>\n",
       "      <td>2014-12-31</td>\n",
       "    </tr>\n",
       "  </tbody>\n",
       "</table>\n",
       "</div>"
      ],
      "text/plain": [
       "               State   HighQ  HighQN    MedQ  MedQN  LowQ  LowQN        date\n",
       "22894       Virginia  364.98    3513  293.12   3079   NaN    284  2014-12-31\n",
       "22895     Washington  233.05    3337  189.92   3562   NaN    160  2014-12-31\n",
       "22896  West Virginia  359.35     551  224.03    545   NaN     60  2014-12-31\n",
       "22897      Wisconsin  350.52    2244  272.71   2221   NaN    167  2014-12-31\n",
       "22898        Wyoming  322.27     131  351.86    197   NaN     12  2014-12-31"
      ]
     },
     "execution_count": 25,
     "metadata": {},
     "output_type": "execute_result"
    }
   ],
   "source": [
    "prices.tail()"
   ]
  },
  {
   "cell_type": "code",
   "execution_count": 26,
   "metadata": {
    "ExecuteTime": {
     "end_time": "2018-01-11T01:49:45.252033Z",
     "start_time": "2018-01-11T01:49:45.125251Z"
    }
   },
   "outputs": [
    {
     "data": {
      "text/html": [
       "<div>\n",
       "<style scoped>\n",
       "    .dataframe tbody tr th:only-of-type {\n",
       "        vertical-align: middle;\n",
       "    }\n",
       "\n",
       "    .dataframe tbody tr th {\n",
       "        vertical-align: top;\n",
       "    }\n",
       "\n",
       "    .dataframe thead th {\n",
       "        text-align: right;\n",
       "    }\n",
       "</style>\n",
       "<table border=\"1\" class=\"dataframe\">\n",
       "  <thead>\n",
       "    <tr style=\"text-align: right;\">\n",
       "      <th></th>\n",
       "      <th>HighQ</th>\n",
       "      <th>HighQN</th>\n",
       "      <th>MedQ</th>\n",
       "      <th>MedQN</th>\n",
       "      <th>LowQ</th>\n",
       "      <th>LowQN</th>\n",
       "    </tr>\n",
       "  </thead>\n",
       "  <tbody>\n",
       "    <tr>\n",
       "      <th>count</th>\n",
       "      <td>22899.000000</td>\n",
       "      <td>22899.000000</td>\n",
       "      <td>22899.000000</td>\n",
       "      <td>22899.000000</td>\n",
       "      <td>12342.000000</td>\n",
       "      <td>22899.000000</td>\n",
       "    </tr>\n",
       "    <tr>\n",
       "      <th>mean</th>\n",
       "      <td>329.759854</td>\n",
       "      <td>2274.743657</td>\n",
       "      <td>247.618306</td>\n",
       "      <td>2183.737805</td>\n",
       "      <td>203.747847</td>\n",
       "      <td>202.804489</td>\n",
       "    </tr>\n",
       "    <tr>\n",
       "      <th>std</th>\n",
       "      <td>41.173167</td>\n",
       "      <td>2641.936586</td>\n",
       "      <td>44.276015</td>\n",
       "      <td>2789.902626</td>\n",
       "      <td>105.480774</td>\n",
       "      <td>220.531987</td>\n",
       "    </tr>\n",
       "    <tr>\n",
       "      <th>min</th>\n",
       "      <td>202.020000</td>\n",
       "      <td>93.000000</td>\n",
       "      <td>144.850000</td>\n",
       "      <td>134.000000</td>\n",
       "      <td>63.700000</td>\n",
       "      <td>11.000000</td>\n",
       "    </tr>\n",
       "    <tr>\n",
       "      <th>25%</th>\n",
       "      <td>303.780000</td>\n",
       "      <td>597.000000</td>\n",
       "      <td>215.775000</td>\n",
       "      <td>548.000000</td>\n",
       "      <td>147.117500</td>\n",
       "      <td>51.000000</td>\n",
       "    </tr>\n",
       "    <tr>\n",
       "      <th>50%</th>\n",
       "      <td>342.310000</td>\n",
       "      <td>1420.000000</td>\n",
       "      <td>245.800000</td>\n",
       "      <td>1320.000000</td>\n",
       "      <td>186.760000</td>\n",
       "      <td>139.000000</td>\n",
       "    </tr>\n",
       "    <tr>\n",
       "      <th>75%</th>\n",
       "      <td>356.550000</td>\n",
       "      <td>2958.000000</td>\n",
       "      <td>274.155000</td>\n",
       "      <td>2673.000000</td>\n",
       "      <td>221.360000</td>\n",
       "      <td>263.000000</td>\n",
       "    </tr>\n",
       "    <tr>\n",
       "      <th>max</th>\n",
       "      <td>415.700000</td>\n",
       "      <td>18492.000000</td>\n",
       "      <td>379.000000</td>\n",
       "      <td>22027.000000</td>\n",
       "      <td>734.650000</td>\n",
       "      <td>1287.000000</td>\n",
       "    </tr>\n",
       "  </tbody>\n",
       "</table>\n",
       "</div>"
      ],
      "text/plain": [
       "              HighQ        HighQN          MedQ         MedQN          LowQ  \\\n",
       "count  22899.000000  22899.000000  22899.000000  22899.000000  12342.000000   \n",
       "mean     329.759854   2274.743657    247.618306   2183.737805    203.747847   \n",
       "std       41.173167   2641.936586     44.276015   2789.902626    105.480774   \n",
       "min      202.020000     93.000000    144.850000    134.000000     63.700000   \n",
       "25%      303.780000    597.000000    215.775000    548.000000    147.117500   \n",
       "50%      342.310000   1420.000000    245.800000   1320.000000    186.760000   \n",
       "75%      356.550000   2958.000000    274.155000   2673.000000    221.360000   \n",
       "max      415.700000  18492.000000    379.000000  22027.000000    734.650000   \n",
       "\n",
       "              LowQN  \n",
       "count  22899.000000  \n",
       "mean     202.804489  \n",
       "std      220.531987  \n",
       "min       11.000000  \n",
       "25%       51.000000  \n",
       "50%      139.000000  \n",
       "75%      263.000000  \n",
       "max     1287.000000  "
      ]
     },
     "execution_count": 26,
     "metadata": {},
     "output_type": "execute_result"
    }
   ],
   "source": [
    "prices.describe()"
   ]
  },
  {
   "cell_type": "code",
   "execution_count": 27,
   "metadata": {
    "ExecuteTime": {
     "end_time": "2018-01-11T01:49:45.311461Z",
     "start_time": "2018-01-11T01:49:45.259114Z"
    }
   },
   "outputs": [
    {
     "data": {
      "text/plain": [
       "245.37612472160356"
      ]
     },
     "execution_count": 27,
     "metadata": {},
     "output_type": "execute_result"
    },
    {
     "data": {
      "text/plain": [
       "337.1052115812917"
      ]
     },
     "execution_count": 27,
     "metadata": {},
     "output_type": "execute_result"
    }
   ],
   "source": [
    "prices[prices['State']==\"California\"]['HighQ'].mean()\n",
    "prices[prices['State']==\"Texas\"]['HighQ'].mean()"
   ]
  },
  {
   "cell_type": "code",
   "execution_count": 28,
   "metadata": {
    "ExecuteTime": {
     "end_time": "2018-01-11T01:49:45.703214Z",
     "start_time": "2018-01-11T01:49:45.653601Z"
    }
   },
   "outputs": [
    {
     "data": {
      "text/plain": [
       "32.583773188703994"
      ]
     },
     "execution_count": 28,
     "metadata": {},
     "output_type": "execute_result"
    }
   ],
   "source": [
    "prices['HighQ'].mad()"
   ]
  },
  {
   "cell_type": "code",
   "execution_count": 29,
   "metadata": {
    "ExecuteTime": {
     "end_time": "2018-01-11T01:49:46.253017Z",
     "start_time": "2018-01-11T01:49:45.710642Z"
    }
   },
   "outputs": [
    {
     "data": {
      "image/png": "[encoded data removed]",
      "text/plain": [
       "<matplotlib.figure.Figure at 0x7f73ddef6da0>"
      ]
     },
     "metadata": {},
     "output_type": "display_data"
    }
   ],
   "source": [
    "%matplotlib inline \n",
    "prices.groupby('State')['HighQ'].mean().sort_values().plot();"
   ]
  },
  {
   "cell_type": "code",
   "execution_count": 30,
   "metadata": {
    "ExecuteTime": {
     "end_time": "2018-01-11T01:49:46.733901Z",
     "start_time": "2018-01-11T01:49:46.716299Z"
    }
   },
   "outputs": [
    {
     "data": {
      "text/plain": [
       "State\n",
       "North Dakota    398.668753\n",
       "South Dakota    375.818486\n",
       "Vermont         374.250445\n",
       "Maryland        370.985167\n",
       "Virginia        368.146993\n",
       "Name: HighQ, dtype: float64"
      ]
     },
     "execution_count": 30,
     "metadata": {},
     "output_type": "execute_result"
    }
   ],
   "source": [
    "prices.groupby('State')['HighQ'].mean().nlargest(5)"
   ]
  },
  {
   "cell_type": "code",
   "execution_count": 31,
   "metadata": {
    "ExecuteTime": {
     "end_time": "2018-01-11T01:49:46.761276Z",
     "start_time": "2018-01-11T01:49:46.738326Z"
    }
   },
   "outputs": [
    {
     "data": {
      "text/plain": [
       "State\n",
       "Oregon        208.496236\n",
       "Washington    233.387817\n",
       "Colorado      238.918708\n",
       "California    245.376125\n",
       "Nevada        267.820111\n",
       "Name: HighQ, dtype: float64"
      ]
     },
     "execution_count": 31,
     "metadata": {},
     "output_type": "execute_result"
    }
   ],
   "source": [
    "prices.groupby('State')['HighQ'].mean().nsmallest(5)"
   ]
  },
  {
   "cell_type": "markdown",
   "metadata": {
    "ExecuteTime": {
     "end_time": "2018-01-10T23:16:00.663409Z",
     "start_time": "2018-01-10T23:16:00.658931Z"
    }
   },
   "source": [
    "## Let's practice code cells\n",
    "This section is a summary of the excellent [A Whirlwind Tour of Python](https://jakevdp.github.io/WhirlwindTourOfPython/) by [Jake VanderPlas](https://jakevdp.github.io/pages/about.html)."
   ]
  },
  {
   "cell_type": "markdown",
   "metadata": {
    "solution2": "hidden",
    "solution2_first": true
   },
   "source": [
    "Create a code cell as follows:\n",
    "* Write the line `import this`"
   ]
  },
  {
   "cell_type": "code",
   "execution_count": 32,
   "metadata": {
    "ExecuteTime": {
     "end_time": "2018-01-11T01:49:47.402479Z",
     "start_time": "2018-01-11T01:49:47.397964Z"
    },
    "solution2": "hidden"
   },
   "outputs": [],
   "source": [
    "import this"
   ]
  },
  {
   "cell_type": "markdown",
   "metadata": {
    "ExecuteTime": {
     "end_time": "2018-01-10T23:31:47.893580Z",
     "start_time": "2018-01-10T23:31:47.883716Z"
    },
    "solution2": "hidden",
    "solution2_first": true
   },
   "source": [
    "Create a code cell as follows:\n",
    "* Create a comment `An ode to Python`"
   ]
  },
  {
   "cell_type": "code",
   "execution_count": 33,
   "metadata": {
    "ExecuteTime": {
     "end_time": "2018-01-11T01:49:47.630815Z",
     "start_time": "2018-01-11T01:49:47.625797Z"
    },
    "solution2": "hidden"
   },
   "outputs": [],
   "source": [
    "#An ode to Python"
   ]
  },
  {
   "cell_type": "markdown",
   "metadata": {},
   "source": [
    "The important principles of Python code style:\n",
    "* End of line matters\n",
    "* Indentation: Whitespace Matters!\n",
    "* Parentheses Are for Grouping or Calling\n",
    "\n",
    "You can find the style guide for Python [here](https://www.python.org/dev/peps/pep-0008/)."
   ]
  },
  {
   "cell_type": "code",
   "execution_count": 34,
   "metadata": {
    "ExecuteTime": {
     "end_time": "2018-01-11T01:49:47.909600Z",
     "start_time": "2018-01-11T01:49:47.889738Z"
    }
   },
   "outputs": [
    {
     "data": {
      "text/plain": [
       "[1, 2, 3, 4, 5, 6, 7, 8, 9, 10]"
      ]
     },
     "execution_count": 34,
     "metadata": {},
     "output_type": "execute_result"
    }
   ],
   "source": [
    "x = 1; y = 2\n",
    "z = 1 + \\\n",
    "2\n",
    "\n",
    "a = [0,1,2,3,4,5,6,7,8,9]\n",
    "for i in a:\n",
    "    a[i] = i +1\n",
    "a"
   ]
  },
  {
   "cell_type": "markdown",
   "metadata": {},
   "source": [
    "**Caution** for mutable variables (lists, dicts, sets): Python Variables are Pointers "
   ]
  },
  {
   "cell_type": "code",
   "execution_count": 35,
   "metadata": {
    "ExecuteTime": {
     "end_time": "2018-01-11T01:49:48.269648Z",
     "start_time": "2018-01-11T01:49:48.245128Z"
    }
   },
   "outputs": [
    {
     "data": {
      "text/plain": [
       "'It is me'"
      ]
     },
     "execution_count": 35,
     "metadata": {},
     "output_type": "execute_result"
    },
    {
     "data": {
      "text/plain": [
       "'It is me'"
      ]
     },
     "execution_count": 35,
     "metadata": {},
     "output_type": "execute_result"
    },
    {
     "data": {
      "text/plain": [
       "'No, it is me'"
      ]
     },
     "execution_count": 35,
     "metadata": {},
     "output_type": "execute_result"
    },
    {
     "data": {
      "text/plain": [
       "'It is me'"
      ]
     },
     "execution_count": 35,
     "metadata": {},
     "output_type": "execute_result"
    }
   ],
   "source": [
    "x = 'It is me'\n",
    "y = x\n",
    "x\n",
    "y\n",
    "x = 'No, it is me'\n",
    "x\n",
    "y"
   ]
  },
  {
   "cell_type": "code",
   "execution_count": 36,
   "metadata": {
    "ExecuteTime": {
     "end_time": "2018-01-11T01:49:49.940824Z",
     "start_time": "2018-01-11T01:49:49.934225Z"
    }
   },
   "outputs": [],
   "source": [
    "b = a"
   ]
  },
  {
   "cell_type": "code",
   "execution_count": 37,
   "metadata": {
    "ExecuteTime": {
     "end_time": "2018-01-11T01:49:50.238266Z",
     "start_time": "2018-01-11T01:49:50.228571Z"
    }
   },
   "outputs": [
    {
     "data": {
      "text/plain": [
       "1"
      ]
     },
     "execution_count": 37,
     "metadata": {},
     "output_type": "execute_result"
    }
   ],
   "source": [
    "a.pop(0)"
   ]
  },
  {
   "cell_type": "code",
   "execution_count": 38,
   "metadata": {
    "ExecuteTime": {
     "end_time": "2018-01-11T01:49:50.454313Z",
     "start_time": "2018-01-11T01:49:50.440118Z"
    }
   },
   "outputs": [
    {
     "data": {
      "text/plain": [
       "[2, 3, 4, 5, 6, 7, 8, 9, 10]"
      ]
     },
     "execution_count": 38,
     "metadata": {},
     "output_type": "execute_result"
    },
    {
     "data": {
      "text/plain": [
       "[2, 3, 4, 5, 6, 7, 8, 9, 10]"
      ]
     },
     "execution_count": 38,
     "metadata": {},
     "output_type": "execute_result"
    }
   ],
   "source": [
    "a\n",
    "b"
   ]
  },
  {
   "cell_type": "code",
   "execution_count": 39,
   "metadata": {
    "ExecuteTime": {
     "end_time": "2018-01-11T01:49:50.477900Z",
     "start_time": "2018-01-11T01:49:50.458898Z"
    }
   },
   "outputs": [
    {
     "data": {
      "text/plain": [
       "True"
      ]
     },
     "execution_count": 39,
     "metadata": {},
     "output_type": "execute_result"
    },
    {
     "data": {
      "text/plain": [
       "True"
      ]
     },
     "execution_count": 39,
     "metadata": {},
     "output_type": "execute_result"
    }
   ],
   "source": [
    "a == b\n",
    "a is b"
   ]
  },
  {
   "cell_type": "code",
   "execution_count": 40,
   "metadata": {
    "ExecuteTime": {
     "end_time": "2018-01-11T01:49:50.955360Z",
     "start_time": "2018-01-11T01:49:50.931183Z"
    }
   },
   "outputs": [
    {
     "data": {
      "text/plain": [
       "True"
      ]
     },
     "execution_count": 40,
     "metadata": {},
     "output_type": "execute_result"
    },
    {
     "data": {
      "text/plain": [
       "False"
      ]
     },
     "execution_count": 40,
     "metadata": {},
     "output_type": "execute_result"
    }
   ],
   "source": [
    "g = [1,2,3]\n",
    "h = [1,2,3]\n",
    "g == h\n",
    "g is h"
   ]
  },
  {
   "cell_type": "markdown",
   "metadata": {
    "ExecuteTime": {
     "end_time": "2018-01-10T23:53:50.616907Z",
     "start_time": "2018-01-10T23:53:50.608630Z"
    }
   },
   "source": [
    "**Lists** and **dicts** are important data structures that come with Python."
   ]
  },
  {
   "cell_type": "code",
   "execution_count": 41,
   "metadata": {
    "ExecuteTime": {
     "end_time": "2018-01-11T01:49:51.180941Z",
     "start_time": "2018-01-11T01:49:51.172948Z"
    }
   },
   "outputs": [],
   "source": [
    "my_list = [1,2,3,'four','\\\\u4e94']"
   ]
  },
  {
   "cell_type": "code",
   "execution_count": 42,
   "metadata": {
    "ExecuteTime": {
     "end_time": "2018-01-11T01:49:51.410064Z",
     "start_time": "2018-01-11T01:49:51.402754Z"
    }
   },
   "outputs": [
    {
     "data": {
      "text/plain": [
       "[1, 2, 3, 'four', '\\\\u4e94']"
      ]
     },
     "execution_count": 42,
     "metadata": {},
     "output_type": "execute_result"
    }
   ],
   "source": [
    "my_list"
   ]
  },
  {
   "cell_type": "code",
   "execution_count": 43,
   "metadata": {
    "ExecuteTime": {
     "end_time": "2018-01-11T01:49:52.439079Z",
     "start_time": "2018-01-11T01:49:52.428237Z"
    }
   },
   "outputs": [],
   "source": [
    "five = my_list[4].encode('ascii').decode('unicode-escape')"
   ]
  },
  {
   "cell_type": "code",
   "execution_count": 44,
   "metadata": {
    "ExecuteTime": {
     "end_time": "2018-01-11T01:49:52.755993Z",
     "start_time": "2018-01-11T01:49:52.749282Z"
    }
   },
   "outputs": [],
   "source": [
    "my_list[4] = five"
   ]
  },
  {
   "cell_type": "code",
   "execution_count": 45,
   "metadata": {
    "ExecuteTime": {
     "end_time": "2018-01-11T01:49:52.992099Z",
     "start_time": "2018-01-11T01:49:52.981123Z"
    }
   },
   "outputs": [
    {
     "data": {
      "text/plain": [
       "[1, 2, 3, 'four', '五']"
      ]
     },
     "execution_count": 45,
     "metadata": {},
     "output_type": "execute_result"
    }
   ],
   "source": [
    "my_list"
   ]
  },
  {
   "cell_type": "markdown",
   "metadata": {},
   "source": [
    "Use the help to understand how to insert the list `[1,2,3]` on the sixth position of `my_list`"
   ]
  },
  {
   "cell_type": "code",
   "execution_count": 46,
   "metadata": {
    "ExecuteTime": {
     "end_time": "2018-01-11T01:49:53.220429Z",
     "start_time": "2018-01-11T01:49:53.214029Z"
    }
   },
   "outputs": [],
   "source": [
    "?list.insert"
   ]
  },
  {
   "cell_type": "code",
   "execution_count": 47,
   "metadata": {
    "ExecuteTime": {
     "end_time": "2018-01-11T01:49:53.247519Z",
     "start_time": "2018-01-11T01:49:53.227400Z"
    }
   },
   "outputs": [],
   "source": [
    "my_list.insert(6, [1,2,3])"
   ]
  },
  {
   "cell_type": "code",
   "execution_count": 48,
   "metadata": {
    "ExecuteTime": {
     "end_time": "2018-01-11T01:49:53.732017Z",
     "start_time": "2018-01-11T01:49:53.715787Z"
    }
   },
   "outputs": [
    {
     "data": {
      "text/plain": [
       "[1, 2, 3]"
      ]
     },
     "execution_count": 48,
     "metadata": {},
     "output_type": "execute_result"
    }
   ],
   "source": [
    "my_list[-1]"
   ]
  },
  {
   "cell_type": "code",
   "execution_count": 49,
   "metadata": {
    "ExecuteTime": {
     "end_time": "2018-01-11T01:49:53.952949Z",
     "start_time": "2018-01-11T01:49:53.943066Z"
    }
   },
   "outputs": [
    {
     "data": {
      "text/plain": [
       "[[1, 2, 3], '五', 'four', 3, 2, 1]"
      ]
     },
     "execution_count": 49,
     "metadata": {},
     "output_type": "execute_result"
    }
   ],
   "source": [
    "my_list[::-1]"
   ]
  },
  {
   "cell_type": "code",
   "execution_count": 50,
   "metadata": {
    "ExecuteTime": {
     "end_time": "2018-01-11T01:49:54.170036Z",
     "start_time": "2018-01-11T01:49:54.157496Z"
    }
   },
   "outputs": [
    {
     "data": {
      "text/plain": [
       "'五'"
      ]
     },
     "execution_count": 50,
     "metadata": {},
     "output_type": "execute_result"
    },
    {
     "data": {
      "text/plain": [
       "True"
      ]
     },
     "execution_count": 50,
     "metadata": {},
     "output_type": "execute_result"
    }
   ],
   "source": [
    "dict = {'one':1}\n",
    "dict['two']=2\n",
    "dict['five']=my_list[4]\n",
    "dict['five']\n",
    "'five' in dict # has_key in Python 2.7"
   ]
  },
  {
   "cell_type": "markdown",
   "metadata": {},
   "source": [
    "**List comprehension** is a highly useful but somewhat complex concept."
   ]
  },
  {
   "cell_type": "code",
   "execution_count": 57,
   "metadata": {
    "ExecuteTime": {
     "end_time": "2018-01-11T01:56:04.817808Z",
     "start_time": "2018-01-11T01:56:04.808428Z"
    }
   },
   "outputs": [],
   "source": [
    "low_prices = prices['LowQ']\n",
    "quantile = prices['LowQ'].quantile(q=.75)"
   ]
  },
  {
   "cell_type": "code",
   "execution_count": 52,
   "metadata": {
    "ExecuteTime": {
     "end_time": "2018-01-11T01:49:54.730531Z",
     "start_time": "2018-01-11T01:49:54.712430Z"
    }
   },
   "outputs": [
    {
     "data": {
      "text/plain": [
       "6158"
      ]
     },
     "execution_count": 52,
     "metadata": {},
     "output_type": "execute_result"
    }
   ],
   "source": [
    "len([item for item in low_prices if item > median])"
   ]
  },
  {
   "cell_type": "code",
   "execution_count": 58,
   "metadata": {
    "ExecuteTime": {
     "end_time": "2018-01-11T01:56:11.795284Z",
     "start_time": "2018-01-11T01:56:11.786308Z"
    }
   },
   "outputs": [],
   "source": [
    "test = list(map(lambda x: x * 1.2, [item for item in low_prices if item > quantile]))"
   ]
  },
  {
   "cell_type": "code",
   "execution_count": 60,
   "metadata": {
    "ExecuteTime": {
     "end_time": "2018-01-11T01:56:20.885587Z",
     "start_time": "2018-01-11T01:56:20.879672Z"
    }
   },
   "outputs": [
    {
     "data": {
      "text/plain": [
       "3084"
      ]
     },
     "execution_count": 60,
     "metadata": {},
     "output_type": "execute_result"
    }
   ],
   "source": [
    "len(test)"
   ]
  },
  {
   "cell_type": "markdown",
   "metadata": {},
   "source": [
    "**Regular expressions** (regex) are complex but extremely helpful/powerful. The documentation of regex is [here](https://docs.python.org/3/library/re.html#re-syntax)."
   ]
  },
  {
   "cell_type": "code",
   "execution_count": 63,
   "metadata": {
    "ExecuteTime": {
     "end_time": "2018-01-11T02:07:38.312423Z",
     "start_time": "2018-01-11T02:07:38.297216Z"
    }
   },
   "outputs": [
    {
     "data": {
      "text/plain": [
       "['mschermann@scu.edu', 'omis@scu.edu']"
      ]
     },
     "execution_count": 63,
     "metadata": {},
     "output_type": "execute_result"
    }
   ],
   "source": [
    "import re\n",
    "email = re.compile('\\w+@\\w+\\.[a-z]{3}')\n",
    "sentence = \"Somewhere in this sentence are the email-addresses mschermann@scu.edu and omis@scu.edu included. Can you find them?\"\n",
    "email.findall(sentence)"
   ]
  }
 ],
 "metadata": {
  "kernelspec": {
   "display_name": "Python 3",
   "language": "python",
   "name": "python3"
  },
  "language_info": {
   "codemirror_mode": {
    "name": "ipython",
    "version": 3
   },
   "file_extension": ".py",
   "mimetype": "text/x-python",
   "name": "python",
   "nbconvert_exporter": "python",
   "pygments_lexer": "ipython3",
   "version": "3.6.3"
  },
  "toc": {
   "nav_menu": {},
   "number_sections": true,
   "sideBar": true,
   "skip_h1_title": false,
   "toc_cell": false,
   "toc_position": {},
   "toc_section_display": "none",
   "toc_window_display": false
  },
  "varInspector": {
   "cols": {
    "lenName": 16,
    "lenType": 16,
    "lenVar": 40
   },
   "kernels_config": {
    "python": {
     "delete_cmd_postfix": "",
     "delete_cmd_prefix": "del ",
     "library": "var_list.py",
     "varRefreshCmd": "print(var_dic_list())"
    },
    "r": {
     "delete_cmd_postfix": ") ",
     "delete_cmd_prefix": "rm(",
     "library": "var_list.r",
     "varRefreshCmd": "cat(var_dic_list()) "
    }
   },
   "position": {
    "height": "144px",
    "left": "1050.22px",
    "right": "20px",
    "top": "120px",
    "width": "350px"
   },
   "types_to_exclude": [
    "module",
    "function",
    "builtin_function_or_method",
    "instance",
    "_Feature"
   ],
   "window_display": false
  }
 },
 "nbformat": 4,
 "nbformat_minor": 2
}
