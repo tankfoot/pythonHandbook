{
 "cells": [
  {
   "cell_type": "markdown",
   "metadata": {
    "ExecuteTime": {
     "end_time": "2018-01-17T03:08:42.708177Z",
     "start_time": "2018-01-17T03:08:42.702222Z"
    }
   },
   "source": [
    "# Class 5 - Dataframes"
   ]
  },
  {
   "cell_type": "markdown",
   "metadata": {},
   "source": [
    "Let's enable multiple outputs."
   ]
  },
  {
   "cell_type": "code",
   "execution_count": 7,
   "metadata": {
    "ExecuteTime": {
     "end_time": "2018-01-23T21:31:32.317798Z",
     "start_time": "2018-01-23T21:31:32.299906Z"
    }
   },
   "outputs": [],
   "source": [
    "from IPython.core.interactiveshell import InteractiveShell\n",
    "InteractiveShell.ast_node_interactivity = 'all'"
   ]
  },
  {
   "cell_type": "markdown",
   "metadata": {},
   "source": [
    "Let's get the dataset for todays class and enter Westeros ([Source](https://www.kaggle.com/mylesoneill/game-of-thrones)). "
   ]
  },
  {
   "cell_type": "code",
   "execution_count": 78,
   "metadata": {
    "ExecuteTime": {
     "end_time": "2018-01-24T04:24:29.407434Z",
     "start_time": "2018-01-24T04:24:29.273262Z"
    }
   },
   "outputs": [],
   "source": [
    "import pandas as pd\n",
    "url_header = 'https://raw.githubusercontent.com/mschermann/msis2802winter2018classes/master/'\n",
    "battles = pd.read_csv(url_header + 'got_battles.csv', index_col=0)\n",
    "deaths = pd.read_csv(url_header + 'got_character-deaths.csv')"
   ]
  },
  {
   "cell_type": "code",
   "execution_count": 77,
   "metadata": {
    "ExecuteTime": {
     "end_time": "2018-01-24T04:23:18.868533Z",
     "start_time": "2018-01-24T04:23:18.857191Z"
    }
   },
   "outputs": [
    {
     "data": {
      "text/plain": [
       "Int64Index([298, 299, 300], dtype='int64', name='year')"
      ]
     },
     "execution_count": 77,
     "metadata": {},
     "output_type": "execute_result"
    }
   ],
   "source": [
    "battles.index.unique()"
   ]
  },
  {
   "cell_type": "code",
   "execution_count": 71,
   "metadata": {
    "ExecuteTime": {
     "end_time": "2018-01-24T04:14:33.109520Z",
     "start_time": "2018-01-24T04:14:33.049853Z"
    }
   },
   "outputs": [
    {
     "data": {
      "text/html": [
       "<div>\n",
       "<style scoped>\n",
       "    .dataframe tbody tr th:only-of-type {\n",
       "        vertical-align: middle;\n",
       "    }\n",
       "\n",
       "    .dataframe tbody tr th {\n",
       "        vertical-align: top;\n",
       "    }\n",
       "\n",
       "    .dataframe thead th {\n",
       "        text-align: right;\n",
       "    }\n",
       "</style>\n",
       "<table border=\"1\" class=\"dataframe\">\n",
       "  <thead>\n",
       "    <tr style=\"text-align: right;\">\n",
       "      <th></th>\n",
       "      <th>year</th>\n",
       "      <th>battle_number</th>\n",
       "      <th>defender_3</th>\n",
       "      <th>defender_4</th>\n",
       "      <th>major_death</th>\n",
       "      <th>major_capture</th>\n",
       "      <th>attacker_size</th>\n",
       "      <th>defender_size</th>\n",
       "      <th>summer</th>\n",
       "    </tr>\n",
       "  </thead>\n",
       "  <tbody>\n",
       "    <tr>\n",
       "      <th>count</th>\n",
       "      <td>38.000000</td>\n",
       "      <td>38.000000</td>\n",
       "      <td>0.0</td>\n",
       "      <td>0.0</td>\n",
       "      <td>37.000000</td>\n",
       "      <td>37.000000</td>\n",
       "      <td>24.000000</td>\n",
       "      <td>19.000000</td>\n",
       "      <td>37.000000</td>\n",
       "    </tr>\n",
       "    <tr>\n",
       "      <th>mean</th>\n",
       "      <td>299.105263</td>\n",
       "      <td>19.500000</td>\n",
       "      <td>NaN</td>\n",
       "      <td>NaN</td>\n",
       "      <td>0.351351</td>\n",
       "      <td>0.297297</td>\n",
       "      <td>9942.541667</td>\n",
       "      <td>6428.157895</td>\n",
       "      <td>0.702703</td>\n",
       "    </tr>\n",
       "    <tr>\n",
       "      <th>std</th>\n",
       "      <td>0.689280</td>\n",
       "      <td>11.113055</td>\n",
       "      <td>NaN</td>\n",
       "      <td>NaN</td>\n",
       "      <td>0.483978</td>\n",
       "      <td>0.463373</td>\n",
       "      <td>20283.092065</td>\n",
       "      <td>6225.182106</td>\n",
       "      <td>0.463373</td>\n",
       "    </tr>\n",
       "    <tr>\n",
       "      <th>min</th>\n",
       "      <td>298.000000</td>\n",
       "      <td>1.000000</td>\n",
       "      <td>NaN</td>\n",
       "      <td>NaN</td>\n",
       "      <td>0.000000</td>\n",
       "      <td>0.000000</td>\n",
       "      <td>20.000000</td>\n",
       "      <td>100.000000</td>\n",
       "      <td>0.000000</td>\n",
       "    </tr>\n",
       "    <tr>\n",
       "      <th>25%</th>\n",
       "      <td>299.000000</td>\n",
       "      <td>10.250000</td>\n",
       "      <td>NaN</td>\n",
       "      <td>NaN</td>\n",
       "      <td>0.000000</td>\n",
       "      <td>0.000000</td>\n",
       "      <td>1375.000000</td>\n",
       "      <td>1070.000000</td>\n",
       "      <td>0.000000</td>\n",
       "    </tr>\n",
       "    <tr>\n",
       "      <th>50%</th>\n",
       "      <td>299.000000</td>\n",
       "      <td>19.500000</td>\n",
       "      <td>NaN</td>\n",
       "      <td>NaN</td>\n",
       "      <td>0.000000</td>\n",
       "      <td>0.000000</td>\n",
       "      <td>4000.000000</td>\n",
       "      <td>6000.000000</td>\n",
       "      <td>1.000000</td>\n",
       "    </tr>\n",
       "    <tr>\n",
       "      <th>75%</th>\n",
       "      <td>300.000000</td>\n",
       "      <td>28.750000</td>\n",
       "      <td>NaN</td>\n",
       "      <td>NaN</td>\n",
       "      <td>1.000000</td>\n",
       "      <td>1.000000</td>\n",
       "      <td>8250.000000</td>\n",
       "      <td>10000.000000</td>\n",
       "      <td>1.000000</td>\n",
       "    </tr>\n",
       "    <tr>\n",
       "      <th>max</th>\n",
       "      <td>300.000000</td>\n",
       "      <td>38.000000</td>\n",
       "      <td>NaN</td>\n",
       "      <td>NaN</td>\n",
       "      <td>1.000000</td>\n",
       "      <td>1.000000</td>\n",
       "      <td>100000.000000</td>\n",
       "      <td>20000.000000</td>\n",
       "      <td>1.000000</td>\n",
       "    </tr>\n",
       "  </tbody>\n",
       "</table>\n",
       "</div>"
      ],
      "text/plain": [
       "             year  battle_number  defender_3  defender_4  major_death  \\\n",
       "count   38.000000      38.000000         0.0         0.0    37.000000   \n",
       "mean   299.105263      19.500000         NaN         NaN     0.351351   \n",
       "std      0.689280      11.113055         NaN         NaN     0.483978   \n",
       "min    298.000000       1.000000         NaN         NaN     0.000000   \n",
       "25%    299.000000      10.250000         NaN         NaN     0.000000   \n",
       "50%    299.000000      19.500000         NaN         NaN     0.000000   \n",
       "75%    300.000000      28.750000         NaN         NaN     1.000000   \n",
       "max    300.000000      38.000000         NaN         NaN     1.000000   \n",
       "\n",
       "       major_capture  attacker_size  defender_size     summer  \n",
       "count      37.000000      24.000000      19.000000  37.000000  \n",
       "mean        0.297297    9942.541667    6428.157895   0.702703  \n",
       "std         0.463373   20283.092065    6225.182106   0.463373  \n",
       "min         0.000000      20.000000     100.000000   0.000000  \n",
       "25%         0.000000    1375.000000    1070.000000   0.000000  \n",
       "50%         0.000000    4000.000000    6000.000000   1.000000  \n",
       "75%         1.000000    8250.000000   10000.000000   1.000000  \n",
       "max         1.000000  100000.000000   20000.000000   1.000000  "
      ]
     },
     "execution_count": 71,
     "metadata": {},
     "output_type": "execute_result"
    }
   ],
   "source": [
    "battles.describe()"
   ]
  },
  {
   "cell_type": "code",
   "execution_count": 72,
   "metadata": {
    "ExecuteTime": {
     "end_time": "2018-01-24T04:16:39.522531Z",
     "start_time": "2018-01-24T04:16:39.442939Z"
    }
   },
   "outputs": [
    {
     "data": {
      "text/html": [
       "<div>\n",
       "<style scoped>\n",
       "    .dataframe tbody tr th:only-of-type {\n",
       "        vertical-align: middle;\n",
       "    }\n",
       "\n",
       "    .dataframe tbody tr th {\n",
       "        vertical-align: top;\n",
       "    }\n",
       "\n",
       "    .dataframe thead th {\n",
       "        text-align: right;\n",
       "    }\n",
       "</style>\n",
       "<table border=\"1\" class=\"dataframe\">\n",
       "  <thead>\n",
       "    <tr style=\"text-align: right;\">\n",
       "      <th></th>\n",
       "      <th>year</th>\n",
       "      <th>battle_number</th>\n",
       "      <th>attacker_king</th>\n",
       "      <th>defender_king</th>\n",
       "      <th>attacker_1</th>\n",
       "      <th>attacker_2</th>\n",
       "      <th>attacker_3</th>\n",
       "      <th>attacker_4</th>\n",
       "      <th>defender_1</th>\n",
       "      <th>defender_2</th>\n",
       "      <th>...</th>\n",
       "      <th>major_death</th>\n",
       "      <th>major_capture</th>\n",
       "      <th>attacker_size</th>\n",
       "      <th>defender_size</th>\n",
       "      <th>attacker_commander</th>\n",
       "      <th>defender_commander</th>\n",
       "      <th>summer</th>\n",
       "      <th>location</th>\n",
       "      <th>region</th>\n",
       "      <th>note</th>\n",
       "    </tr>\n",
       "    <tr>\n",
       "      <th>name</th>\n",
       "      <th></th>\n",
       "      <th></th>\n",
       "      <th></th>\n",
       "      <th></th>\n",
       "      <th></th>\n",
       "      <th></th>\n",
       "      <th></th>\n",
       "      <th></th>\n",
       "      <th></th>\n",
       "      <th></th>\n",
       "      <th></th>\n",
       "      <th></th>\n",
       "      <th></th>\n",
       "      <th></th>\n",
       "      <th></th>\n",
       "      <th></th>\n",
       "      <th></th>\n",
       "      <th></th>\n",
       "      <th></th>\n",
       "      <th></th>\n",
       "      <th></th>\n",
       "    </tr>\n",
       "  </thead>\n",
       "  <tbody>\n",
       "    <tr>\n",
       "      <th>Battle of the Golden Tooth</th>\n",
       "      <td>298</td>\n",
       "      <td>1</td>\n",
       "      <td>Joffrey/Tommen Baratheon</td>\n",
       "      <td>Robb Stark</td>\n",
       "      <td>Lannister</td>\n",
       "      <td>NaN</td>\n",
       "      <td>NaN</td>\n",
       "      <td>NaN</td>\n",
       "      <td>Tully</td>\n",
       "      <td>NaN</td>\n",
       "      <td>...</td>\n",
       "      <td>1.0</td>\n",
       "      <td>0.0</td>\n",
       "      <td>15000.0</td>\n",
       "      <td>4000.0</td>\n",
       "      <td>Jaime Lannister</td>\n",
       "      <td>Clement Piper, Vance</td>\n",
       "      <td>1.0</td>\n",
       "      <td>Golden Tooth</td>\n",
       "      <td>The Westerlands</td>\n",
       "      <td>NaN</td>\n",
       "    </tr>\n",
       "    <tr>\n",
       "      <th>Battle at the Mummer's Ford</th>\n",
       "      <td>298</td>\n",
       "      <td>2</td>\n",
       "      <td>Joffrey/Tommen Baratheon</td>\n",
       "      <td>Robb Stark</td>\n",
       "      <td>Lannister</td>\n",
       "      <td>NaN</td>\n",
       "      <td>NaN</td>\n",
       "      <td>NaN</td>\n",
       "      <td>Baratheon</td>\n",
       "      <td>NaN</td>\n",
       "      <td>...</td>\n",
       "      <td>1.0</td>\n",
       "      <td>0.0</td>\n",
       "      <td>NaN</td>\n",
       "      <td>120.0</td>\n",
       "      <td>Gregor Clegane</td>\n",
       "      <td>Beric Dondarrion</td>\n",
       "      <td>1.0</td>\n",
       "      <td>Mummer's Ford</td>\n",
       "      <td>The Riverlands</td>\n",
       "      <td>NaN</td>\n",
       "    </tr>\n",
       "    <tr>\n",
       "      <th>Battle of Riverrun</th>\n",
       "      <td>298</td>\n",
       "      <td>3</td>\n",
       "      <td>Joffrey/Tommen Baratheon</td>\n",
       "      <td>Robb Stark</td>\n",
       "      <td>Lannister</td>\n",
       "      <td>NaN</td>\n",
       "      <td>NaN</td>\n",
       "      <td>NaN</td>\n",
       "      <td>Tully</td>\n",
       "      <td>NaN</td>\n",
       "      <td>...</td>\n",
       "      <td>0.0</td>\n",
       "      <td>1.0</td>\n",
       "      <td>15000.0</td>\n",
       "      <td>10000.0</td>\n",
       "      <td>Jaime Lannister, Andros Brax</td>\n",
       "      <td>Edmure Tully, Tytos Blackwood</td>\n",
       "      <td>1.0</td>\n",
       "      <td>Riverrun</td>\n",
       "      <td>The Riverlands</td>\n",
       "      <td>NaN</td>\n",
       "    </tr>\n",
       "    <tr>\n",
       "      <th>Battle of the Green Fork</th>\n",
       "      <td>298</td>\n",
       "      <td>4</td>\n",
       "      <td>Robb Stark</td>\n",
       "      <td>Joffrey/Tommen Baratheon</td>\n",
       "      <td>Stark</td>\n",
       "      <td>NaN</td>\n",
       "      <td>NaN</td>\n",
       "      <td>NaN</td>\n",
       "      <td>Lannister</td>\n",
       "      <td>NaN</td>\n",
       "      <td>...</td>\n",
       "      <td>1.0</td>\n",
       "      <td>1.0</td>\n",
       "      <td>18000.0</td>\n",
       "      <td>20000.0</td>\n",
       "      <td>Roose Bolton, Wylis Manderly, Medger Cerwyn, H...</td>\n",
       "      <td>Tywin Lannister, Gregor Clegane, Kevan Lannist...</td>\n",
       "      <td>1.0</td>\n",
       "      <td>Green Fork</td>\n",
       "      <td>The Riverlands</td>\n",
       "      <td>NaN</td>\n",
       "    </tr>\n",
       "    <tr>\n",
       "      <th>Battle of the Whispering Wood</th>\n",
       "      <td>298</td>\n",
       "      <td>5</td>\n",
       "      <td>Robb Stark</td>\n",
       "      <td>Joffrey/Tommen Baratheon</td>\n",
       "      <td>Stark</td>\n",
       "      <td>Tully</td>\n",
       "      <td>NaN</td>\n",
       "      <td>NaN</td>\n",
       "      <td>Lannister</td>\n",
       "      <td>NaN</td>\n",
       "      <td>...</td>\n",
       "      <td>1.0</td>\n",
       "      <td>1.0</td>\n",
       "      <td>1875.0</td>\n",
       "      <td>6000.0</td>\n",
       "      <td>Robb Stark, Brynden Tully</td>\n",
       "      <td>Jaime Lannister</td>\n",
       "      <td>1.0</td>\n",
       "      <td>Whispering Wood</td>\n",
       "      <td>The Riverlands</td>\n",
       "      <td>NaN</td>\n",
       "    </tr>\n",
       "  </tbody>\n",
       "</table>\n",
       "<p>5 rows × 24 columns</p>\n",
       "</div>"
      ],
      "text/plain": [
       "                               year  battle_number             attacker_king  \\\n",
       "name                                                                           \n",
       "Battle of the Golden Tooth      298              1  Joffrey/Tommen Baratheon   \n",
       "Battle at the Mummer's Ford     298              2  Joffrey/Tommen Baratheon   \n",
       "Battle of Riverrun              298              3  Joffrey/Tommen Baratheon   \n",
       "Battle of the Green Fork        298              4                Robb Stark   \n",
       "Battle of the Whispering Wood   298              5                Robb Stark   \n",
       "\n",
       "                                          defender_king attacker_1 attacker_2  \\\n",
       "name                                                                            \n",
       "Battle of the Golden Tooth                   Robb Stark  Lannister        NaN   \n",
       "Battle at the Mummer's Ford                  Robb Stark  Lannister        NaN   \n",
       "Battle of Riverrun                           Robb Stark  Lannister        NaN   \n",
       "Battle of the Green Fork       Joffrey/Tommen Baratheon      Stark        NaN   \n",
       "Battle of the Whispering Wood  Joffrey/Tommen Baratheon      Stark      Tully   \n",
       "\n",
       "                              attacker_3 attacker_4 defender_1 defender_2  \\\n",
       "name                                                                        \n",
       "Battle of the Golden Tooth           NaN        NaN      Tully        NaN   \n",
       "Battle at the Mummer's Ford          NaN        NaN  Baratheon        NaN   \n",
       "Battle of Riverrun                   NaN        NaN      Tully        NaN   \n",
       "Battle of the Green Fork             NaN        NaN  Lannister        NaN   \n",
       "Battle of the Whispering Wood        NaN        NaN  Lannister        NaN   \n",
       "\n",
       "                              ...   major_death  major_capture attacker_size  \\\n",
       "name                          ...                                              \n",
       "Battle of the Golden Tooth    ...           1.0            0.0       15000.0   \n",
       "Battle at the Mummer's Ford   ...           1.0            0.0           NaN   \n",
       "Battle of Riverrun            ...           0.0            1.0       15000.0   \n",
       "Battle of the Green Fork      ...           1.0            1.0       18000.0   \n",
       "Battle of the Whispering Wood ...           1.0            1.0        1875.0   \n",
       "\n",
       "                              defender_size  \\\n",
       "name                                          \n",
       "Battle of the Golden Tooth           4000.0   \n",
       "Battle at the Mummer's Ford           120.0   \n",
       "Battle of Riverrun                  10000.0   \n",
       "Battle of the Green Fork            20000.0   \n",
       "Battle of the Whispering Wood        6000.0   \n",
       "\n",
       "                                                              attacker_commander  \\\n",
       "name                                                                               \n",
       "Battle of the Golden Tooth                                       Jaime Lannister   \n",
       "Battle at the Mummer's Ford                                       Gregor Clegane   \n",
       "Battle of Riverrun                                  Jaime Lannister, Andros Brax   \n",
       "Battle of the Green Fork       Roose Bolton, Wylis Manderly, Medger Cerwyn, H...   \n",
       "Battle of the Whispering Wood                          Robb Stark, Brynden Tully   \n",
       "\n",
       "                                                              defender_commander  \\\n",
       "name                                                                               \n",
       "Battle of the Golden Tooth                                  Clement Piper, Vance   \n",
       "Battle at the Mummer's Ford                                     Beric Dondarrion   \n",
       "Battle of Riverrun                                 Edmure Tully, Tytos Blackwood   \n",
       "Battle of the Green Fork       Tywin Lannister, Gregor Clegane, Kevan Lannist...   \n",
       "Battle of the Whispering Wood                                    Jaime Lannister   \n",
       "\n",
       "                               summer         location           region note  \n",
       "name                                                                          \n",
       "Battle of the Golden Tooth        1.0     Golden Tooth  The Westerlands  NaN  \n",
       "Battle at the Mummer's Ford       1.0    Mummer's Ford   The Riverlands  NaN  \n",
       "Battle of Riverrun                1.0         Riverrun   The Riverlands  NaN  \n",
       "Battle of the Green Fork          1.0       Green Fork   The Riverlands  NaN  \n",
       "Battle of the Whispering Wood     1.0  Whispering Wood   The Riverlands  NaN  \n",
       "\n",
       "[5 rows x 24 columns]"
      ]
     },
     "execution_count": 72,
     "metadata": {},
     "output_type": "execute_result"
    }
   ],
   "source": [
    "battles.head()"
   ]
  },
  {
   "cell_type": "code",
   "execution_count": 73,
   "metadata": {
    "ExecuteTime": {
     "end_time": "2018-01-24T04:16:49.286870Z",
     "start_time": "2018-01-24T04:16:49.212491Z"
    }
   },
   "outputs": [
    {
     "data": {
      "text/html": [
       "<div>\n",
       "<style scoped>\n",
       "    .dataframe tbody tr th:only-of-type {\n",
       "        vertical-align: middle;\n",
       "    }\n",
       "\n",
       "    .dataframe tbody tr th {\n",
       "        vertical-align: top;\n",
       "    }\n",
       "\n",
       "    .dataframe thead th {\n",
       "        text-align: right;\n",
       "    }\n",
       "</style>\n",
       "<table border=\"1\" class=\"dataframe\">\n",
       "  <thead>\n",
       "    <tr style=\"text-align: right;\">\n",
       "      <th></th>\n",
       "      <th>year</th>\n",
       "      <th>battle_number</th>\n",
       "      <th>attacker_king</th>\n",
       "      <th>defender_king</th>\n",
       "      <th>attacker_1</th>\n",
       "      <th>attacker_2</th>\n",
       "      <th>attacker_3</th>\n",
       "      <th>attacker_4</th>\n",
       "      <th>defender_1</th>\n",
       "      <th>defender_2</th>\n",
       "      <th>...</th>\n",
       "      <th>major_death</th>\n",
       "      <th>major_capture</th>\n",
       "      <th>attacker_size</th>\n",
       "      <th>defender_size</th>\n",
       "      <th>attacker_commander</th>\n",
       "      <th>defender_commander</th>\n",
       "      <th>summer</th>\n",
       "      <th>location</th>\n",
       "      <th>region</th>\n",
       "      <th>note</th>\n",
       "    </tr>\n",
       "    <tr>\n",
       "      <th>name</th>\n",
       "      <th></th>\n",
       "      <th></th>\n",
       "      <th></th>\n",
       "      <th></th>\n",
       "      <th></th>\n",
       "      <th></th>\n",
       "      <th></th>\n",
       "      <th></th>\n",
       "      <th></th>\n",
       "      <th></th>\n",
       "      <th></th>\n",
       "      <th></th>\n",
       "      <th></th>\n",
       "      <th></th>\n",
       "      <th></th>\n",
       "      <th></th>\n",
       "      <th></th>\n",
       "      <th></th>\n",
       "      <th></th>\n",
       "      <th></th>\n",
       "      <th></th>\n",
       "    </tr>\n",
       "  </thead>\n",
       "  <tbody>\n",
       "    <tr>\n",
       "      <th>Second Seige of Storm's End</th>\n",
       "      <td>300</td>\n",
       "      <td>34</td>\n",
       "      <td>Joffrey/Tommen Baratheon</td>\n",
       "      <td>Stannis Baratheon</td>\n",
       "      <td>Baratheon</td>\n",
       "      <td>NaN</td>\n",
       "      <td>NaN</td>\n",
       "      <td>NaN</td>\n",
       "      <td>Baratheon</td>\n",
       "      <td>NaN</td>\n",
       "      <td>...</td>\n",
       "      <td>0.0</td>\n",
       "      <td>0.0</td>\n",
       "      <td>NaN</td>\n",
       "      <td>200.0</td>\n",
       "      <td>Mace Tyrell, Mathis Rowan</td>\n",
       "      <td>Gilbert Farring</td>\n",
       "      <td>0.0</td>\n",
       "      <td>Storm's End</td>\n",
       "      <td>The Stormlands</td>\n",
       "      <td>NaN</td>\n",
       "    </tr>\n",
       "    <tr>\n",
       "      <th>Siege of Dragonstone</th>\n",
       "      <td>300</td>\n",
       "      <td>35</td>\n",
       "      <td>Joffrey/Tommen Baratheon</td>\n",
       "      <td>Stannis Baratheon</td>\n",
       "      <td>Baratheon</td>\n",
       "      <td>NaN</td>\n",
       "      <td>NaN</td>\n",
       "      <td>NaN</td>\n",
       "      <td>Baratheon</td>\n",
       "      <td>NaN</td>\n",
       "      <td>...</td>\n",
       "      <td>0.0</td>\n",
       "      <td>0.0</td>\n",
       "      <td>2000.0</td>\n",
       "      <td>NaN</td>\n",
       "      <td>Loras Tyrell, Raxter Redwyne</td>\n",
       "      <td>Rolland Storm</td>\n",
       "      <td>0.0</td>\n",
       "      <td>Dragonstone</td>\n",
       "      <td>The Stormlands</td>\n",
       "      <td>NaN</td>\n",
       "    </tr>\n",
       "    <tr>\n",
       "      <th>Siege of Riverrun</th>\n",
       "      <td>300</td>\n",
       "      <td>36</td>\n",
       "      <td>Joffrey/Tommen Baratheon</td>\n",
       "      <td>Robb Stark</td>\n",
       "      <td>Lannister</td>\n",
       "      <td>Frey</td>\n",
       "      <td>NaN</td>\n",
       "      <td>NaN</td>\n",
       "      <td>Tully</td>\n",
       "      <td>NaN</td>\n",
       "      <td>...</td>\n",
       "      <td>0.0</td>\n",
       "      <td>0.0</td>\n",
       "      <td>3000.0</td>\n",
       "      <td>NaN</td>\n",
       "      <td>Daven Lannister, Ryman Fey, Jaime Lannister</td>\n",
       "      <td>Brynden Tully</td>\n",
       "      <td>0.0</td>\n",
       "      <td>Riverrun</td>\n",
       "      <td>The Riverlands</td>\n",
       "      <td>NaN</td>\n",
       "    </tr>\n",
       "    <tr>\n",
       "      <th>Siege of Raventree</th>\n",
       "      <td>300</td>\n",
       "      <td>37</td>\n",
       "      <td>Joffrey/Tommen Baratheon</td>\n",
       "      <td>Robb Stark</td>\n",
       "      <td>Bracken</td>\n",
       "      <td>Lannister</td>\n",
       "      <td>NaN</td>\n",
       "      <td>NaN</td>\n",
       "      <td>Blackwood</td>\n",
       "      <td>NaN</td>\n",
       "      <td>...</td>\n",
       "      <td>0.0</td>\n",
       "      <td>1.0</td>\n",
       "      <td>1500.0</td>\n",
       "      <td>NaN</td>\n",
       "      <td>Jonos Bracken, Jaime Lannister</td>\n",
       "      <td>Tytos Blackwood</td>\n",
       "      <td>0.0</td>\n",
       "      <td>Raventree</td>\n",
       "      <td>The Riverlands</td>\n",
       "      <td>NaN</td>\n",
       "    </tr>\n",
       "    <tr>\n",
       "      <th>Siege of Winterfell</th>\n",
       "      <td>300</td>\n",
       "      <td>38</td>\n",
       "      <td>Stannis Baratheon</td>\n",
       "      <td>Joffrey/Tommen Baratheon</td>\n",
       "      <td>Baratheon</td>\n",
       "      <td>Karstark</td>\n",
       "      <td>Mormont</td>\n",
       "      <td>Glover</td>\n",
       "      <td>Bolton</td>\n",
       "      <td>Frey</td>\n",
       "      <td>...</td>\n",
       "      <td>NaN</td>\n",
       "      <td>NaN</td>\n",
       "      <td>5000.0</td>\n",
       "      <td>8000.0</td>\n",
       "      <td>Stannis Baratheon</td>\n",
       "      <td>Roose Bolton</td>\n",
       "      <td>0.0</td>\n",
       "      <td>Winterfell</td>\n",
       "      <td>The North</td>\n",
       "      <td>NaN</td>\n",
       "    </tr>\n",
       "  </tbody>\n",
       "</table>\n",
       "<p>5 rows × 24 columns</p>\n",
       "</div>"
      ],
      "text/plain": [
       "                             year  battle_number             attacker_king  \\\n",
       "name                                                                         \n",
       "Second Seige of Storm's End   300             34  Joffrey/Tommen Baratheon   \n",
       "Siege of Dragonstone          300             35  Joffrey/Tommen Baratheon   \n",
       "Siege of Riverrun             300             36  Joffrey/Tommen Baratheon   \n",
       "Siege of Raventree            300             37  Joffrey/Tommen Baratheon   \n",
       "Siege of Winterfell           300             38         Stannis Baratheon   \n",
       "\n",
       "                                        defender_king attacker_1 attacker_2  \\\n",
       "name                                                                          \n",
       "Second Seige of Storm's End         Stannis Baratheon  Baratheon        NaN   \n",
       "Siege of Dragonstone                Stannis Baratheon  Baratheon        NaN   \n",
       "Siege of Riverrun                          Robb Stark  Lannister       Frey   \n",
       "Siege of Raventree                         Robb Stark    Bracken  Lannister   \n",
       "Siege of Winterfell          Joffrey/Tommen Baratheon  Baratheon   Karstark   \n",
       "\n",
       "                            attacker_3 attacker_4 defender_1 defender_2 ...   \\\n",
       "name                                                                    ...    \n",
       "Second Seige of Storm's End        NaN        NaN  Baratheon        NaN ...    \n",
       "Siege of Dragonstone               NaN        NaN  Baratheon        NaN ...    \n",
       "Siege of Riverrun                  NaN        NaN      Tully        NaN ...    \n",
       "Siege of Raventree                 NaN        NaN  Blackwood        NaN ...    \n",
       "Siege of Winterfell            Mormont     Glover     Bolton       Frey ...    \n",
       "\n",
       "                             major_death  major_capture attacker_size  \\\n",
       "name                                                                    \n",
       "Second Seige of Storm's End          0.0            0.0           NaN   \n",
       "Siege of Dragonstone                 0.0            0.0        2000.0   \n",
       "Siege of Riverrun                    0.0            0.0        3000.0   \n",
       "Siege of Raventree                   0.0            1.0        1500.0   \n",
       "Siege of Winterfell                  NaN            NaN        5000.0   \n",
       "\n",
       "                            defender_size  \\\n",
       "name                                        \n",
       "Second Seige of Storm's End         200.0   \n",
       "Siege of Dragonstone                  NaN   \n",
       "Siege of Riverrun                     NaN   \n",
       "Siege of Raventree                    NaN   \n",
       "Siege of Winterfell                8000.0   \n",
       "\n",
       "                                                      attacker_commander  \\\n",
       "name                                                                       \n",
       "Second Seige of Storm's End                    Mace Tyrell, Mathis Rowan   \n",
       "Siege of Dragonstone                        Loras Tyrell, Raxter Redwyne   \n",
       "Siege of Riverrun            Daven Lannister, Ryman Fey, Jaime Lannister   \n",
       "Siege of Raventree                        Jonos Bracken, Jaime Lannister   \n",
       "Siege of Winterfell                                    Stannis Baratheon   \n",
       "\n",
       "                             defender_commander  summer     location  \\\n",
       "name                                                                   \n",
       "Second Seige of Storm's End     Gilbert Farring     0.0  Storm's End   \n",
       "Siege of Dragonstone              Rolland Storm     0.0  Dragonstone   \n",
       "Siege of Riverrun                 Brynden Tully     0.0     Riverrun   \n",
       "Siege of Raventree              Tytos Blackwood     0.0    Raventree   \n",
       "Siege of Winterfell                Roose Bolton     0.0   Winterfell   \n",
       "\n",
       "                                     region note  \n",
       "name                                              \n",
       "Second Seige of Storm's End  The Stormlands  NaN  \n",
       "Siege of Dragonstone         The Stormlands  NaN  \n",
       "Siege of Riverrun            The Riverlands  NaN  \n",
       "Siege of Raventree           The Riverlands  NaN  \n",
       "Siege of Winterfell               The North  NaN  \n",
       "\n",
       "[5 rows x 24 columns]"
      ]
     },
     "execution_count": 73,
     "metadata": {},
     "output_type": "execute_result"
    }
   ],
   "source": [
    "battles.tail()"
   ]
  },
  {
   "cell_type": "code",
   "execution_count": 74,
   "metadata": {
    "ExecuteTime": {
     "end_time": "2018-01-24T04:19:21.367255Z",
     "start_time": "2018-01-24T04:19:21.356119Z"
    }
   },
   "outputs": [
    {
     "data": {
      "text/plain": [
       "Index(['year', 'battle_number', 'attacker_king', 'defender_king', 'attacker_1',\n",
       "       'attacker_2', 'attacker_3', 'attacker_4', 'defender_1', 'defender_2',\n",
       "       'defender_3', 'defender_4', 'attacker_outcome', 'battle_type',\n",
       "       'major_death', 'major_capture', 'attacker_size', 'defender_size',\n",
       "       'attacker_commander', 'defender_commander', 'summer', 'location',\n",
       "       'region', 'note'],\n",
       "      dtype='object')"
      ]
     },
     "execution_count": 74,
     "metadata": {},
     "output_type": "execute_result"
    }
   ],
   "source": [
    "battles.columns"
   ]
  },
  {
   "cell_type": "code",
   "execution_count": 85,
   "metadata": {
    "ExecuteTime": {
     "end_time": "2018-01-24T04:33:53.103464Z",
     "start_time": "2018-01-24T04:33:53.091467Z"
    }
   },
   "outputs": [
    {
     "data": {
      "text/plain": [
       "attacker_1    Lannister\n",
       "attacker_2          NaN\n",
       "attacker_3          NaN\n",
       "attacker_4          NaN\n",
       "Name: Battle of the Golden Tooth, dtype: object"
      ]
     },
     "execution_count": 85,
     "metadata": {},
     "output_type": "execute_result"
    }
   ],
   "source": [
    "battles.iloc[0,4:8]"
   ]
  },
  {
   "cell_type": "code",
   "execution_count": 80,
   "metadata": {
    "ExecuteTime": {
     "end_time": "2018-01-24T04:28:55.976643Z",
     "start_time": "2018-01-24T04:28:55.962661Z"
    }
   },
   "outputs": [
    {
     "data": {
      "text/plain": [
       "year                                       298\n",
       "battle_number                                1\n",
       "attacker_king         Joffrey/Tommen Baratheon\n",
       "defender_king                       Robb Stark\n",
       "attacker_1                           Lannister\n",
       "attacker_2                                 NaN\n",
       "attacker_3                                 NaN\n",
       "attacker_4                                 NaN\n",
       "defender_1                               Tully\n",
       "defender_2                                 NaN\n",
       "defender_3                                 NaN\n",
       "defender_4                                 NaN\n",
       "attacker_outcome                           win\n",
       "battle_type                     pitched battle\n",
       "major_death                                  1\n",
       "major_capture                                0\n",
       "attacker_size                            15000\n",
       "defender_size                             4000\n",
       "attacker_commander             Jaime Lannister\n",
       "defender_commander        Clement Piper, Vance\n",
       "summer                                       1\n",
       "location                          Golden Tooth\n",
       "region                         The Westerlands\n",
       "note                                       NaN\n",
       "Name: Battle of the Golden Tooth, dtype: object"
      ]
     },
     "execution_count": 80,
     "metadata": {},
     "output_type": "execute_result"
    }
   ],
   "source": [
    "battles.iloc[0]"
   ]
  },
  {
   "cell_type": "code",
   "execution_count": 86,
   "metadata": {
    "ExecuteTime": {
     "end_time": "2018-01-24T04:35:34.466117Z",
     "start_time": "2018-01-24T04:35:34.453806Z"
    }
   },
   "outputs": [
    {
     "data": {
      "text/plain": [
       "name\n",
       "Battle of the Golden Tooth                              Joffrey/Tommen Baratheon\n",
       "Battle at the Mummer's Ford                             Joffrey/Tommen Baratheon\n",
       "Battle of Riverrun                                      Joffrey/Tommen Baratheon\n",
       "Battle of the Green Fork                                              Robb Stark\n",
       "Battle of the Whispering Wood                                         Robb Stark\n",
       "Battle of the Camps                                                   Robb Stark\n",
       "Sack of Darry                                           Joffrey/Tommen Baratheon\n",
       "Battle of Moat Cailin                                        Balon/Euron Greyjoy\n",
       "Battle of Deepwood Motte                                     Balon/Euron Greyjoy\n",
       "Battle of the Stony Shore                                    Balon/Euron Greyjoy\n",
       "Battle of Torrhen's Square                                            Robb Stark\n",
       "Battle of Winterfell                                         Balon/Euron Greyjoy\n",
       "Sack of Torrhen's Square                                     Balon/Euron Greyjoy\n",
       "Sack of Winterfell                                      Joffrey/Tommen Baratheon\n",
       "Battle of Oxcross                                                     Robb Stark\n",
       "Siege of Storm's End                                           Stannis Baratheon\n",
       "Battle of the Fords                                     Joffrey/Tommen Baratheon\n",
       "Sack of Harrenhal                                                     Robb Stark\n",
       "Battle of the Crag                                                    Robb Stark\n",
       "Battle of the Blackwater                                       Stannis Baratheon\n",
       "Siege of Darry                                                        Robb Stark\n",
       "Battle of Duskendale                                                  Robb Stark\n",
       "Battle of the Burning Septry                                                 NaN\n",
       "Battle of the Ruby Ford                                 Joffrey/Tommen Baratheon\n",
       "Retaking of Harrenhal                                   Joffrey/Tommen Baratheon\n",
       "The Red Wedding                                         Joffrey/Tommen Baratheon\n",
       "Siege of Seagard                                                      Robb Stark\n",
       "Battle of Castle Black                                         Stannis Baratheon\n",
       "Fall of Moat Cailin                                     Joffrey/Tommen Baratheon\n",
       "Sack of Saltpans                                                             NaN\n",
       "Retaking of Deepwood Motte                                     Stannis Baratheon\n",
       "Battle of the Shield Islands                                 Balon/Euron Greyjoy\n",
       "Invasion of Ryamsport, Vinetown, and Starfish Harbor         Balon/Euron Greyjoy\n",
       "Second Seige of Storm's End                             Joffrey/Tommen Baratheon\n",
       "Siege of Dragonstone                                    Joffrey/Tommen Baratheon\n",
       "Siege of Riverrun                                       Joffrey/Tommen Baratheon\n",
       "Siege of Raventree                                      Joffrey/Tommen Baratheon\n",
       "Siege of Winterfell                                            Stannis Baratheon\n",
       "Name: attacker_king, dtype: object"
      ]
     },
     "execution_count": 86,
     "metadata": {},
     "output_type": "execute_result"
    }
   ],
   "source": [
    "battles.iloc[:,2]"
   ]
  },
  {
   "cell_type": "code",
   "execution_count": 88,
   "metadata": {
    "ExecuteTime": {
     "end_time": "2018-01-24T04:38:02.006439Z",
     "start_time": "2018-01-24T04:38:01.983255Z"
    }
   },
   "outputs": [
    {
     "data": {
      "text/html": [
       "<div>\n",
       "<style scoped>\n",
       "    .dataframe tbody tr th:only-of-type {\n",
       "        vertical-align: middle;\n",
       "    }\n",
       "\n",
       "    .dataframe tbody tr th {\n",
       "        vertical-align: top;\n",
       "    }\n",
       "\n",
       "    .dataframe thead th {\n",
       "        text-align: right;\n",
       "    }\n",
       "</style>\n",
       "<table border=\"1\" class=\"dataframe\">\n",
       "  <thead>\n",
       "    <tr style=\"text-align: right;\">\n",
       "      <th></th>\n",
       "      <th>attacker_1</th>\n",
       "      <th>attacker_2</th>\n",
       "    </tr>\n",
       "    <tr>\n",
       "      <th>name</th>\n",
       "      <th></th>\n",
       "      <th></th>\n",
       "    </tr>\n",
       "  </thead>\n",
       "  <tbody>\n",
       "    <tr>\n",
       "      <th>Battle at the Mummer's Ford</th>\n",
       "      <td>Lannister</td>\n",
       "      <td>NaN</td>\n",
       "    </tr>\n",
       "    <tr>\n",
       "      <th>Battle of Riverrun</th>\n",
       "      <td>Lannister</td>\n",
       "      <td>NaN</td>\n",
       "    </tr>\n",
       "    <tr>\n",
       "      <th>Battle of the Green Fork</th>\n",
       "      <td>Stark</td>\n",
       "      <td>NaN</td>\n",
       "    </tr>\n",
       "  </tbody>\n",
       "</table>\n",
       "</div>"
      ],
      "text/plain": [
       "                            attacker_1 attacker_2\n",
       "name                                             \n",
       "Battle at the Mummer's Ford  Lannister        NaN\n",
       "Battle of Riverrun           Lannister        NaN\n",
       "Battle of the Green Fork         Stark        NaN"
      ]
     },
     "execution_count": 88,
     "metadata": {},
     "output_type": "execute_result"
    }
   ],
   "source": [
    "battles.iloc[1:4,4:6]"
   ]
  },
  {
   "cell_type": "code",
   "execution_count": 89,
   "metadata": {
    "ExecuteTime": {
     "end_time": "2018-01-24T04:39:54.762007Z",
     "start_time": "2018-01-24T04:39:54.748982Z"
    }
   },
   "outputs": [
    {
     "data": {
      "text/plain": [
       "3"
      ]
     },
     "execution_count": 89,
     "metadata": {},
     "output_type": "execute_result"
    }
   ],
   "source": [
    "battles.iloc[2,1]"
   ]
  },
  {
   "cell_type": "code",
   "execution_count": 98,
   "metadata": {
    "ExecuteTime": {
     "end_time": "2018-01-24T04:47:12.641573Z",
     "start_time": "2018-01-24T04:47:12.626706Z"
    }
   },
   "outputs": [
    {
     "data": {
      "text/plain": [
       "name\n",
       "Battle of the Golden Tooth                               win\n",
       "Battle at the Mummer's Ford                              win\n",
       "Battle of Riverrun                                       win\n",
       "Battle of the Green Fork                                loss\n",
       "Battle of the Whispering Wood                            win\n",
       "Battle of the Camps                                      win\n",
       "Sack of Darry                                            win\n",
       "Battle of Moat Cailin                                    win\n",
       "Battle of Deepwood Motte                                 win\n",
       "Battle of the Stony Shore                                win\n",
       "Battle of Torrhen's Square                               win\n",
       "Battle of Winterfell                                     win\n",
       "Sack of Torrhen's Square                                 win\n",
       "Sack of Winterfell                                       win\n",
       "Battle of Oxcross                                        win\n",
       "Siege of Storm's End                                     win\n",
       "Battle of the Fords                                     loss\n",
       "Sack of Harrenhal                                        win\n",
       "Battle of the Crag                                       win\n",
       "Battle of the Blackwater                                loss\n",
       "Siege of Darry                                           win\n",
       "Battle of Duskendale                                    loss\n",
       "Battle of the Burning Septry                             win\n",
       "Battle of the Ruby Ford                                  win\n",
       "Retaking of Harrenhal                                    win\n",
       "The Red Wedding                                          win\n",
       "Siege of Seagard                                         win\n",
       "Battle of Castle Black                                  loss\n",
       "Fall of Moat Cailin                                      win\n",
       "Sack of Saltpans                                         win\n",
       "Retaking of Deepwood Motte                               win\n",
       "Battle of the Shield Islands                             win\n",
       "Invasion of Ryamsport, Vinetown, and Starfish Harbor     win\n",
       "Second Seige of Storm's End                              win\n",
       "Siege of Dragonstone                                     win\n",
       "Siege of Riverrun                                        win\n",
       "Siege of Raventree                                       win\n",
       "Siege of Winterfell                                      NaN\n",
       "Name: attacker_outcome, dtype: object"
      ]
     },
     "execution_count": 98,
     "metadata": {},
     "output_type": "execute_result"
    }
   ],
   "source": [
    "battles.loc[:,'attacker_outcome']"
   ]
  },
  {
   "cell_type": "code",
   "execution_count": 110,
   "metadata": {
    "ExecuteTime": {
     "end_time": "2018-01-24T05:01:06.956708Z",
     "start_time": "2018-01-24T05:01:06.949447Z"
    }
   },
   "outputs": [
    {
     "data": {
      "text/plain": [
       "'win'"
      ]
     },
     "execution_count": 110,
     "metadata": {},
     "output_type": "execute_result"
    }
   ],
   "source": [
    "battles['attacker_outcome'][0]"
   ]
  },
  {
   "cell_type": "code",
   "execution_count": 109,
   "metadata": {
    "ExecuteTime": {
     "end_time": "2018-01-24T05:00:09.566789Z",
     "start_time": "2018-01-24T05:00:09.540326Z"
    }
   },
   "outputs": [
    {
     "data": {
      "text/html": [
       "<div>\n",
       "<style scoped>\n",
       "    .dataframe tbody tr th:only-of-type {\n",
       "        vertical-align: middle;\n",
       "    }\n",
       "\n",
       "    .dataframe tbody tr th {\n",
       "        vertical-align: top;\n",
       "    }\n",
       "\n",
       "    .dataframe thead th {\n",
       "        text-align: right;\n",
       "    }\n",
       "</style>\n",
       "<table border=\"1\" class=\"dataframe\">\n",
       "  <thead>\n",
       "    <tr style=\"text-align: right;\">\n",
       "      <th></th>\n",
       "      <th>attacker_1</th>\n",
       "      <th>attacker_2</th>\n",
       "      <th>attacker_3</th>\n",
       "      <th>attacker_4</th>\n",
       "    </tr>\n",
       "    <tr>\n",
       "      <th>name</th>\n",
       "      <th></th>\n",
       "      <th></th>\n",
       "      <th></th>\n",
       "      <th></th>\n",
       "    </tr>\n",
       "  </thead>\n",
       "  <tbody>\n",
       "    <tr>\n",
       "      <th>Sack of Darry</th>\n",
       "      <td>Lannister</td>\n",
       "      <td>NaN</td>\n",
       "      <td>NaN</td>\n",
       "      <td>NaN</td>\n",
       "    </tr>\n",
       "    <tr>\n",
       "      <th>Sack of Torrhen's Square</th>\n",
       "      <td>Greyjoy</td>\n",
       "      <td>NaN</td>\n",
       "      <td>NaN</td>\n",
       "      <td>NaN</td>\n",
       "    </tr>\n",
       "    <tr>\n",
       "      <th>Sack of Winterfell</th>\n",
       "      <td>Bolton</td>\n",
       "      <td>Greyjoy</td>\n",
       "      <td>NaN</td>\n",
       "      <td>NaN</td>\n",
       "    </tr>\n",
       "    <tr>\n",
       "      <th>Siege of Storm's End</th>\n",
       "      <td>Baratheon</td>\n",
       "      <td>NaN</td>\n",
       "      <td>NaN</td>\n",
       "      <td>NaN</td>\n",
       "    </tr>\n",
       "    <tr>\n",
       "      <th>Sack of Harrenhal</th>\n",
       "      <td>Stark</td>\n",
       "      <td>NaN</td>\n",
       "      <td>NaN</td>\n",
       "      <td>NaN</td>\n",
       "    </tr>\n",
       "    <tr>\n",
       "      <th>Siege of Darry</th>\n",
       "      <td>Darry</td>\n",
       "      <td>NaN</td>\n",
       "      <td>NaN</td>\n",
       "      <td>NaN</td>\n",
       "    </tr>\n",
       "    <tr>\n",
       "      <th>The Red Wedding</th>\n",
       "      <td>Frey</td>\n",
       "      <td>Bolton</td>\n",
       "      <td>NaN</td>\n",
       "      <td>NaN</td>\n",
       "    </tr>\n",
       "    <tr>\n",
       "      <th>Siege of Seagard</th>\n",
       "      <td>Frey</td>\n",
       "      <td>NaN</td>\n",
       "      <td>NaN</td>\n",
       "      <td>NaN</td>\n",
       "    </tr>\n",
       "    <tr>\n",
       "      <th>Sack of Saltpans</th>\n",
       "      <td>Brave Companions</td>\n",
       "      <td>NaN</td>\n",
       "      <td>NaN</td>\n",
       "      <td>NaN</td>\n",
       "    </tr>\n",
       "    <tr>\n",
       "      <th>Second Seige of Storm's End</th>\n",
       "      <td>Baratheon</td>\n",
       "      <td>NaN</td>\n",
       "      <td>NaN</td>\n",
       "      <td>NaN</td>\n",
       "    </tr>\n",
       "    <tr>\n",
       "      <th>Siege of Dragonstone</th>\n",
       "      <td>Baratheon</td>\n",
       "      <td>NaN</td>\n",
       "      <td>NaN</td>\n",
       "      <td>NaN</td>\n",
       "    </tr>\n",
       "    <tr>\n",
       "      <th>Siege of Riverrun</th>\n",
       "      <td>Lannister</td>\n",
       "      <td>Frey</td>\n",
       "      <td>NaN</td>\n",
       "      <td>NaN</td>\n",
       "    </tr>\n",
       "    <tr>\n",
       "      <th>Siege of Raventree</th>\n",
       "      <td>Bracken</td>\n",
       "      <td>Lannister</td>\n",
       "      <td>NaN</td>\n",
       "      <td>NaN</td>\n",
       "    </tr>\n",
       "    <tr>\n",
       "      <th>Siege of Winterfell</th>\n",
       "      <td>Baratheon</td>\n",
       "      <td>Karstark</td>\n",
       "      <td>Mormont</td>\n",
       "      <td>Glover</td>\n",
       "    </tr>\n",
       "  </tbody>\n",
       "</table>\n",
       "</div>"
      ],
      "text/plain": [
       "                                   attacker_1 attacker_2 attacker_3 attacker_4\n",
       "name                                                                          \n",
       "Sack of Darry                       Lannister        NaN        NaN        NaN\n",
       "Sack of Torrhen's Square              Greyjoy        NaN        NaN        NaN\n",
       "Sack of Winterfell                     Bolton    Greyjoy        NaN        NaN\n",
       "Siege of Storm's End                Baratheon        NaN        NaN        NaN\n",
       "Sack of Harrenhal                       Stark        NaN        NaN        NaN\n",
       "Siege of Darry                          Darry        NaN        NaN        NaN\n",
       "The Red Wedding                          Frey     Bolton        NaN        NaN\n",
       "Siege of Seagard                         Frey        NaN        NaN        NaN\n",
       "Sack of Saltpans             Brave Companions        NaN        NaN        NaN\n",
       "Second Seige of Storm's End         Baratheon        NaN        NaN        NaN\n",
       "Siege of Dragonstone                Baratheon        NaN        NaN        NaN\n",
       "Siege of Riverrun                   Lannister       Frey        NaN        NaN\n",
       "Siege of Raventree                    Bracken  Lannister        NaN        NaN\n",
       "Siege of Winterfell                 Baratheon   Karstark    Mormont     Glover"
      ]
     },
     "execution_count": 109,
     "metadata": {},
     "output_type": "execute_result"
    }
   ],
   "source": [
    "battles.loc[battles.index >= 'S','attacker_1':'attacker_4']"
   ]
  },
  {
   "cell_type": "code",
   "execution_count": 108,
   "metadata": {
    "ExecuteTime": {
     "end_time": "2018-01-24T04:58:29.521623Z",
     "start_time": "2018-01-24T04:58:29.502818Z"
    }
   },
   "outputs": [
    {
     "data": {
      "text/plain": [
       "battle_number      1\n",
       "year             298\n",
       "Name: Battle of the Golden Tooth, dtype: object"
      ]
     },
     "execution_count": 108,
     "metadata": {},
     "output_type": "execute_result"
    }
   ],
   "source": [
    "battles.iloc[0,0:5:-1]"
   ]
  },
  {
   "cell_type": "code",
   "execution_count": null,
   "metadata": {},
   "outputs": [],
   "source": []
  }
 ],
 "metadata": {
  "kernelspec": {
   "display_name": "Python 3",
   "language": "python",
   "name": "python3"
  },
  "language_info": {
   "codemirror_mode": {
    "name": "ipython",
    "version": 3
   },
   "file_extension": ".py",
   "mimetype": "text/x-python",
   "name": "python",
   "nbconvert_exporter": "python",
   "pygments_lexer": "ipython3",
   "version": "3.6.3"
  },
  "toc": {
   "nav_menu": {},
   "number_sections": true,
   "sideBar": true,
   "skip_h1_title": false,
   "toc_cell": false,
   "toc_position": {},
   "toc_section_display": "block",
   "toc_window_display": false
  },
  "varInspector": {
   "cols": {
    "lenName": 16,
    "lenType": 16,
    "lenVar": 40
   },
   "kernels_config": {
    "python": {
     "delete_cmd_postfix": "",
     "delete_cmd_prefix": "del ",
     "library": "var_list.py",
     "varRefreshCmd": "print(var_dic_list())"
    },
    "r": {
     "delete_cmd_postfix": ") ",
     "delete_cmd_prefix": "rm(",
     "library": "var_list.r",
     "varRefreshCmd": "cat(var_dic_list()) "
    }
   },
   "types_to_exclude": [
    "module",
    "function",
    "builtin_function_or_method",
    "instance",
    "_Feature"
   ],
   "window_display": false
  }
 },
 "nbformat": 4,
 "nbformat_minor": 2
}
