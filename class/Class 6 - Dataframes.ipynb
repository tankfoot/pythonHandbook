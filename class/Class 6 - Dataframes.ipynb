{
 "cells": [
  {
   "cell_type": "markdown",
   "metadata": {
    "ExecuteTime": {
     "end_time": "2018-01-17T03:08:42.708177Z",
     "start_time": "2018-01-17T03:08:42.702222Z"
    }
   },
   "source": [
    "# Class 6 - Dataframes II (Calculations, Grouping, Aggregation)"
   ]
  },
  {
   "cell_type": "markdown",
   "metadata": {},
   "source": [
    "## Our discussion so far..."
   ]
  },
  {
   "cell_type": "markdown",
   "metadata": {},
   "source": [
    "Let's enable multiple outputs."
   ]
  },
  {
   "cell_type": "code",
   "execution_count": 90,
   "metadata": {
    "ExecuteTime": {
     "end_time": "2018-01-26T03:45:23.016456Z",
     "start_time": "2018-01-26T03:45:23.012140Z"
    }
   },
   "outputs": [],
   "source": [
    "from IPython.core.interactiveshell import InteractiveShell\n",
    "InteractiveShell.ast_node_interactivity = 'all'"
   ]
  },
  {
   "cell_type": "markdown",
   "metadata": {},
   "source": [
    "Let's get the dataset for todays class and enter Westeros ([Source](https://www.kaggle.com/mylesoneill/game-of-thrones)). "
   ]
  },
  {
   "cell_type": "code",
   "execution_count": 91,
   "metadata": {
    "ExecuteTime": {
     "end_time": "2018-01-26T03:45:25.283492Z",
     "start_time": "2018-01-26T03:45:25.037904Z"
    }
   },
   "outputs": [],
   "source": [
    "import pandas as pd\n",
    "url_header = 'https://raw.githubusercontent.com/mschermann/msis2802winter2018classes/master/'\n",
    "battles = pd.read_csv(url_header + 'got_battles.csv', index_col=0)\n",
    "deaths = pd.read_csv(url_header + 'got_character-deaths.csv')"
   ]
  },
  {
   "cell_type": "code",
   "execution_count": null,
   "metadata": {
    "ExecuteTime": {
     "end_time": "2018-01-24T04:23:18.868533Z",
     "start_time": "2018-01-24T04:23:18.857191Z"
    }
   },
   "outputs": [],
   "source": [
    "battles.index.unique()"
   ]
  },
  {
   "cell_type": "code",
   "execution_count": null,
   "metadata": {
    "ExecuteTime": {
     "end_time": "2018-01-24T04:14:33.109520Z",
     "start_time": "2018-01-24T04:14:33.049853Z"
    }
   },
   "outputs": [],
   "source": [
    "battles.describe()"
   ]
  },
  {
   "cell_type": "code",
   "execution_count": null,
   "metadata": {
    "ExecuteTime": {
     "end_time": "2018-01-24T04:16:39.522531Z",
     "start_time": "2018-01-24T04:16:39.442939Z"
    }
   },
   "outputs": [],
   "source": [
    "battles.head()"
   ]
  },
  {
   "cell_type": "code",
   "execution_count": null,
   "metadata": {
    "ExecuteTime": {
     "end_time": "2018-01-24T04:16:49.286870Z",
     "start_time": "2018-01-24T04:16:49.212491Z"
    }
   },
   "outputs": [],
   "source": [
    "battles.tail()"
   ]
  },
  {
   "cell_type": "code",
   "execution_count": null,
   "metadata": {
    "ExecuteTime": {
     "end_time": "2018-01-24T04:19:21.367255Z",
     "start_time": "2018-01-24T04:19:21.356119Z"
    }
   },
   "outputs": [],
   "source": [
    "battles.columns"
   ]
  },
  {
   "cell_type": "code",
   "execution_count": null,
   "metadata": {
    "ExecuteTime": {
     "end_time": "2018-01-24T04:33:53.103464Z",
     "start_time": "2018-01-24T04:33:53.091467Z"
    }
   },
   "outputs": [],
   "source": [
    "battles.iloc[0,4:8]"
   ]
  },
  {
   "cell_type": "code",
   "execution_count": null,
   "metadata": {
    "ExecuteTime": {
     "end_time": "2018-01-24T04:28:55.976643Z",
     "start_time": "2018-01-24T04:28:55.962661Z"
    }
   },
   "outputs": [],
   "source": [
    "battles.iloc[0]"
   ]
  },
  {
   "cell_type": "code",
   "execution_count": null,
   "metadata": {
    "ExecuteTime": {
     "end_time": "2018-01-24T04:35:34.466117Z",
     "start_time": "2018-01-24T04:35:34.453806Z"
    }
   },
   "outputs": [],
   "source": [
    "battles.iloc[:,2]"
   ]
  },
  {
   "cell_type": "code",
   "execution_count": null,
   "metadata": {
    "ExecuteTime": {
     "end_time": "2018-01-24T04:38:02.006439Z",
     "start_time": "2018-01-24T04:38:01.983255Z"
    }
   },
   "outputs": [],
   "source": [
    "battles.iloc[1:4,4:6]"
   ]
  },
  {
   "cell_type": "code",
   "execution_count": null,
   "metadata": {
    "ExecuteTime": {
     "end_time": "2018-01-24T04:39:54.762007Z",
     "start_time": "2018-01-24T04:39:54.748982Z"
    }
   },
   "outputs": [],
   "source": [
    "battles.iloc[2,1]"
   ]
  },
  {
   "cell_type": "code",
   "execution_count": null,
   "metadata": {
    "ExecuteTime": {
     "end_time": "2018-01-24T04:47:12.641573Z",
     "start_time": "2018-01-24T04:47:12.626706Z"
    }
   },
   "outputs": [],
   "source": [
    "battles.loc[:,'attacker_outcome']"
   ]
  },
  {
   "cell_type": "code",
   "execution_count": null,
   "metadata": {
    "ExecuteTime": {
     "end_time": "2018-01-24T05:01:06.956708Z",
     "start_time": "2018-01-24T05:01:06.949447Z"
    }
   },
   "outputs": [],
   "source": [
    "battles['attacker_outcome'][0]"
   ]
  },
  {
   "cell_type": "code",
   "execution_count": null,
   "metadata": {
    "ExecuteTime": {
     "end_time": "2018-01-24T05:00:09.566789Z",
     "start_time": "2018-01-24T05:00:09.540326Z"
    }
   },
   "outputs": [],
   "source": [
    "battles.loc[battles.index >= 'S','attacker_1':'attacker_4']"
   ]
  },
  {
   "cell_type": "code",
   "execution_count": null,
   "metadata": {
    "ExecuteTime": {
     "end_time": "2018-01-24T04:58:29.521623Z",
     "start_time": "2018-01-24T04:58:29.502818Z"
    }
   },
   "outputs": [],
   "source": [
    "battles.iloc[0,0:5:-1]"
   ]
  },
  {
   "cell_type": "markdown",
   "metadata": {},
   "source": [
    "## ... let us continue"
   ]
  },
  {
   "cell_type": "code",
   "execution_count": 122,
   "metadata": {
    "ExecuteTime": {
     "end_time": "2018-01-26T04:29:59.211707Z",
     "start_time": "2018-01-26T04:29:59.205657Z"
    }
   },
   "outputs": [],
   "source": [
    "cb=battles.copy()"
   ]
  },
  {
   "cell_type": "code",
   "execution_count": null,
   "metadata": {
    "ExecuteTime": {
     "end_time": "2018-01-26T04:02:55.843545Z",
     "start_time": "2018-01-26T04:02:55.827463Z"
    }
   },
   "outputs": [],
   "source": [
    "cb.isnull().sum()"
   ]
  },
  {
   "cell_type": "code",
   "execution_count": null,
   "metadata": {
    "ExecuteTime": {
     "end_time": "2018-01-26T06:32:53.998928Z",
     "start_time": "2018-01-26T06:32:53.976581Z"
    }
   },
   "outputs": [],
   "source": [
    "cb.columns[cb.isna().sum()==0]"
   ]
  },
  {
   "cell_type": "code",
   "execution_count": 107,
   "metadata": {
    "ExecuteTime": {
     "end_time": "2018-01-26T04:06:25.170376Z",
     "start_time": "2018-01-26T04:06:25.160371Z"
    }
   },
   "outputs": [],
   "source": [
    "cb.drop('defender_3', axis=1, inplace=True)"
   ]
  },
  {
   "cell_type": "code",
   "execution_count": 108,
   "metadata": {
    "ExecuteTime": {
     "end_time": "2018-01-26T04:06:42.933057Z",
     "start_time": "2018-01-26T04:06:42.921358Z"
    }
   },
   "outputs": [
    {
     "data": {
      "text/plain": [
       "Index(['year', 'battle_number', 'attacker_king', 'defender_king', 'attacker_1',\n",
       "       'attacker_2', 'attacker_3', 'attacker_4', 'defender_1', 'defender_2',\n",
       "       'defender_4', 'attacker_outcome', 'battle_type', 'major_death',\n",
       "       'major_capture', 'attacker_size', 'defender_size', 'attacker_commander',\n",
       "       'defender_commander', 'summer', 'location', 'region', 'note'],\n",
       "      dtype='object')"
      ]
     },
     "execution_count": 108,
     "metadata": {},
     "output_type": "execute_result"
    }
   ],
   "source": [
    "cb.columns"
   ]
  },
  {
   "cell_type": "code",
   "execution_count": 123,
   "metadata": {
    "ExecuteTime": {
     "end_time": "2018-01-26T04:30:25.320583Z",
     "start_time": "2018-01-26T04:30:25.307993Z"
    }
   },
   "outputs": [],
   "source": [
    "new_values = {'win':1, 'loss':-5}\n",
    "cb['attacker_outcome_numeric'] = cb['attacker_outcome'].map(new_values)"
   ]
  },
  {
   "cell_type": "code",
   "execution_count": 125,
   "metadata": {
    "ExecuteTime": {
     "end_time": "2018-01-26T04:30:34.956521Z",
     "start_time": "2018-01-26T04:30:34.948464Z"
    }
   },
   "outputs": [
    {
     "data": {
      "text/plain": [
       "Index(['year', 'battle_number', 'attacker_king', 'defender_king', 'attacker_1',\n",
       "       'attacker_2', 'attacker_3', 'attacker_4', 'defender_1', 'defender_2',\n",
       "       'defender_3', 'defender_4', 'attacker_outcome', 'battle_type',\n",
       "       'major_death', 'major_capture', 'attacker_size', 'defender_size',\n",
       "       'attacker_commander', 'defender_commander', 'summer', 'location',\n",
       "       'region', 'note', 'attacker_outcome_numeric'],\n",
       "      dtype='object')"
      ]
     },
     "execution_count": 125,
     "metadata": {},
     "output_type": "execute_result"
    }
   ],
   "source": [
    "cb.columns"
   ]
  },
  {
   "cell_type": "code",
   "execution_count": 127,
   "metadata": {
    "ExecuteTime": {
     "end_time": "2018-01-26T04:32:15.482920Z",
     "start_time": "2018-01-26T04:32:15.442419Z"
    }
   },
   "outputs": [
    {
     "data": {
      "text/html": [
       "<div>\n",
       "<style scoped>\n",
       "    .dataframe tbody tr th:only-of-type {\n",
       "        vertical-align: middle;\n",
       "    }\n",
       "\n",
       "    .dataframe tbody tr th {\n",
       "        vertical-align: top;\n",
       "    }\n",
       "\n",
       "    .dataframe thead th {\n",
       "        text-align: right;\n",
       "    }\n",
       "</style>\n",
       "<table border=\"1\" class=\"dataframe\">\n",
       "  <thead>\n",
       "    <tr style=\"text-align: right;\">\n",
       "      <th></th>\n",
       "      <th>attacker_outcome</th>\n",
       "      <th>attacker_outcome_numeric</th>\n",
       "    </tr>\n",
       "    <tr>\n",
       "      <th>name</th>\n",
       "      <th></th>\n",
       "      <th></th>\n",
       "    </tr>\n",
       "  </thead>\n",
       "  <tbody>\n",
       "    <tr>\n",
       "      <th>Battle of the Golden Tooth</th>\n",
       "      <td>win</td>\n",
       "      <td>1.0</td>\n",
       "    </tr>\n",
       "    <tr>\n",
       "      <th>Battle at the Mummer's Ford</th>\n",
       "      <td>win</td>\n",
       "      <td>1.0</td>\n",
       "    </tr>\n",
       "    <tr>\n",
       "      <th>Battle of Riverrun</th>\n",
       "      <td>win</td>\n",
       "      <td>1.0</td>\n",
       "    </tr>\n",
       "    <tr>\n",
       "      <th>Battle of the Green Fork</th>\n",
       "      <td>loss</td>\n",
       "      <td>-5.0</td>\n",
       "    </tr>\n",
       "    <tr>\n",
       "      <th>Battle of the Whispering Wood</th>\n",
       "      <td>win</td>\n",
       "      <td>1.0</td>\n",
       "    </tr>\n",
       "    <tr>\n",
       "      <th>Battle of the Camps</th>\n",
       "      <td>win</td>\n",
       "      <td>1.0</td>\n",
       "    </tr>\n",
       "    <tr>\n",
       "      <th>Sack of Darry</th>\n",
       "      <td>win</td>\n",
       "      <td>1.0</td>\n",
       "    </tr>\n",
       "    <tr>\n",
       "      <th>Battle of Moat Cailin</th>\n",
       "      <td>win</td>\n",
       "      <td>1.0</td>\n",
       "    </tr>\n",
       "    <tr>\n",
       "      <th>Battle of Deepwood Motte</th>\n",
       "      <td>win</td>\n",
       "      <td>1.0</td>\n",
       "    </tr>\n",
       "    <tr>\n",
       "      <th>Battle of the Stony Shore</th>\n",
       "      <td>win</td>\n",
       "      <td>1.0</td>\n",
       "    </tr>\n",
       "    <tr>\n",
       "      <th>Battle of Torrhen's Square</th>\n",
       "      <td>win</td>\n",
       "      <td>1.0</td>\n",
       "    </tr>\n",
       "    <tr>\n",
       "      <th>Battle of Winterfell</th>\n",
       "      <td>win</td>\n",
       "      <td>1.0</td>\n",
       "    </tr>\n",
       "    <tr>\n",
       "      <th>Sack of Torrhen's Square</th>\n",
       "      <td>win</td>\n",
       "      <td>1.0</td>\n",
       "    </tr>\n",
       "    <tr>\n",
       "      <th>Sack of Winterfell</th>\n",
       "      <td>win</td>\n",
       "      <td>1.0</td>\n",
       "    </tr>\n",
       "    <tr>\n",
       "      <th>Battle of Oxcross</th>\n",
       "      <td>win</td>\n",
       "      <td>1.0</td>\n",
       "    </tr>\n",
       "    <tr>\n",
       "      <th>Siege of Storm's End</th>\n",
       "      <td>win</td>\n",
       "      <td>1.0</td>\n",
       "    </tr>\n",
       "    <tr>\n",
       "      <th>Battle of the Fords</th>\n",
       "      <td>loss</td>\n",
       "      <td>-5.0</td>\n",
       "    </tr>\n",
       "    <tr>\n",
       "      <th>Sack of Harrenhal</th>\n",
       "      <td>win</td>\n",
       "      <td>1.0</td>\n",
       "    </tr>\n",
       "    <tr>\n",
       "      <th>Battle of the Crag</th>\n",
       "      <td>win</td>\n",
       "      <td>1.0</td>\n",
       "    </tr>\n",
       "    <tr>\n",
       "      <th>Battle of the Blackwater</th>\n",
       "      <td>loss</td>\n",
       "      <td>-5.0</td>\n",
       "    </tr>\n",
       "    <tr>\n",
       "      <th>Siege of Darry</th>\n",
       "      <td>win</td>\n",
       "      <td>1.0</td>\n",
       "    </tr>\n",
       "    <tr>\n",
       "      <th>Battle of Duskendale</th>\n",
       "      <td>loss</td>\n",
       "      <td>-5.0</td>\n",
       "    </tr>\n",
       "    <tr>\n",
       "      <th>Battle of the Burning Septry</th>\n",
       "      <td>win</td>\n",
       "      <td>1.0</td>\n",
       "    </tr>\n",
       "    <tr>\n",
       "      <th>Battle of the Ruby Ford</th>\n",
       "      <td>win</td>\n",
       "      <td>1.0</td>\n",
       "    </tr>\n",
       "    <tr>\n",
       "      <th>Retaking of Harrenhal</th>\n",
       "      <td>win</td>\n",
       "      <td>1.0</td>\n",
       "    </tr>\n",
       "    <tr>\n",
       "      <th>The Red Wedding</th>\n",
       "      <td>win</td>\n",
       "      <td>1.0</td>\n",
       "    </tr>\n",
       "    <tr>\n",
       "      <th>Siege of Seagard</th>\n",
       "      <td>win</td>\n",
       "      <td>1.0</td>\n",
       "    </tr>\n",
       "    <tr>\n",
       "      <th>Battle of Castle Black</th>\n",
       "      <td>loss</td>\n",
       "      <td>-5.0</td>\n",
       "    </tr>\n",
       "    <tr>\n",
       "      <th>Fall of Moat Cailin</th>\n",
       "      <td>win</td>\n",
       "      <td>1.0</td>\n",
       "    </tr>\n",
       "    <tr>\n",
       "      <th>Sack of Saltpans</th>\n",
       "      <td>win</td>\n",
       "      <td>1.0</td>\n",
       "    </tr>\n",
       "    <tr>\n",
       "      <th>Retaking of Deepwood Motte</th>\n",
       "      <td>win</td>\n",
       "      <td>1.0</td>\n",
       "    </tr>\n",
       "    <tr>\n",
       "      <th>Battle of the Shield Islands</th>\n",
       "      <td>win</td>\n",
       "      <td>1.0</td>\n",
       "    </tr>\n",
       "    <tr>\n",
       "      <th>Invasion of Ryamsport, Vinetown, and Starfish Harbor</th>\n",
       "      <td>win</td>\n",
       "      <td>1.0</td>\n",
       "    </tr>\n",
       "    <tr>\n",
       "      <th>Second Seige of Storm's End</th>\n",
       "      <td>win</td>\n",
       "      <td>1.0</td>\n",
       "    </tr>\n",
       "    <tr>\n",
       "      <th>Siege of Dragonstone</th>\n",
       "      <td>win</td>\n",
       "      <td>1.0</td>\n",
       "    </tr>\n",
       "    <tr>\n",
       "      <th>Siege of Riverrun</th>\n",
       "      <td>win</td>\n",
       "      <td>1.0</td>\n",
       "    </tr>\n",
       "    <tr>\n",
       "      <th>Siege of Raventree</th>\n",
       "      <td>win</td>\n",
       "      <td>1.0</td>\n",
       "    </tr>\n",
       "    <tr>\n",
       "      <th>Siege of Winterfell</th>\n",
       "      <td>NaN</td>\n",
       "      <td>NaN</td>\n",
       "    </tr>\n",
       "  </tbody>\n",
       "</table>\n",
       "</div>"
      ],
      "text/plain": [
       "                                                   attacker_outcome  \\\n",
       "name                                                                  \n",
       "Battle of the Golden Tooth                                      win   \n",
       "Battle at the Mummer's Ford                                     win   \n",
       "Battle of Riverrun                                              win   \n",
       "Battle of the Green Fork                                       loss   \n",
       "Battle of the Whispering Wood                                   win   \n",
       "Battle of the Camps                                             win   \n",
       "Sack of Darry                                                   win   \n",
       "Battle of Moat Cailin                                           win   \n",
       "Battle of Deepwood Motte                                        win   \n",
       "Battle of the Stony Shore                                       win   \n",
       "Battle of Torrhen's Square                                      win   \n",
       "Battle of Winterfell                                            win   \n",
       "Sack of Torrhen's Square                                        win   \n",
       "Sack of Winterfell                                              win   \n",
       "Battle of Oxcross                                               win   \n",
       "Siege of Storm's End                                            win   \n",
       "Battle of the Fords                                            loss   \n",
       "Sack of Harrenhal                                               win   \n",
       "Battle of the Crag                                              win   \n",
       "Battle of the Blackwater                                       loss   \n",
       "Siege of Darry                                                  win   \n",
       "Battle of Duskendale                                           loss   \n",
       "Battle of the Burning Septry                                    win   \n",
       "Battle of the Ruby Ford                                         win   \n",
       "Retaking of Harrenhal                                           win   \n",
       "The Red Wedding                                                 win   \n",
       "Siege of Seagard                                                win   \n",
       "Battle of Castle Black                                         loss   \n",
       "Fall of Moat Cailin                                             win   \n",
       "Sack of Saltpans                                                win   \n",
       "Retaking of Deepwood Motte                                      win   \n",
       "Battle of the Shield Islands                                    win   \n",
       "Invasion of Ryamsport, Vinetown, and Starfish H...              win   \n",
       "Second Seige of Storm's End                                     win   \n",
       "Siege of Dragonstone                                            win   \n",
       "Siege of Riverrun                                               win   \n",
       "Siege of Raventree                                              win   \n",
       "Siege of Winterfell                                             NaN   \n",
       "\n",
       "                                                    attacker_outcome_numeric  \n",
       "name                                                                          \n",
       "Battle of the Golden Tooth                                               1.0  \n",
       "Battle at the Mummer's Ford                                              1.0  \n",
       "Battle of Riverrun                                                       1.0  \n",
       "Battle of the Green Fork                                                -5.0  \n",
       "Battle of the Whispering Wood                                            1.0  \n",
       "Battle of the Camps                                                      1.0  \n",
       "Sack of Darry                                                            1.0  \n",
       "Battle of Moat Cailin                                                    1.0  \n",
       "Battle of Deepwood Motte                                                 1.0  \n",
       "Battle of the Stony Shore                                                1.0  \n",
       "Battle of Torrhen's Square                                               1.0  \n",
       "Battle of Winterfell                                                     1.0  \n",
       "Sack of Torrhen's Square                                                 1.0  \n",
       "Sack of Winterfell                                                       1.0  \n",
       "Battle of Oxcross                                                        1.0  \n",
       "Siege of Storm's End                                                     1.0  \n",
       "Battle of the Fords                                                     -5.0  \n",
       "Sack of Harrenhal                                                        1.0  \n",
       "Battle of the Crag                                                       1.0  \n",
       "Battle of the Blackwater                                                -5.0  \n",
       "Siege of Darry                                                           1.0  \n",
       "Battle of Duskendale                                                    -5.0  \n",
       "Battle of the Burning Septry                                             1.0  \n",
       "Battle of the Ruby Ford                                                  1.0  \n",
       "Retaking of Harrenhal                                                    1.0  \n",
       "The Red Wedding                                                          1.0  \n",
       "Siege of Seagard                                                         1.0  \n",
       "Battle of Castle Black                                                  -5.0  \n",
       "Fall of Moat Cailin                                                      1.0  \n",
       "Sack of Saltpans                                                         1.0  \n",
       "Retaking of Deepwood Motte                                               1.0  \n",
       "Battle of the Shield Islands                                             1.0  \n",
       "Invasion of Ryamsport, Vinetown, and Starfish H...                       1.0  \n",
       "Second Seige of Storm's End                                              1.0  \n",
       "Siege of Dragonstone                                                     1.0  \n",
       "Siege of Riverrun                                                        1.0  \n",
       "Siege of Raventree                                                       1.0  \n",
       "Siege of Winterfell                                                      NaN  "
      ]
     },
     "execution_count": 127,
     "metadata": {},
     "output_type": "execute_result"
    }
   ],
   "source": [
    "cb[['attacker_outcome','attacker_outcome_numeric']]"
   ]
  },
  {
   "cell_type": "code",
   "execution_count": 128,
   "metadata": {
    "ExecuteTime": {
     "end_time": "2018-01-26T04:33:36.180116Z",
     "start_time": "2018-01-26T04:33:36.163199Z"
    }
   },
   "outputs": [],
   "source": [
    "cb = pd.get_dummies(cb, columns=['attacker_outcome'])"
   ]
  },
  {
   "cell_type": "code",
   "execution_count": 130,
   "metadata": {
    "ExecuteTime": {
     "end_time": "2018-01-26T04:42:45.682409Z",
     "start_time": "2018-01-26T04:42:45.673390Z"
    }
   },
   "outputs": [
    {
     "data": {
      "text/plain": [
       "Index(['year', 'battle_number', 'attacker_king', 'defender_king', 'attacker_1',\n",
       "       'attacker_2', 'attacker_3', 'attacker_4', 'defender_1', 'defender_2',\n",
       "       'defender_3', 'defender_4', 'battle_type', 'major_death',\n",
       "       'major_capture', 'attacker_size', 'defender_size', 'attacker_commander',\n",
       "       'defender_commander', 'summer', 'location', 'region', 'note',\n",
       "       'attacker_outcome_numeric', 'attacker_outcome_loss',\n",
       "       'attacker_outcome_win'],\n",
       "      dtype='object')"
      ]
     },
     "execution_count": 130,
     "metadata": {},
     "output_type": "execute_result"
    }
   ],
   "source": [
    "cb.columns"
   ]
  },
  {
   "cell_type": "code",
   "execution_count": 131,
   "metadata": {
    "ExecuteTime": {
     "end_time": "2018-01-26T04:44:03.820646Z",
     "start_time": "2018-01-26T04:44:03.810601Z"
    }
   },
   "outputs": [],
   "source": [
    "cb=cb.rename(columns={'attacker_outcome_loss':'loss', 'attacker_outcome_win':'win'})"
   ]
  },
  {
   "cell_type": "code",
   "execution_count": 132,
   "metadata": {
    "ExecuteTime": {
     "end_time": "2018-01-26T04:44:13.819548Z",
     "start_time": "2018-01-26T04:44:13.811677Z"
    }
   },
   "outputs": [
    {
     "data": {
      "text/plain": [
       "Index(['year', 'battle_number', 'attacker_king', 'defender_king', 'attacker_1',\n",
       "       'attacker_2', 'attacker_3', 'attacker_4', 'defender_1', 'defender_2',\n",
       "       'defender_3', 'defender_4', 'battle_type', 'major_death',\n",
       "       'major_capture', 'attacker_size', 'defender_size', 'attacker_commander',\n",
       "       'defender_commander', 'summer', 'location', 'region', 'note',\n",
       "       'attacker_outcome_numeric', 'loss', 'win'],\n",
       "      dtype='object')"
      ]
     },
     "execution_count": 132,
     "metadata": {},
     "output_type": "execute_result"
    }
   ],
   "source": [
    "cb.columns"
   ]
  },
  {
   "cell_type": "code",
   "execution_count": 136,
   "metadata": {
    "ExecuteTime": {
     "end_time": "2018-01-26T04:51:13.763709Z",
     "start_time": "2018-01-26T04:51:13.731593Z"
    }
   },
   "outputs": [
    {
     "data": {
      "text/html": [
       "<div>\n",
       "<style scoped>\n",
       "    .dataframe tbody tr th:only-of-type {\n",
       "        vertical-align: middle;\n",
       "    }\n",
       "\n",
       "    .dataframe tbody tr th {\n",
       "        vertical-align: top;\n",
       "    }\n",
       "\n",
       "    .dataframe thead th {\n",
       "        text-align: right;\n",
       "    }\n",
       "</style>\n",
       "<table border=\"1\" class=\"dataframe\">\n",
       "  <thead>\n",
       "    <tr style=\"text-align: right;\">\n",
       "      <th></th>\n",
       "      <th>win</th>\n",
       "      <th>loss</th>\n",
       "      <th>ratio</th>\n",
       "    </tr>\n",
       "    <tr>\n",
       "      <th>attacker_king</th>\n",
       "      <th></th>\n",
       "      <th></th>\n",
       "      <th></th>\n",
       "    </tr>\n",
       "  </thead>\n",
       "  <tbody>\n",
       "    <tr>\n",
       "      <th>Balon/Euron Greyjoy</th>\n",
       "      <td>7</td>\n",
       "      <td>0</td>\n",
       "      <td>1.000000</td>\n",
       "    </tr>\n",
       "    <tr>\n",
       "      <th>Joffrey/Tommen Baratheon</th>\n",
       "      <td>13</td>\n",
       "      <td>1</td>\n",
       "      <td>0.928571</td>\n",
       "    </tr>\n",
       "    <tr>\n",
       "      <th>Robb Stark</th>\n",
       "      <td>8</td>\n",
       "      <td>2</td>\n",
       "      <td>0.800000</td>\n",
       "    </tr>\n",
       "    <tr>\n",
       "      <th>Stannis Baratheon</th>\n",
       "      <td>2</td>\n",
       "      <td>2</td>\n",
       "      <td>0.500000</td>\n",
       "    </tr>\n",
       "  </tbody>\n",
       "</table>\n",
       "</div>"
      ],
      "text/plain": [
       "                          win  loss     ratio\n",
       "attacker_king                                \n",
       "Balon/Euron Greyjoy         7     0  1.000000\n",
       "Joffrey/Tommen Baratheon   13     1  0.928571\n",
       "Robb Stark                  8     2  0.800000\n",
       "Stannis Baratheon           2     2  0.500000"
      ]
     },
     "execution_count": 136,
     "metadata": {},
     "output_type": "execute_result"
    }
   ],
   "source": [
    "ratiowl = cb.groupby('attacker_king')['win','loss'].sum()\n",
    "ratiowl['ratio'] = ratiowl['win'] / (ratiowl['win'] + ratiowl['loss'])\n",
    "ratiowl"
   ]
  },
  {
   "cell_type": "code",
   "execution_count": 119,
   "metadata": {
    "ExecuteTime": {
     "end_time": "2018-01-26T04:27:07.738519Z",
     "start_time": "2018-01-26T04:27:07.726430Z"
    }
   },
   "outputs": [],
   "source": [
    "cb = pd.get_dummies(cb, columns=['attacker_outcome'])"
   ]
  },
  {
   "cell_type": "code",
   "execution_count": null,
   "metadata": {},
   "outputs": [],
   "source": []
  }
 ],
 "metadata": {
  "kernelspec": {
   "display_name": "Python 3",
   "language": "python",
   "name": "python3"
  },
  "language_info": {
   "codemirror_mode": {
    "name": "ipython",
    "version": 3
   },
   "file_extension": ".py",
   "mimetype": "text/x-python",
   "name": "python",
   "nbconvert_exporter": "python",
   "pygments_lexer": "ipython3",
   "version": "3.6.3"
  },
  "toc": {
   "nav_menu": {},
   "number_sections": true,
   "sideBar": true,
   "skip_h1_title": false,
   "toc_cell": false,
   "toc_position": {},
   "toc_section_display": "block",
   "toc_window_display": false
  },
  "varInspector": {
   "cols": {
    "lenName": 16,
    "lenType": 16,
    "lenVar": 40
   },
   "kernels_config": {
    "python": {
     "delete_cmd_postfix": "",
     "delete_cmd_prefix": "del ",
     "library": "var_list.py",
     "varRefreshCmd": "print(var_dic_list())"
    },
    "r": {
     "delete_cmd_postfix": ") ",
     "delete_cmd_prefix": "rm(",
     "library": "var_list.r",
     "varRefreshCmd": "cat(var_dic_list()) "
    }
   },
   "types_to_exclude": [
    "module",
    "function",
    "builtin_function_or_method",
    "instance",
    "_Feature"
   ],
   "window_display": false
  }
 },
 "nbformat": 4,
 "nbformat_minor": 2
}
