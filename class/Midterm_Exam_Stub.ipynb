{
 "cells": [
  {
   "cell_type": "markdown",
   "metadata": {
    "ExecuteTime": {
     "end_time": "2018-02-07T06:41:29.707370Z",
     "start_time": "2018-02-07T06:41:29.702979Z"
    }
   },
   "source": [
    "# Midterm Exam \"Food Environment Atlas\""
   ]
  },
  {
   "cell_type": "markdown",
   "metadata": {},
   "source": [
    "The following questions center around data from the **Food Environment Atlas**. This dataset contains food environment factors for counties in the United States that may influence nutrition, health, and socio-economic factors. ([Link](https://catalog.data.gov/dataset/food-environment-atlas-f4a22))\n",
    "\n",
    "**Structure of the dataset**:\n",
    "* Each row is a U.S. county.\n",
    "* Each column is a food environment factor."
   ]
  },
  {
   "cell_type": "markdown",
   "metadata": {},
   "source": [
    "Please run the following line of code to load the dataset."
   ]
  },
  {
   "cell_type": "code",
   "execution_count": 1,
   "metadata": {
    "ExecuteTime": {
     "end_time": "2018-02-13T22:44:31.837387Z",
     "start_time": "2018-02-13T22:44:31.498322Z"
    }
   },
   "outputs": [],
   "source": [
    "import pandas as pd"
   ]
  },
  {
   "cell_type": "code",
   "execution_count": 2,
   "metadata": {
    "ExecuteTime": {
     "end_time": "2018-02-13T22:44:31.891843Z",
     "start_time": "2018-02-13T22:44:31.882499Z"
    }
   },
   "outputs": [],
   "source": [
    "from IPython.core.interactiveshell import InteractiveShell\n",
    "InteractiveShell.ast_node_interactivity = \"all\""
   ]
  },
  {
   "cell_type": "code",
   "execution_count": 3,
   "metadata": {
    "ExecuteTime": {
     "end_time": "2018-02-13T22:44:32.485102Z",
     "start_time": "2018-02-13T22:44:32.475118Z"
    }
   },
   "outputs": [],
   "source": [
    "pd.options.display.float_format = '{:.2f}'.format"
   ]
  },
  {
   "cell_type": "code",
   "execution_count": 4,
   "metadata": {
    "ExecuteTime": {
     "end_time": "2018-02-13T22:44:33.059504Z",
     "start_time": "2018-02-13T22:44:33.013796Z"
    }
   },
   "outputs": [],
   "source": [
    "food = pd.read_csv('midterm_exam.csv', index_col=0)"
   ]
  },
  {
   "cell_type": "markdown",
   "metadata": {},
   "source": [
    "Please run the following line of code to get an overview of the columns in the dataset. Each question below specifies what each column means."
   ]
  },
  {
   "cell_type": "code",
   "execution_count": 5,
   "metadata": {
    "ExecuteTime": {
     "end_time": "2018-02-13T22:44:34.246321Z",
     "start_time": "2018-02-13T22:44:34.217707Z"
    }
   },
   "outputs": [
    {
     "data": {
      "text/plain": [
       "0                     State\n",
       "1                    County\n",
       "2        PCT_OBESE_ADULTS13\n",
       "3                   FMRKT16\n",
       "4                     FFR14\n",
       "5                    GROC09\n",
       "6                    GROC14\n",
       "7                 GROCPTH14\n",
       "8       PCT_LACCESS_CHILD15\n",
       "9                  FFRPTH14\n",
       "10               FMRKTPTH16\n",
       "11               FFRPTH14.1\n",
       "12       PCT_OBESE_ADULTS08\n",
       "13    PCT_DIABETES_ADULTS13\n",
       "14    PCT_DIABETES_ADULTS08\n",
       "15           CHILDPOVRATE15\n",
       "16               PCT_HSPA15\n",
       "dtype: object"
      ]
     },
     "execution_count": 5,
     "metadata": {},
     "output_type": "execute_result"
    }
   ],
   "source": [
    "pd.Series(food.columns)"
   ]
  },
  {
   "cell_type": "markdown",
   "metadata": {},
   "source": [
    "The data is cleaned and each column only contains objects of one type."
   ]
  },
  {
   "cell_type": "code",
   "execution_count": 6,
   "metadata": {
    "ExecuteTime": {
     "end_time": "2018-02-13T22:44:36.095630Z",
     "start_time": "2018-02-13T22:44:36.079629Z"
    }
   },
   "outputs": [
    {
     "data": {
      "text/plain": [
       "State                     object\n",
       "County                    object\n",
       "PCT_OBESE_ADULTS13       float64\n",
       "FMRKT16                    int64\n",
       "FFR14                      int64\n",
       "GROC09                     int64\n",
       "GROC14                     int64\n",
       "GROCPTH14                float64\n",
       "PCT_LACCESS_CHILD15      float64\n",
       "FFRPTH14                 float64\n",
       "FMRKTPTH16               float64\n",
       "FFRPTH14.1               float64\n",
       "PCT_OBESE_ADULTS08       float64\n",
       "PCT_DIABETES_ADULTS13    float64\n",
       "PCT_DIABETES_ADULTS08    float64\n",
       "CHILDPOVRATE15           float64\n",
       "PCT_HSPA15               float64\n",
       "dtype: object"
      ]
     },
     "execution_count": 6,
     "metadata": {},
     "output_type": "execute_result"
    }
   ],
   "source": [
    "food.dtypes"
   ]
  },
  {
   "cell_type": "markdown",
   "metadata": {},
   "source": [
    "A sample of the data:"
   ]
  },
  {
   "cell_type": "code",
   "execution_count": 7,
   "metadata": {
    "ExecuteTime": {
     "end_time": "2018-02-13T22:44:37.199295Z",
     "start_time": "2018-02-13T22:44:37.143225Z"
    }
   },
   "outputs": [
    {
     "data": {
      "text/html": [
       "<div>\n",
       "<style scoped>\n",
       "    .dataframe tbody tr th:only-of-type {\n",
       "        vertical-align: middle;\n",
       "    }\n",
       "\n",
       "    .dataframe tbody tr th {\n",
       "        vertical-align: top;\n",
       "    }\n",
       "\n",
       "    .dataframe thead th {\n",
       "        text-align: right;\n",
       "    }\n",
       "</style>\n",
       "<table border=\"1\" class=\"dataframe\">\n",
       "  <thead>\n",
       "    <tr style=\"text-align: right;\">\n",
       "      <th></th>\n",
       "      <th>State</th>\n",
       "      <th>County</th>\n",
       "      <th>PCT_OBESE_ADULTS13</th>\n",
       "      <th>FMRKT16</th>\n",
       "      <th>FFR14</th>\n",
       "      <th>GROC09</th>\n",
       "      <th>GROC14</th>\n",
       "      <th>GROCPTH14</th>\n",
       "      <th>PCT_LACCESS_CHILD15</th>\n",
       "      <th>FFRPTH14</th>\n",
       "      <th>FMRKTPTH16</th>\n",
       "      <th>FFRPTH14.1</th>\n",
       "      <th>PCT_OBESE_ADULTS08</th>\n",
       "      <th>PCT_DIABETES_ADULTS13</th>\n",
       "      <th>PCT_DIABETES_ADULTS08</th>\n",
       "      <th>CHILDPOVRATE15</th>\n",
       "      <th>PCT_HSPA15</th>\n",
       "    </tr>\n",
       "  </thead>\n",
       "  <tbody>\n",
       "    <tr>\n",
       "      <th>245</th>\n",
       "      <td>CO</td>\n",
       "      <td>Alamosa</td>\n",
       "      <td>23.00</td>\n",
       "      <td>1</td>\n",
       "      <td>14</td>\n",
       "      <td>4</td>\n",
       "      <td>4</td>\n",
       "      <td>0.25</td>\n",
       "      <td>1.68</td>\n",
       "      <td>0.87</td>\n",
       "      <td>0.06</td>\n",
       "      <td>0.87</td>\n",
       "      <td>21.00</td>\n",
       "      <td>6.70</td>\n",
       "      <td>5.60</td>\n",
       "      <td>30.20</td>\n",
       "      <td>nan</td>\n",
       "    </tr>\n",
       "    <tr>\n",
       "      <th>2023</th>\n",
       "      <td>ND</td>\n",
       "      <td>Pembina</td>\n",
       "      <td>32.10</td>\n",
       "      <td>3</td>\n",
       "      <td>1</td>\n",
       "      <td>5</td>\n",
       "      <td>5</td>\n",
       "      <td>0.70</td>\n",
       "      <td>10.16</td>\n",
       "      <td>0.14</td>\n",
       "      <td>0.42</td>\n",
       "      <td>0.14</td>\n",
       "      <td>29.10</td>\n",
       "      <td>12.10</td>\n",
       "      <td>9.20</td>\n",
       "      <td>11.20</td>\n",
       "      <td>25.40</td>\n",
       "    </tr>\n",
       "    <tr>\n",
       "      <th>791</th>\n",
       "      <td>IA</td>\n",
       "      <td>Allamakee</td>\n",
       "      <td>33.60</td>\n",
       "      <td>2</td>\n",
       "      <td>3</td>\n",
       "      <td>6</td>\n",
       "      <td>7</td>\n",
       "      <td>0.50</td>\n",
       "      <td>1.65</td>\n",
       "      <td>0.21</td>\n",
       "      <td>0.14</td>\n",
       "      <td>0.21</td>\n",
       "      <td>27.60</td>\n",
       "      <td>9.10</td>\n",
       "      <td>8.80</td>\n",
       "      <td>17.00</td>\n",
       "      <td>nan</td>\n",
       "    </tr>\n",
       "    <tr>\n",
       "      <th>1841</th>\n",
       "      <td>NY</td>\n",
       "      <td>Dutchess</td>\n",
       "      <td>25.90</td>\n",
       "      <td>14</td>\n",
       "      <td>244</td>\n",
       "      <td>99</td>\n",
       "      <td>94</td>\n",
       "      <td>0.32</td>\n",
       "      <td>7.39</td>\n",
       "      <td>0.82</td>\n",
       "      <td>0.05</td>\n",
       "      <td>0.82</td>\n",
       "      <td>26.70</td>\n",
       "      <td>9.60</td>\n",
       "      <td>8.30</td>\n",
       "      <td>12.90</td>\n",
       "      <td>23.30</td>\n",
       "    </tr>\n",
       "    <tr>\n",
       "      <th>429</th>\n",
       "      <td>GA</td>\n",
       "      <td>Decatur</td>\n",
       "      <td>30.00</td>\n",
       "      <td>1</td>\n",
       "      <td>21</td>\n",
       "      <td>7</td>\n",
       "      <td>6</td>\n",
       "      <td>0.22</td>\n",
       "      <td>3.41</td>\n",
       "      <td>0.77</td>\n",
       "      <td>0.04</td>\n",
       "      <td>0.77</td>\n",
       "      <td>31.60</td>\n",
       "      <td>12.10</td>\n",
       "      <td>12.20</td>\n",
       "      <td>39.90</td>\n",
       "      <td>nan</td>\n",
       "    </tr>\n",
       "    <tr>\n",
       "      <th>386</th>\n",
       "      <td>FL</td>\n",
       "      <td>Washington</td>\n",
       "      <td>38.50</td>\n",
       "      <td>1</td>\n",
       "      <td>17</td>\n",
       "      <td>2</td>\n",
       "      <td>3</td>\n",
       "      <td>0.12</td>\n",
       "      <td>6.99</td>\n",
       "      <td>0.70</td>\n",
       "      <td>0.04</td>\n",
       "      <td>0.70</td>\n",
       "      <td>29.30</td>\n",
       "      <td>12.90</td>\n",
       "      <td>10.70</td>\n",
       "      <td>34.20</td>\n",
       "      <td>24.10</td>\n",
       "    </tr>\n",
       "    <tr>\n",
       "      <th>2917</th>\n",
       "      <td>VA</td>\n",
       "      <td>Bristol</td>\n",
       "      <td>27.30</td>\n",
       "      <td>0</td>\n",
       "      <td>31</td>\n",
       "      <td>6</td>\n",
       "      <td>4</td>\n",
       "      <td>0.23</td>\n",
       "      <td>6.34</td>\n",
       "      <td>1.80</td>\n",
       "      <td>0.00</td>\n",
       "      <td>1.80</td>\n",
       "      <td>25.40</td>\n",
       "      <td>10.50</td>\n",
       "      <td>10.70</td>\n",
       "      <td>33.40</td>\n",
       "      <td>25.10</td>\n",
       "    </tr>\n",
       "    <tr>\n",
       "      <th>509</th>\n",
       "      <td>GA</td>\n",
       "      <td>Schley</td>\n",
       "      <td>30.40</td>\n",
       "      <td>0</td>\n",
       "      <td>2</td>\n",
       "      <td>1</td>\n",
       "      <td>1</td>\n",
       "      <td>0.19</td>\n",
       "      <td>0.12</td>\n",
       "      <td>0.39</td>\n",
       "      <td>0.00</td>\n",
       "      <td>0.39</td>\n",
       "      <td>30.00</td>\n",
       "      <td>12.60</td>\n",
       "      <td>11.30</td>\n",
       "      <td>29.00</td>\n",
       "      <td>nan</td>\n",
       "    </tr>\n",
       "    <tr>\n",
       "      <th>389</th>\n",
       "      <td>GA</td>\n",
       "      <td>Bacon</td>\n",
       "      <td>32.70</td>\n",
       "      <td>0</td>\n",
       "      <td>7</td>\n",
       "      <td>3</td>\n",
       "      <td>2</td>\n",
       "      <td>0.18</td>\n",
       "      <td>3.57</td>\n",
       "      <td>0.62</td>\n",
       "      <td>0.00</td>\n",
       "      <td>0.62</td>\n",
       "      <td>29.00</td>\n",
       "      <td>10.40</td>\n",
       "      <td>10.50</td>\n",
       "      <td>36.80</td>\n",
       "      <td>nan</td>\n",
       "    </tr>\n",
       "    <tr>\n",
       "      <th>613</th>\n",
       "      <td>IL</td>\n",
       "      <td>DeKalb</td>\n",
       "      <td>28.30</td>\n",
       "      <td>2</td>\n",
       "      <td>75</td>\n",
       "      <td>15</td>\n",
       "      <td>10</td>\n",
       "      <td>0.09</td>\n",
       "      <td>5.26</td>\n",
       "      <td>0.71</td>\n",
       "      <td>0.02</td>\n",
       "      <td>0.71</td>\n",
       "      <td>26.60</td>\n",
       "      <td>8.30</td>\n",
       "      <td>6.90</td>\n",
       "      <td>16.30</td>\n",
       "      <td>26.80</td>\n",
       "    </tr>\n",
       "  </tbody>\n",
       "</table>\n",
       "</div>"
      ],
      "text/plain": [
       "     State      County  PCT_OBESE_ADULTS13  FMRKT16  FFR14  GROC09  GROC14  \\\n",
       "245     CO     Alamosa               23.00        1     14       4       4   \n",
       "2023    ND     Pembina               32.10        3      1       5       5   \n",
       "791     IA   Allamakee               33.60        2      3       6       7   \n",
       "1841    NY    Dutchess               25.90       14    244      99      94   \n",
       "429     GA     Decatur               30.00        1     21       7       6   \n",
       "386     FL  Washington               38.50        1     17       2       3   \n",
       "2917    VA     Bristol               27.30        0     31       6       4   \n",
       "509     GA      Schley               30.40        0      2       1       1   \n",
       "389     GA       Bacon               32.70        0      7       3       2   \n",
       "613     IL      DeKalb               28.30        2     75      15      10   \n",
       "\n",
       "      GROCPTH14  PCT_LACCESS_CHILD15  FFRPTH14  FMRKTPTH16  FFRPTH14.1  \\\n",
       "245        0.25                 1.68      0.87        0.06        0.87   \n",
       "2023       0.70                10.16      0.14        0.42        0.14   \n",
       "791        0.50                 1.65      0.21        0.14        0.21   \n",
       "1841       0.32                 7.39      0.82        0.05        0.82   \n",
       "429        0.22                 3.41      0.77        0.04        0.77   \n",
       "386        0.12                 6.99      0.70        0.04        0.70   \n",
       "2917       0.23                 6.34      1.80        0.00        1.80   \n",
       "509        0.19                 0.12      0.39        0.00        0.39   \n",
       "389        0.18                 3.57      0.62        0.00        0.62   \n",
       "613        0.09                 5.26      0.71        0.02        0.71   \n",
       "\n",
       "      PCT_OBESE_ADULTS08  PCT_DIABETES_ADULTS13  PCT_DIABETES_ADULTS08  \\\n",
       "245                21.00                   6.70                   5.60   \n",
       "2023               29.10                  12.10                   9.20   \n",
       "791                27.60                   9.10                   8.80   \n",
       "1841               26.70                   9.60                   8.30   \n",
       "429                31.60                  12.10                  12.20   \n",
       "386                29.30                  12.90                  10.70   \n",
       "2917               25.40                  10.50                  10.70   \n",
       "509                30.00                  12.60                  11.30   \n",
       "389                29.00                  10.40                  10.50   \n",
       "613                26.60                   8.30                   6.90   \n",
       "\n",
       "      CHILDPOVRATE15  PCT_HSPA15  \n",
       "245            30.20         nan  \n",
       "2023           11.20       25.40  \n",
       "791            17.00         nan  \n",
       "1841           12.90       23.30  \n",
       "429            39.90         nan  \n",
       "386            34.20       24.10  \n",
       "2917           33.40       25.10  \n",
       "509            29.00         nan  \n",
       "389            36.80         nan  \n",
       "613            16.30       26.80  "
      ]
     },
     "execution_count": 7,
     "metadata": {},
     "output_type": "execute_result"
    }
   ],
   "source": [
    "food.sample(10,random_state=12345)"
   ]
  },
  {
   "cell_type": "markdown",
   "metadata": {
    "ExecuteTime": {
     "end_time": "2018-02-07T06:42:18.251369Z",
     "start_time": "2018-02-07T06:42:18.245951Z"
    }
   },
   "source": [
    "## Questions"
   ]
  },
  {
   "cell_type": "markdown",
   "metadata": {
    "ExecuteTime": {
     "end_time": "2018-02-13T04:49:07.972497Z",
     "start_time": "2018-02-13T04:49:07.967433Z"
    }
   },
   "source": [
    "### Question 1"
   ]
  },
  {
   "cell_type": "markdown",
   "metadata": {},
   "source": [
    "What is the adult obesity rate (`PCT_OBESE_ADULTS13`) for the county at the index `228`? (**Please return only the numeric value.**)"
   ]
  },
  {
   "cell_type": "code",
   "execution_count": null,
   "metadata": {
    "ExecuteTime": {
     "end_time": "2018-02-13T07:19:34.959503Z",
     "start_time": "2018-02-13T07:19:34.948760Z"
    }
   },
   "outputs": [],
   "source": []
  },
  {
   "cell_type": "markdown",
   "metadata": {},
   "source": [
    "### Question 2"
   ]
  },
  {
   "cell_type": "markdown",
   "metadata": {},
   "source": [
    "Is the county with the most farmers markets also the county with the most fast food restaurants? (**Please return only `True` or `False`.**)"
   ]
  },
  {
   "cell_type": "code",
   "execution_count": null,
   "metadata": {},
   "outputs": [],
   "source": []
  },
  {
   "cell_type": "markdown",
   "metadata": {
    "ExecuteTime": {
     "end_time": "2018-02-13T05:10:40.943482Z",
     "start_time": "2018-02-13T05:10:40.936624Z"
    }
   },
   "source": [
    "### Question 3"
   ]
  },
  {
   "cell_type": "markdown",
   "metadata": {
    "ExecuteTime": {
     "end_time": "2018-02-13T04:53:25.935273Z",
     "start_time": "2018-02-13T04:53:25.789399Z"
    }
   },
   "source": [
    "How many U.S. states have at least one county with **more than 10** grocery stores (`GROC14`) and **fewer than 10** fast food restaurants (`FFR14`)? (**Please return only the numeric value.**)"
   ]
  },
  {
   "cell_type": "code",
   "execution_count": null,
   "metadata": {},
   "outputs": [],
   "source": []
  },
  {
   "cell_type": "markdown",
   "metadata": {
    "ExecuteTime": {
     "end_time": "2018-02-07T06:42:41.179502Z",
     "start_time": "2018-02-07T06:42:41.174807Z"
    }
   },
   "source": [
    "### Question 4"
   ]
  },
  {
   "cell_type": "markdown",
   "metadata": {},
   "source": [
    "What is the average percentage of children that have a low access to grocery stores (`PCT_LACCESS_CHILD15`) in California? (**Please return only the numeric value. Round the value to 2 decimals.**)"
   ]
  },
  {
   "cell_type": "code",
   "execution_count": null,
   "metadata": {},
   "outputs": [],
   "source": []
  },
  {
   "cell_type": "markdown",
   "metadata": {},
   "source": [
    "### Question 5"
   ]
  },
  {
   "cell_type": "markdown",
   "metadata": {},
   "source": [
    "What are the **three** U.S. states (**excluding** Washington D.C.) that have, on average, the highest number of fast food restaurants per 1000 people (`FFRPTH14`)? (**Please return only an array with the state abbreviations `State`**)"
   ]
  },
  {
   "cell_type": "code",
   "execution_count": null,
   "metadata": {},
   "outputs": [],
   "source": []
  },
  {
   "cell_type": "markdown",
   "metadata": {},
   "source": [
    "### Question 6"
   ]
  },
  {
   "cell_type": "markdown",
   "metadata": {},
   "source": [
    "In which U.S. state is the county with the most farmers markets (`FMRKT16`). (**Please return only the state abbreviation `State`.**)"
   ]
  },
  {
   "cell_type": "code",
   "execution_count": null,
   "metadata": {},
   "outputs": [],
   "source": []
  },
  {
   "cell_type": "markdown",
   "metadata": {},
   "source": [
    "### Question 7"
   ]
  },
  {
   "cell_type": "markdown",
   "metadata": {
    "ExecuteTime": {
     "end_time": "2018-02-12T23:35:23.254372Z",
     "start_time": "2018-02-12T23:35:23.242792Z"
    }
   },
   "source": [
    "What are the U.S. states that have on average **less** than 25 percent obese adults? (**Please return a sorted Series.**)"
   ]
  },
  {
   "cell_type": "code",
   "execution_count": null,
   "metadata": {},
   "outputs": [],
   "source": []
  },
  {
   "cell_type": "markdown",
   "metadata": {},
   "source": [
    "### Question 8"
   ]
  },
  {
   "cell_type": "markdown",
   "metadata": {},
   "source": [
    "Calculate the **FM_FF_Ratio**, the ratio of farmers markets per 1000 people to fast food restaurants per 1000 people, as follows:"
   ]
  },
  {
   "cell_type": "code",
   "execution_count": null,
   "metadata": {
    "ExecuteTime": {
     "end_time": "2018-02-13T07:16:34.909410Z",
     "start_time": "2018-02-13T07:16:34.874136Z"
    }
   },
   "outputs": [],
   "source": [
    "food['FM_FF_Ratio'] = food['FMRKTPTH16'] / food['FFRPTH14']"
   ]
  },
  {
   "cell_type": "markdown",
   "metadata": {},
   "source": [
    "What is the **FM_FF_Ratio** ratio for Santa Clara County? (**Please return just the numeric value, rounded to 2 decimals.**)"
   ]
  },
  {
   "cell_type": "code",
   "execution_count": null,
   "metadata": {},
   "outputs": [],
   "source": []
  },
  {
   "cell_type": "markdown",
   "metadata": {
    "ExecuteTime": {
     "end_time": "2018-02-13T00:18:07.633662Z",
     "start_time": "2018-02-13T00:18:07.626297Z"
    }
   },
   "source": [
    "### Question 9"
   ]
  },
  {
   "cell_type": "markdown",
   "metadata": {},
   "source": [
    "How many Californian counties do not have farmers markets? (**Please return just a numeric value**)"
   ]
  },
  {
   "cell_type": "code",
   "execution_count": null,
   "metadata": {},
   "outputs": [],
   "source": []
  },
  {
   "cell_type": "markdown",
   "metadata": {},
   "source": [
    "### Question 10"
   ]
  },
  {
   "cell_type": "markdown",
   "metadata": {},
   "source": [
    "Is the `FM_FF_Ratio` for Santa Clara below the average `FM_FF_Ratio` for all Californian counties? (**Please return only the boolean value**)"
   ]
  },
  {
   "cell_type": "code",
   "execution_count": null,
   "metadata": {},
   "outputs": [],
   "source": []
  },
  {
   "cell_type": "markdown",
   "metadata": {
    "ExecuteTime": {
     "end_time": "2018-02-13T00:45:18.603600Z",
     "start_time": "2018-02-13T00:45:18.599743Z"
    }
   },
   "source": [
    "### Question 11"
   ]
  },
  {
   "cell_type": "markdown",
   "metadata": {},
   "source": [
    "Which factor that does **not** contain the word `ADULT`, has the highest correlation with Adult Obesity Rate (`PCT_OBESE_ADULTS13`)? (**Please return only the name of the factor**.)"
   ]
  },
  {
   "cell_type": "code",
   "execution_count": null,
   "metadata": {},
   "outputs": [],
   "source": []
  },
  {
   "cell_type": "markdown",
   "metadata": {
    "ExecuteTime": {
     "end_time": "2018-02-13T02:30:00.146178Z",
     "start_time": "2018-02-13T02:30:00.138837Z"
    }
   },
   "source": [
    "### Question 12"
   ]
  },
  {
   "cell_type": "markdown",
   "metadata": {},
   "source": [
    "What are the names of the counties nationwide that have lost all their grocery stores in 2014 (`GROC14`) and had more than two grocery stores in 2009 (`GROC09`)? (**Please return only the array with the names of the counties. Sorting is not required.**)"
   ]
  },
  {
   "cell_type": "code",
   "execution_count": null,
   "metadata": {},
   "outputs": [],
   "source": []
  },
  {
   "cell_type": "markdown",
   "metadata": {},
   "source": [
    "### Question 13"
   ]
  },
  {
   "cell_type": "markdown",
   "metadata": {},
   "source": [
    "Identify the states that are among the 10 states with the smallest percentage of active highschoolers (`PCT_HSPA15`) **and** the 10 states with the highest obesity rate (`PCT_OBESE_ADULTS13`). (**Please return an array with the state abbreviations `State`**)."
   ]
  },
  {
   "cell_type": "code",
   "execution_count": null,
   "metadata": {},
   "outputs": [],
   "source": []
  },
  {
   "cell_type": "markdown",
   "metadata": {
    "ExecuteTime": {
     "end_time": "2018-02-07T06:45:44.713601Z",
     "start_time": "2018-02-07T06:45:44.690842Z"
    }
   },
   "source": [
    "### Question 14"
   ]
  },
  {
   "cell_type": "markdown",
   "metadata": {},
   "source": [
    "Which state has the largest difference in the adult obesity rate (`PCT_OBESE_ADULTS13`) among its counties? (**Please return the state abbreviations `State`.**)"
   ]
  },
  {
   "cell_type": "code",
   "execution_count": null,
   "metadata": {},
   "outputs": [],
   "source": []
  },
  {
   "cell_type": "markdown",
   "metadata": {
    "ExecuteTime": {
     "end_time": "2018-02-13T02:33:57.655658Z",
     "start_time": "2018-02-13T02:33:57.646699Z"
    }
   },
   "source": [
    "### Question 15"
   ]
  },
  {
   "cell_type": "markdown",
   "metadata": {
    "ExecuteTime": {
     "end_time": "2018-02-13T05:26:21.425428Z",
     "start_time": "2018-02-13T05:26:21.414270Z"
    }
   },
   "source": [
    "How many counties have fewer fast food restaurants per 1000 people (`FFRPTH14`) than the average of grocery stores per 1000 people (`GROCPTH14`) and farmers markets per 1000 people (`FMRKTPTH16`)? (**Please return a percentage, rounded to 2 decimals, of the overall number of counties in the dataset.**)"
   ]
  },
  {
   "cell_type": "code",
   "execution_count": null,
   "metadata": {},
   "outputs": [],
   "source": []
  }
 ],
 "metadata": {
  "kernelspec": {
   "display_name": "Python 3",
   "language": "python",
   "name": "python3"
  },
  "language_info": {
   "codemirror_mode": {
    "name": "ipython",
    "version": 3
   },
   "file_extension": ".py",
   "mimetype": "text/x-python",
   "name": "python",
   "nbconvert_exporter": "python",
   "pygments_lexer": "ipython3",
   "version": "3.6.4"
  },
  "toc": {
   "nav_menu": {},
   "number_sections": true,
   "sideBar": true,
   "skip_h1_title": false,
   "title_cell": "Table of Contents",
   "title_sidebar": "Contents",
   "toc_cell": false,
   "toc_position": {},
   "toc_section_display": true,
   "toc_window_display": false
  },
  "varInspector": {
   "cols": {
    "lenName": 16,
    "lenType": 16,
    "lenVar": 40
   },
   "kernels_config": {
    "python": {
     "delete_cmd_postfix": "",
     "delete_cmd_prefix": "del ",
     "library": "var_list.py",
     "varRefreshCmd": "print(var_dic_list())"
    },
    "r": {
     "delete_cmd_postfix": ") ",
     "delete_cmd_prefix": "rm(",
     "library": "var_list.r",
     "varRefreshCmd": "cat(var_dic_list()) "
    }
   },
   "types_to_exclude": [
    "module",
    "function",
    "builtin_function_or_method",
    "instance",
    "_Feature"
   ],
   "window_display": false
  }
 },
 "nbformat": 4,
 "nbformat_minor": 2
}
