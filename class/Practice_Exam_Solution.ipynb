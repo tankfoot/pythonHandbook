{
 "cells": [
  {
   "cell_type": "markdown",
   "metadata": {
    "ExecuteTime": {
     "end_time": "2018-02-07T06:41:29.707370Z",
     "start_time": "2018-02-07T06:41:29.702979Z"
    }
   },
   "source": [
    "# Practice Exam"
   ]
  },
  {
   "cell_type": "markdown",
   "metadata": {},
   "source": [
    "## Cleaning"
   ]
  },
  {
   "cell_type": "code",
   "execution_count": 12,
   "metadata": {
    "ExecuteTime": {
     "end_time": "2018-02-06T21:53:47.146291Z",
     "start_time": "2018-02-06T21:53:47.140440Z"
    }
   },
   "outputs": [],
   "source": [
    "import pandas as pd"
   ]
  },
  {
   "cell_type": "code",
   "execution_count": 13,
   "metadata": {
    "ExecuteTime": {
     "end_time": "2018-02-06T21:53:48.000225Z",
     "start_time": "2018-02-06T21:53:47.993341Z"
    }
   },
   "outputs": [],
   "source": [
    "from IPython.core.interactiveshell import InteractiveShell\n",
    "InteractiveShell.ast_node_interactivity = \"all\""
   ]
  },
  {
   "cell_type": "code",
   "execution_count": 126,
   "metadata": {
    "ExecuteTime": {
     "end_time": "2018-02-06T23:11:46.418346Z",
     "start_time": "2018-02-06T23:11:46.410456Z"
    }
   },
   "outputs": [],
   "source": [
    "pd.options.display.float_format = '{:.2f}'.format"
   ]
  },
  {
   "cell_type": "code",
   "execution_count": 22,
   "metadata": {
    "ExecuteTime": {
     "end_time": "2018-02-06T21:59:09.701940Z",
     "start_time": "2018-02-06T21:59:09.365574Z"
    }
   },
   "outputs": [
    {
     "name": "stderr",
     "output_type": "stream",
     "text": [
      "/usr/local/lib/python3.6/site-packages/IPython/core/interactiveshell.py:2728: DtypeWarning: Columns (9,14,21) have mixed types. Specify dtype option on import or set low_memory=False.\n",
      "  interactivity=interactivity, compiler=compiler, result=result)\n"
     ]
    }
   ],
   "source": [
    "df = pd.read_csv('museums.csv').rename(columns=lambda x: x.strip())"
   ]
  },
  {
   "cell_type": "code",
   "execution_count": 63,
   "metadata": {
    "ExecuteTime": {
     "end_time": "2018-02-06T22:24:41.274771Z",
     "start_time": "2018-02-06T22:24:41.257222Z"
    }
   },
   "outputs": [],
   "source": [
    "my_df = df[['Museum ID','Museum Name', \\\n",
    "    'City (Administrative Location)',\\\n",
    "    'State (Administrative Location)',\\\n",
    "    'Zip Code (Administrative Location)',\\\n",
    "    'Income',\n",
    "    'Revenue']]\\\n",
    ".rename(columns={'Museum ID': 'museum_id',\\\n",
    "                'Museum Name': 'museum_name',\\\n",
    "                'City (Administrative Location)': 'museum_city',\\\n",
    "                'State (Administrative Location)': 'museum_state',\\\n",
    "                'Zip Code (Administrative Location)': 'museum_zip',\\\n",
    "                'Income': 'income',\n",
    "                'Revenue': 'revenue'})\n"
   ]
  },
  {
   "cell_type": "code",
   "execution_count": 72,
   "metadata": {
    "ExecuteTime": {
     "end_time": "2018-02-06T22:28:22.274320Z",
     "start_time": "2018-02-06T22:28:22.257431Z"
    }
   },
   "outputs": [],
   "source": [
    "my_df = my_df[my_df.income.notna()]\n",
    "my_df = my_df[my_df.revenue.notna()]\n",
    "my_df = my_df[~(my_df.income==my_df.revenue)]"
   ]
  },
  {
   "cell_type": "code",
   "execution_count": 136,
   "metadata": {
    "ExecuteTime": {
     "end_time": "2018-02-06T23:12:00.491291Z",
     "start_time": "2018-02-06T23:12:00.479952Z"
    }
   },
   "outputs": [],
   "source": [
    "exam = my_df.sample(n=1000, random_state=123)"
   ]
  },
  {
   "cell_type": "code",
   "execution_count": 138,
   "metadata": {
    "ExecuteTime": {
     "end_time": "2018-02-06T23:12:51.366509Z",
     "start_time": "2018-02-06T23:12:51.346422Z"
    }
   },
   "outputs": [],
   "source": [
    "exam.to_csv('test_exam.csv')"
   ]
  },
  {
   "cell_type": "markdown",
   "metadata": {
    "ExecuteTime": {
     "end_time": "2018-02-07T06:42:18.251369Z",
     "start_time": "2018-02-07T06:42:18.245951Z"
    }
   },
   "source": [
    "## Questions"
   ]
  },
  {
   "cell_type": "markdown",
   "metadata": {
    "ExecuteTime": {
     "end_time": "2018-02-07T06:42:41.179502Z",
     "start_time": "2018-02-07T06:42:41.174807Z"
    }
   },
   "source": [
    "### Question 1"
   ]
  },
  {
   "cell_type": "code",
   "execution_count": 125,
   "metadata": {
    "ExecuteTime": {
     "end_time": "2018-02-06T23:11:45.164906Z",
     "start_time": "2018-02-06T23:11:45.152427Z"
    }
   },
   "outputs": [
    {
     "data": {
      "text/plain": [
       "5"
      ]
     },
     "execution_count": 125,
     "metadata": {},
     "output_type": "execute_result"
    }
   ],
   "source": [
    "exam[exam['museum_state']=='AR']['museum_id'].count()"
   ]
  },
  {
   "cell_type": "markdown",
   "metadata": {},
   "source": [
    "### Question 2"
   ]
  },
  {
   "cell_type": "code",
   "execution_count": 127,
   "metadata": {
    "ExecuteTime": {
     "end_time": "2018-02-06T23:11:47.108583Z",
     "start_time": "2018-02-06T23:11:47.096374Z"
    }
   },
   "outputs": [
    {
     "data": {
      "text/plain": [
       "museum_state\n",
       "DC   535056961.00\n",
       "CT   265766464.60\n",
       "GA   229582011.12\n",
       "TN   195548028.82\n",
       "MA   183627611.48\n",
       "Name: revenue, dtype: float64"
      ]
     },
     "execution_count": 127,
     "metadata": {},
     "output_type": "execute_result"
    }
   ],
   "source": [
    "exam.groupby('museum_state')['revenue'].mean().nlargest(5)"
   ]
  },
  {
   "cell_type": "markdown",
   "metadata": {},
   "source": [
    "### Question 3"
   ]
  },
  {
   "cell_type": "code",
   "execution_count": 128,
   "metadata": {
    "ExecuteTime": {
     "end_time": "2018-02-06T23:11:48.339709Z",
     "start_time": "2018-02-06T23:11:48.309248Z"
    }
   },
   "outputs": [
    {
     "data": {
      "text/html": [
       "<div>\n",
       "<style scoped>\n",
       "    .dataframe tbody tr th:only-of-type {\n",
       "        vertical-align: middle;\n",
       "    }\n",
       "\n",
       "    .dataframe tbody tr th {\n",
       "        vertical-align: top;\n",
       "    }\n",
       "\n",
       "    .dataframe thead th {\n",
       "        text-align: right;\n",
       "    }\n",
       "</style>\n",
       "<table border=\"1\" class=\"dataframe\">\n",
       "  <thead>\n",
       "    <tr style=\"text-align: right;\">\n",
       "      <th></th>\n",
       "      <th>museum_id</th>\n",
       "      <th>income</th>\n",
       "      <th>revenue</th>\n",
       "    </tr>\n",
       "  </thead>\n",
       "  <tbody>\n",
       "    <tr>\n",
       "      <th>count</th>\n",
       "      <td>1000.00</td>\n",
       "      <td>1000.00</td>\n",
       "      <td>1000.00</td>\n",
       "    </tr>\n",
       "    <tr>\n",
       "      <th>mean</th>\n",
       "      <td>8403788129.19</td>\n",
       "      <td>205417974.00</td>\n",
       "      <td>52516644.67</td>\n",
       "    </tr>\n",
       "    <tr>\n",
       "      <th>std</th>\n",
       "      <td>2615057.13</td>\n",
       "      <td>2837289045.93</td>\n",
       "      <td>364501471.85</td>\n",
       "    </tr>\n",
       "    <tr>\n",
       "      <th>min</th>\n",
       "      <td>8400100213.00</td>\n",
       "      <td>44.00</td>\n",
       "      <td>-53294.00</td>\n",
       "    </tr>\n",
       "    <tr>\n",
       "      <th>25%</th>\n",
       "      <td>8401800702.75</td>\n",
       "      <td>98010.00</td>\n",
       "      <td>73651.00</td>\n",
       "    </tr>\n",
       "    <tr>\n",
       "      <th>50%</th>\n",
       "      <td>8403600520.50</td>\n",
       "      <td>333360.00</td>\n",
       "      <td>246870.50</td>\n",
       "    </tr>\n",
       "    <tr>\n",
       "      <th>75%</th>\n",
       "      <td>8404801006.75</td>\n",
       "      <td>2669963.25</td>\n",
       "      <td>1755428.00</td>\n",
       "    </tr>\n",
       "    <tr>\n",
       "      <th>max</th>\n",
       "      <td>8409504380.00</td>\n",
       "      <td>83181439574.00</td>\n",
       "      <td>5840349457.00</td>\n",
       "    </tr>\n",
       "  </tbody>\n",
       "</table>\n",
       "</div>"
      ],
      "text/plain": [
       "          museum_id         income       revenue\n",
       "count       1000.00        1000.00       1000.00\n",
       "mean  8403788129.19   205417974.00   52516644.67\n",
       "std      2615057.13  2837289045.93  364501471.85\n",
       "min   8400100213.00          44.00     -53294.00\n",
       "25%   8401800702.75       98010.00      73651.00\n",
       "50%   8403600520.50      333360.00     246870.50\n",
       "75%   8404801006.75     2669963.25    1755428.00\n",
       "max   8409504380.00 83181439574.00 5840349457.00"
      ]
     },
     "execution_count": 128,
     "metadata": {},
     "output_type": "execute_result"
    }
   ],
   "source": [
    "exam.describe()"
   ]
  },
  {
   "cell_type": "code",
   "execution_count": 140,
   "metadata": {
    "ExecuteTime": {
     "end_time": "2018-02-07T04:35:07.315317Z",
     "start_time": "2018-02-07T04:35:07.308818Z"
    }
   },
   "outputs": [],
   "source": [
    "exam['profit'] = exam['income']*.1"
   ]
  },
  {
   "cell_type": "markdown",
   "metadata": {},
   "source": [
    "### Question 4"
   ]
  },
  {
   "cell_type": "code",
   "execution_count": 141,
   "metadata": {
    "ExecuteTime": {
     "end_time": "2018-02-07T04:35:08.423516Z",
     "start_time": "2018-02-07T04:35:08.409466Z"
    }
   },
   "outputs": [
    {
     "data": {
      "text/plain": [
       "count         1000.00\n",
       "mean      20541797.40\n",
       "std      283728904.59\n",
       "min              4.40\n",
       "25%           9801.00\n",
       "50%          33336.00\n",
       "75%         266996.32\n",
       "max     8318143957.40\n",
       "Name: profit, dtype: float64"
      ]
     },
     "execution_count": 141,
     "metadata": {},
     "output_type": "execute_result"
    }
   ],
   "source": [
    "exam['profit'].describe()"
   ]
  },
  {
   "cell_type": "markdown",
   "metadata": {},
   "source": [
    "### Question 5"
   ]
  },
  {
   "cell_type": "code",
   "execution_count": 142,
   "metadata": {
    "ExecuteTime": {
     "end_time": "2018-02-07T04:35:09.607279Z",
     "start_time": "2018-02-07T04:35:09.593037Z"
    }
   },
   "outputs": [
    {
     "data": {
      "text/plain": [
       "museum_state\n",
       "MA   258033170.99\n",
       "Name: profit, dtype: float64"
      ]
     },
     "execution_count": 142,
     "metadata": {},
     "output_type": "execute_result"
    }
   ],
   "source": [
    "exam.groupby('museum_state')['profit'].mean().nlargest(1)"
   ]
  },
  {
   "cell_type": "code",
   "execution_count": 143,
   "metadata": {
    "ExecuteTime": {
     "end_time": "2018-02-07T04:35:40.123928Z",
     "start_time": "2018-02-07T04:35:40.110264Z"
    }
   },
   "outputs": [
    {
     "data": {
      "text/plain": [
       "museum_id       33\n",
       "museum_name     33\n",
       "museum_city     33\n",
       "museum_state    33\n",
       "museum_zip      33\n",
       "income          33\n",
       "revenue         33\n",
       "profit          33\n",
       "dtype: int64"
      ]
     },
     "execution_count": 143,
     "metadata": {},
     "output_type": "execute_result"
    }
   ],
   "source": [
    "exam[exam['museum_state']=='MA'].count()"
   ]
  },
  {
   "cell_type": "code",
   "execution_count": 132,
   "metadata": {
    "ExecuteTime": {
     "end_time": "2018-02-06T23:11:54.126124Z",
     "start_time": "2018-02-06T23:11:54.110977Z"
    }
   },
   "outputs": [
    {
     "data": {
      "text/plain": [
       "33"
      ]
     },
     "execution_count": 132,
     "metadata": {},
     "output_type": "execute_result"
    }
   ],
   "source": [
    "len(exam[exam['museum_state']=='MA'])"
   ]
  },
  {
   "cell_type": "markdown",
   "metadata": {},
   "source": [
    "better:"
   ]
  },
  {
   "cell_type": "code",
   "execution_count": 144,
   "metadata": {
    "ExecuteTime": {
     "end_time": "2018-02-07T04:37:01.172399Z",
     "start_time": "2018-02-07T04:37:01.152205Z"
    }
   },
   "outputs": [
    {
     "data": {
      "text/plain": [
       "33"
      ]
     },
     "execution_count": 144,
     "metadata": {},
     "output_type": "execute_result"
    }
   ],
   "source": [
    "exam[exam['museum_state'] == exam.groupby('museum_state')['profit'].mean().nlargest(1).index[0]]['museum_id'].count()"
   ]
  },
  {
   "cell_type": "markdown",
   "metadata": {},
   "source": [
    "### Question 6"
   ]
  },
  {
   "cell_type": "code",
   "execution_count": 133,
   "metadata": {
    "ExecuteTime": {
     "end_time": "2018-02-06T23:11:54.724819Z",
     "start_time": "2018-02-06T23:11:54.708723Z"
    }
   },
   "outputs": [
    {
     "data": {
      "text/plain": [
       "4"
      ]
     },
     "execution_count": 133,
     "metadata": {},
     "output_type": "execute_result"
    }
   ],
   "source": [
    "len(exam[(exam['museum_city'].str.startswith('SAN')) & (exam['museum_name'].str.contains('GALLERY'))])"
   ]
  },
  {
   "cell_type": "markdown",
   "metadata": {},
   "source": [
    "### Question 7"
   ]
  },
  {
   "cell_type": "code",
   "execution_count": 134,
   "metadata": {
    "ExecuteTime": {
     "end_time": "2018-02-06T23:11:56.175361Z",
     "start_time": "2018-02-06T23:11:56.158124Z"
    }
   },
   "outputs": [
    {
     "data": {
      "text/plain": [
       "True"
      ]
     },
     "execution_count": 134,
     "metadata": {},
     "output_type": "execute_result"
    }
   ],
   "source": [
    "exam[exam['museum_name'].str.contains('HALL OF FAME')]['profit'].mean() < exam[exam['museum_name'].str.contains('PARK')]['profit'].mean()"
   ]
  },
  {
   "cell_type": "markdown",
   "metadata": {
    "ExecuteTime": {
     "end_time": "2018-02-07T06:45:44.713601Z",
     "start_time": "2018-02-07T06:45:44.690842Z"
    }
   },
   "source": [
    "### Question 8"
   ]
  },
  {
   "cell_type": "code",
   "execution_count": 149,
   "metadata": {
    "ExecuteTime": {
     "end_time": "2018-02-07T06:46:01.592871Z",
     "start_time": "2018-02-07T06:46:01.563798Z"
    }
   },
   "outputs": [
    {
     "data": {
      "text/plain": [
       "museum_state\n",
       "DE   8145.80\n",
       "Name: spread, dtype: float64"
      ]
     },
     "execution_count": 149,
     "metadata": {},
     "output_type": "execute_result"
    }
   ],
   "source": [
    "spread = exam.groupby('museum_state')['profit'].agg(['min','max'])\n",
    "spread['spread'] = spread['max']-spread['min']\n",
    "spread['spread'].nsmallest(1)"
   ]
  }
 ],
 "metadata": {
  "kernelspec": {
   "display_name": "Python 3",
   "language": "python",
   "name": "python3"
  },
  "language_info": {
   "codemirror_mode": {
    "name": "ipython",
    "version": 3
   },
   "file_extension": ".py",
   "mimetype": "text/x-python",
   "name": "python",
   "nbconvert_exporter": "python",
   "pygments_lexer": "ipython3",
   "version": "3.6.4"
  },
  "toc": {
   "nav_menu": {},
   "number_sections": true,
   "sideBar": true,
   "skip_h1_title": false,
   "title_cell": "Table of Contents",
   "title_sidebar": "Contents",
   "toc_cell": false,
   "toc_position": {},
   "toc_section_display": true,
   "toc_window_display": false
  },
  "varInspector": {
   "cols": {
    "lenName": 16,
    "lenType": 16,
    "lenVar": 40
   },
   "kernels_config": {
    "python": {
     "delete_cmd_postfix": "",
     "delete_cmd_prefix": "del ",
     "library": "var_list.py",
     "varRefreshCmd": "print(var_dic_list())"
    },
    "r": {
     "delete_cmd_postfix": ") ",
     "delete_cmd_prefix": "rm(",
     "library": "var_list.r",
     "varRefreshCmd": "cat(var_dic_list()) "
    }
   },
   "types_to_exclude": [
    "module",
    "function",
    "builtin_function_or_method",
    "instance",
    "_Feature"
   ],
   "window_display": false
  }
 },
 "nbformat": 4,
 "nbformat_minor": 2
}
