{
 "cells": [
  {
   "cell_type": "code",
   "execution_count": 1,
   "metadata": {
    "ExecuteTime": {
     "end_time": "2018-02-16T01:22:28.777995Z",
     "start_time": "2018-02-16T01:22:28.389887Z"
    }
   },
   "outputs": [],
   "source": [
    "import numpy as np\n",
    "import pandas as pd\n",
    "pd.options.display.float_format = '{:.4f}'.format"
   ]
  },
  {
   "cell_type": "code",
   "execution_count": 2,
   "metadata": {
    "ExecuteTime": {
     "end_time": "2018-02-16T01:22:29.240284Z",
     "start_time": "2018-02-16T01:22:28.810747Z"
    }
   },
   "outputs": [],
   "source": [
    "%matplotlib inline"
   ]
  },
  {
   "cell_type": "code",
   "execution_count": 3,
   "metadata": {
    "ExecuteTime": {
     "end_time": "2018-02-16T01:22:29.312129Z",
     "start_time": "2018-02-16T01:22:29.295847Z"
    }
   },
   "outputs": [],
   "source": [
    "from IPython.core.interactiveshell import InteractiveShell\n",
    "InteractiveShell.ast_node_interactivity = \"all\""
   ]
  },
  {
   "cell_type": "code",
   "execution_count": 4,
   "metadata": {
    "ExecuteTime": {
     "end_time": "2018-02-16T01:22:30.926289Z",
     "start_time": "2018-02-16T01:22:29.376188Z"
    }
   },
   "outputs": [],
   "source": [
    "cd = pd.read_csv('complications.csv', dtype=str).rename(columns=lambda x: x.strip())"
   ]
  },
  {
   "cell_type": "markdown",
   "metadata": {},
   "source": [
    "This dataset contains complications in U.S. hospitals. Each observation represents the number of complications and the 30-day death rate for a specific complication in a specific hospital."
   ]
  },
  {
   "cell_type": "markdown",
   "metadata": {},
   "source": [
    "The columns are as follows:"
   ]
  },
  {
   "cell_type": "code",
   "execution_count": 5,
   "metadata": {
    "ExecuteTime": {
     "end_time": "2018-02-16T01:22:31.113075Z",
     "start_time": "2018-02-16T01:22:31.096575Z"
    }
   },
   "outputs": [
    {
     "data": {
      "text/plain": [
       "Index(['Provider ID', 'Hospital Name', 'Address', 'City', 'ZIP Code',\n",
       "       'County Name', 'Phone Number', 'Year', 'Measure ID', 'Measure Name',\n",
       "       'Denominator', 'Score', 'Lower Estimate', 'Higher Estimate'],\n",
       "      dtype='object')"
      ]
     },
     "execution_count": 5,
     "metadata": {},
     "output_type": "execute_result"
    }
   ],
   "source": [
    "cd.columns"
   ]
  },
  {
   "cell_type": "markdown",
   "metadata": {},
   "source": [
    "| Column Name | Description|\n",
    "|-------------|------------|\n",
    "|Provider ID | Unique ID of the hospital |\n",
    "|Hospital Name| Name of the hospital|\n",
    "|Address| Address of the hospital|\n",
    "|City| Name of the city the hospital is in |\n",
    "|ZIP Code | Postal code of the hospital|\n",
    "|County Name | Name of the county the hospital is in|\n",
    "|Phone Number | Phone number of the hospital |\n",
    "|Year | The year in which the complications were recorded|\n",
    "|Measure ID | Code for the complication |\n",
    "|Measure Name | Name of the complication|\n",
    "|Denominator| Number of underlying medical procedures|\n",
    "|Score | Estimate for number of serious complications |\n",
    "|Lower Estimate | Lower boundary of score|\n",
    "|Higher Estimate | Upper boundary of score|"
   ]
  },
  {
   "cell_type": "markdown",
   "metadata": {},
   "source": [
    "A quick overview of the dataset:"
   ]
  },
  {
   "cell_type": "code",
   "execution_count": 6,
   "metadata": {
    "ExecuteTime": {
     "end_time": "2018-02-16T01:22:32.104533Z",
     "start_time": "2018-02-16T01:22:31.282192Z"
    }
   },
   "outputs": [
    {
     "data": {
      "text/html": [
       "<div>\n",
       "<style scoped>\n",
       "    .dataframe tbody tr th:only-of-type {\n",
       "        vertical-align: middle;\n",
       "    }\n",
       "\n",
       "    .dataframe tbody tr th {\n",
       "        vertical-align: top;\n",
       "    }\n",
       "\n",
       "    .dataframe thead th {\n",
       "        text-align: right;\n",
       "    }\n",
       "</style>\n",
       "<table border=\"1\" class=\"dataframe\">\n",
       "  <thead>\n",
       "    <tr style=\"text-align: right;\">\n",
       "      <th></th>\n",
       "      <th>Provider ID</th>\n",
       "      <th>Hospital Name</th>\n",
       "      <th>Address</th>\n",
       "      <th>City</th>\n",
       "      <th>ZIP Code</th>\n",
       "      <th>County Name</th>\n",
       "      <th>Phone Number</th>\n",
       "      <th>Year</th>\n",
       "      <th>Measure ID</th>\n",
       "      <th>Measure Name</th>\n",
       "      <th>Denominator</th>\n",
       "      <th>Score</th>\n",
       "      <th>Lower Estimate</th>\n",
       "      <th>Higher Estimate</th>\n",
       "    </tr>\n",
       "  </thead>\n",
       "  <tbody>\n",
       "    <tr>\n",
       "      <th>count</th>\n",
       "      <td>272788</td>\n",
       "      <td>272788</td>\n",
       "      <td>272788</td>\n",
       "      <td>272788</td>\n",
       "      <td>272788</td>\n",
       "      <td>272626</td>\n",
       "      <td>272788</td>\n",
       "      <td>272788</td>\n",
       "      <td>272788</td>\n",
       "      <td>272788</td>\n",
       "      <td>272788</td>\n",
       "      <td>272788</td>\n",
       "      <td>272788</td>\n",
       "      <td>272788</td>\n",
       "    </tr>\n",
       "    <tr>\n",
       "      <th>unique</th>\n",
       "      <td>4746</td>\n",
       "      <td>5119</td>\n",
       "      <td>4915</td>\n",
       "      <td>2874</td>\n",
       "      <td>4368</td>\n",
       "      <td>1526</td>\n",
       "      <td>5028</td>\n",
       "      <td>6</td>\n",
       "      <td>26</td>\n",
       "      <td>26</td>\n",
       "      <td>23771</td>\n",
       "      <td>6373</td>\n",
       "      <td>8690</td>\n",
       "      <td>11699</td>\n",
       "    </tr>\n",
       "    <tr>\n",
       "      <th>top</th>\n",
       "      <td>500054</td>\n",
       "      <td>MEMORIAL HOSPITAL</td>\n",
       "      <td>100 HOSPITAL DRIVE</td>\n",
       "      <td>CHICAGO</td>\n",
       "      <td>76104</td>\n",
       "      <td>LOS ANGELES</td>\n",
       "      <td>6104022273</td>\n",
       "      <td>2013</td>\n",
       "      <td>MORT_30_PN</td>\n",
       "      <td>Pneumonia (PN) 30-Day Mortality Rate</td>\n",
       "      <td>26.0</td>\n",
       "      <td>0.06</td>\n",
       "      <td>0.0</td>\n",
       "      <td>0.06</td>\n",
       "    </tr>\n",
       "    <tr>\n",
       "      <th>freq</th>\n",
       "      <td>89</td>\n",
       "      <td>710</td>\n",
       "      <td>378</td>\n",
       "      <td>1957</td>\n",
       "      <td>353</td>\n",
       "      <td>5421</td>\n",
       "      <td>178</td>\n",
       "      <td>58668</td>\n",
       "      <td>24942</td>\n",
       "      <td>24942</td>\n",
       "      <td>1435</td>\n",
       "      <td>2947</td>\n",
       "      <td>23907</td>\n",
       "      <td>2897</td>\n",
       "    </tr>\n",
       "  </tbody>\n",
       "</table>\n",
       "</div>"
      ],
      "text/plain": [
       "       Provider ID      Hospital Name             Address     City ZIP Code  \\\n",
       "count       272788             272788              272788   272788   272788   \n",
       "unique        4746               5119                4915     2874     4368   \n",
       "top         500054  MEMORIAL HOSPITAL  100 HOSPITAL DRIVE  CHICAGO    76104   \n",
       "freq            89                710                 378     1957      353   \n",
       "\n",
       "        County Name Phone Number    Year  Measure ID  \\\n",
       "count        272626       272788  272788      272788   \n",
       "unique         1526         5028       6          26   \n",
       "top     LOS ANGELES   6104022273    2013  MORT_30_PN   \n",
       "freq           5421          178   58668       24942   \n",
       "\n",
       "                                Measure Name Denominator   Score  \\\n",
       "count                                 272788      272788  272788   \n",
       "unique                                    26       23771    6373   \n",
       "top     Pneumonia (PN) 30-Day Mortality Rate        26.0    0.06   \n",
       "freq                                   24942        1435    2947   \n",
       "\n",
       "       Lower Estimate Higher Estimate  \n",
       "count          272788          272788  \n",
       "unique           8690           11699  \n",
       "top               0.0            0.06  \n",
       "freq            23907            2897  "
      ]
     },
     "execution_count": 6,
     "metadata": {},
     "output_type": "execute_result"
    }
   ],
   "source": [
    "cd.describe()"
   ]
  },
  {
   "cell_type": "markdown",
   "metadata": {},
   "source": [
    "A sample of the dataset:"
   ]
  },
  {
   "cell_type": "code",
   "execution_count": 7,
   "metadata": {
    "ExecuteTime": {
     "end_time": "2018-02-16T01:22:32.237473Z",
     "start_time": "2018-02-16T01:22:32.198855Z"
    }
   },
   "outputs": [
    {
     "data": {
      "text/html": [
       "<div>\n",
       "<style scoped>\n",
       "    .dataframe tbody tr th:only-of-type {\n",
       "        vertical-align: middle;\n",
       "    }\n",
       "\n",
       "    .dataframe tbody tr th {\n",
       "        vertical-align: top;\n",
       "    }\n",
       "\n",
       "    .dataframe thead th {\n",
       "        text-align: right;\n",
       "    }\n",
       "</style>\n",
       "<table border=\"1\" class=\"dataframe\">\n",
       "  <thead>\n",
       "    <tr style=\"text-align: right;\">\n",
       "      <th></th>\n",
       "      <th>Provider ID</th>\n",
       "      <th>Hospital Name</th>\n",
       "      <th>Address</th>\n",
       "      <th>City</th>\n",
       "      <th>ZIP Code</th>\n",
       "      <th>County Name</th>\n",
       "      <th>Phone Number</th>\n",
       "      <th>Year</th>\n",
       "      <th>Measure ID</th>\n",
       "      <th>Measure Name</th>\n",
       "      <th>Denominator</th>\n",
       "      <th>Score</th>\n",
       "      <th>Lower Estimate</th>\n",
       "      <th>Higher Estimate</th>\n",
       "    </tr>\n",
       "  </thead>\n",
       "  <tbody>\n",
       "    <tr>\n",
       "      <th>22678</th>\n",
       "      <td>050222</td>\n",
       "      <td>SHARP CHULA VISTA MEDICAL CENTER</td>\n",
       "      <td>751 MEDICAL CENTER COURT</td>\n",
       "      <td>CHULA VISTA</td>\n",
       "      <td>91911</td>\n",
       "      <td>SAN DIEGO</td>\n",
       "      <td>6195025800</td>\n",
       "      <td>2016</td>\n",
       "      <td>MORT_30_PN</td>\n",
       "      <td>Pneumonia (PN) 30-Day Mortality Rate</td>\n",
       "      <td>474.0</td>\n",
       "      <td>14.3</td>\n",
       "      <td>12.1</td>\n",
       "      <td>16.8</td>\n",
       "    </tr>\n",
       "    <tr>\n",
       "      <th>22088</th>\n",
       "      <td>050191</td>\n",
       "      <td>ST MARY MEDICAL CENTER</td>\n",
       "      <td>1050 LINDEN AVE</td>\n",
       "      <td>LONG BEACH</td>\n",
       "      <td>90813</td>\n",
       "      <td>LOS ANGELES</td>\n",
       "      <td>5624919000</td>\n",
       "      <td>2012</td>\n",
       "      <td>PSI_14_POSTOP_DEHIS</td>\n",
       "      <td>A wound that splits open  after surgery on the...</td>\n",
       "      <td>102.0</td>\n",
       "      <td>1.78</td>\n",
       "      <td>0.0</td>\n",
       "      <td>3.64</td>\n",
       "    </tr>\n",
       "    <tr>\n",
       "      <th>111295</th>\n",
       "      <td>201309</td>\n",
       "      <td>MAYO REGIONAL HOSPITAL</td>\n",
       "      <td>897 WEST MAIN STREET</td>\n",
       "      <td>DOVER FOXCROFT</td>\n",
       "      <td>04426</td>\n",
       "      <td>PISCATAQUIS</td>\n",
       "      <td>2075644251</td>\n",
       "      <td>2014</td>\n",
       "      <td>MORT_30_STK</td>\n",
       "      <td>Death rate for stroke patients</td>\n",
       "      <td>43.0</td>\n",
       "      <td>14.1</td>\n",
       "      <td>10.2</td>\n",
       "      <td>18.9</td>\n",
       "    </tr>\n",
       "    <tr>\n",
       "      <th>44865</th>\n",
       "      <td>100012</td>\n",
       "      <td>LEE MEMORIAL HOSPITAL</td>\n",
       "      <td>2776 CLEVELAND AVE</td>\n",
       "      <td>FORT MYERS</td>\n",
       "      <td>33901</td>\n",
       "      <td>LEE</td>\n",
       "      <td>2393321111</td>\n",
       "      <td>2012</td>\n",
       "      <td>MORT_30_PN</td>\n",
       "      <td>Pneumonia (PN) 30-Day Mortality Rate</td>\n",
       "      <td>971.0</td>\n",
       "      <td>10.6</td>\n",
       "      <td>8.9</td>\n",
       "      <td>12.5</td>\n",
       "    </tr>\n",
       "    <tr>\n",
       "      <th>208974</th>\n",
       "      <td>390194</td>\n",
       "      <td>BLUE MOUNTAIN HOSPITAL-GNADEN HUETTEN CAMPUS</td>\n",
       "      <td>211 NORTH 12TH STREET</td>\n",
       "      <td>LEHIGHTON</td>\n",
       "      <td>18235</td>\n",
       "      <td>CARBON</td>\n",
       "      <td>6073771300</td>\n",
       "      <td>2016</td>\n",
       "      <td>MORT_30_STK</td>\n",
       "      <td>Death rate for stroke patients</td>\n",
       "      <td>72.0</td>\n",
       "      <td>15.7</td>\n",
       "      <td>11.7</td>\n",
       "      <td>20.8</td>\n",
       "    </tr>\n",
       "  </tbody>\n",
       "</table>\n",
       "</div>"
      ],
      "text/plain": [
       "       Provider ID                                 Hospital Name  \\\n",
       "22678       050222              SHARP CHULA VISTA MEDICAL CENTER   \n",
       "22088       050191                        ST MARY MEDICAL CENTER   \n",
       "111295      201309                        MAYO REGIONAL HOSPITAL   \n",
       "44865       100012                         LEE MEMORIAL HOSPITAL   \n",
       "208974      390194  BLUE MOUNTAIN HOSPITAL-GNADEN HUETTEN CAMPUS   \n",
       "\n",
       "                         Address            City ZIP Code  County Name  \\\n",
       "22678   751 MEDICAL CENTER COURT     CHULA VISTA    91911    SAN DIEGO   \n",
       "22088            1050 LINDEN AVE      LONG BEACH    90813  LOS ANGELES   \n",
       "111295      897 WEST MAIN STREET  DOVER FOXCROFT    04426  PISCATAQUIS   \n",
       "44865         2776 CLEVELAND AVE      FORT MYERS    33901          LEE   \n",
       "208974     211 NORTH 12TH STREET       LEHIGHTON    18235       CARBON   \n",
       "\n",
       "       Phone Number  Year           Measure ID  \\\n",
       "22678    6195025800  2016           MORT_30_PN   \n",
       "22088    5624919000  2012  PSI_14_POSTOP_DEHIS   \n",
       "111295   2075644251  2014          MORT_30_STK   \n",
       "44865    2393321111  2012           MORT_30_PN   \n",
       "208974   6073771300  2016          MORT_30_STK   \n",
       "\n",
       "                                             Measure Name Denominator Score  \\\n",
       "22678                Pneumonia (PN) 30-Day Mortality Rate       474.0  14.3   \n",
       "22088   A wound that splits open  after surgery on the...       102.0  1.78   \n",
       "111295                     Death rate for stroke patients        43.0  14.1   \n",
       "44865                Pneumonia (PN) 30-Day Mortality Rate       971.0  10.6   \n",
       "208974                     Death rate for stroke patients        72.0  15.7   \n",
       "\n",
       "       Lower Estimate Higher Estimate  \n",
       "22678            12.1            16.8  \n",
       "22088             0.0            3.64  \n",
       "111295           10.2            18.9  \n",
       "44865             8.9            12.5  \n",
       "208974           11.7            20.8  "
      ]
     },
     "execution_count": 7,
     "metadata": {},
     "output_type": "execute_result"
    }
   ],
   "source": [
    "cd.sample(5, random_state=1234).head()"
   ]
  },
  {
   "cell_type": "markdown",
   "metadata": {
    "ExecuteTime": {
     "end_time": "2018-02-09T01:16:45.300896Z",
     "start_time": "2018-02-09T01:16:45.295156Z"
    }
   },
   "source": [
    "# Transform relevant columns (1 point)"
   ]
  },
  {
   "cell_type": "markdown",
   "metadata": {},
   "source": [
    "All columns in the dataset are of type `str` (to preserve the ZIP code information). For **five** columns, str is the wrong type. Change the columns and explain why you changed which column."
   ]
  },
  {
   "cell_type": "code",
   "execution_count": 8,
   "metadata": {
    "ExecuteTime": {
     "end_time": "2018-02-16T01:22:32.915416Z",
     "start_time": "2018-02-16T01:22:32.342922Z"
    }
   },
   "outputs": [],
   "source": [
    "cd['Year'] = pd.to_datetime(cd['Year'])\n",
    "cd['Denominator'] = pd.to_numeric(cd['Denominator'])\n",
    "cd['Score'] = pd.to_numeric(cd['Score'])\n",
    "cd['Lower Estimate'] = pd.to_numeric(cd['Lower Estimate'])\n",
    "cd['Higher Estimate'] = pd.to_numeric(cd['Higher Estimate'])"
   ]
  },
  {
   "cell_type": "markdown",
   "metadata": {
    "ExecuteTime": {
     "end_time": "2018-02-09T01:31:41.847890Z",
     "start_time": "2018-02-09T01:31:41.839019Z"
    }
   },
   "source": [
    "# Create a ratio between the score and the denominator (1 point)"
   ]
  },
  {
   "cell_type": "markdown",
   "metadata": {
    "ExecuteTime": {
     "end_time": "2018-02-09T01:34:20.308451Z",
     "start_time": "2018-02-09T01:34:20.287272Z"
    }
   },
   "source": [
    "Create a new column in the dataset that contains the ratio value."
   ]
  },
  {
   "cell_type": "code",
   "execution_count": 9,
   "metadata": {
    "ExecuteTime": {
     "end_time": "2018-02-16T01:22:33.054690Z",
     "start_time": "2018-02-16T01:22:33.006668Z"
    }
   },
   "outputs": [],
   "source": [
    "cd['Ratio'] = cd['Score']/cd['Denominator']"
   ]
  },
  {
   "cell_type": "markdown",
   "metadata": {
    "ExecuteTime": {
     "end_time": "2018-02-09T01:33:13.551872Z",
     "start_time": "2018-02-09T01:33:13.546879Z"
    }
   },
   "source": [
    "# Create an overview of the ratio for deathly complications (2 points)"
   ]
  },
  {
   "cell_type": "markdown",
   "metadata": {},
   "source": [
    "0. **Be careful when you identify 'deathly' complications and make sure that you catch all of them.**\n",
    "1. Create the overview (Make sure that the overview is understandable to everyone.)\n",
    "2. Choose an appropriate measure to aggregate the data. **Ignore that the data is for multiple years**.\n",
    "2. Sort with the highest ratio on top."
   ]
  },
  {
   "cell_type": "code",
   "execution_count": 10,
   "metadata": {
    "ExecuteTime": {
     "end_time": "2018-02-16T01:22:33.504876Z",
     "start_time": "2018-02-16T01:22:33.155258Z"
    }
   },
   "outputs": [
    {
     "data": {
      "text/html": [
       "<div>\n",
       "<style scoped>\n",
       "    .dataframe tbody tr th:only-of-type {\n",
       "        vertical-align: middle;\n",
       "    }\n",
       "\n",
       "    .dataframe tbody tr th {\n",
       "        vertical-align: top;\n",
       "    }\n",
       "\n",
       "    .dataframe thead th {\n",
       "        text-align: right;\n",
       "    }\n",
       "</style>\n",
       "<table border=\"1\" class=\"dataframe\">\n",
       "  <thead>\n",
       "    <tr style=\"text-align: right;\">\n",
       "      <th></th>\n",
       "      <th>Ratio</th>\n",
       "    </tr>\n",
       "    <tr>\n",
       "      <th>Measure Name</th>\n",
       "      <th></th>\n",
       "    </tr>\n",
       "  </thead>\n",
       "  <tbody>\n",
       "    <tr>\n",
       "      <th>Deaths among Patients with Serious Treatable Complications after Surgery</th>\n",
       "      <td>0.5244</td>\n",
       "    </tr>\n",
       "    <tr>\n",
       "      <th>Death rate for stroke patients</th>\n",
       "      <td>0.1848</td>\n",
       "    </tr>\n",
       "    <tr>\n",
       "      <th>Acute Myocardial Infarction (AMI) 30-Day Mortality Rate</th>\n",
       "      <td>0.1599</td>\n",
       "    </tr>\n",
       "    <tr>\n",
       "      <th>Heart failure (HF) 30-Day Mortality Rate</th>\n",
       "      <td>0.1217</td>\n",
       "    </tr>\n",
       "    <tr>\n",
       "      <th>Pneumonia (PN) 30-Day Mortality Rate</th>\n",
       "      <td>0.1159</td>\n",
       "    </tr>\n",
       "    <tr>\n",
       "      <th>Death rate for chronic obstructive pulmonary disease (COPD) patients</th>\n",
       "      <td>0.0833</td>\n",
       "    </tr>\n",
       "    <tr>\n",
       "      <th>Death rate for CABG</th>\n",
       "      <td>0.0415</td>\n",
       "    </tr>\n",
       "  </tbody>\n",
       "</table>\n",
       "</div>"
      ],
      "text/plain": [
       "                                                    Ratio\n",
       "Measure Name                                             \n",
       "Deaths among Patients with Serious Treatable Co... 0.5244\n",
       "Death rate for stroke patients                     0.1848\n",
       "Acute Myocardial Infarction (AMI) 30-Day Mortal... 0.1599\n",
       "Heart failure (HF) 30-Day Mortality Rate           0.1217\n",
       "Pneumonia (PN) 30-Day Mortality Rate               0.1159\n",
       "Death rate for chronic obstructive pulmonary di... 0.0833\n",
       "Death rate for CABG                                0.0415"
      ]
     },
     "execution_count": 10,
     "metadata": {},
     "output_type": "execute_result"
    }
   ],
   "source": [
    "cd[cd['Measure Name']\\\n",
    ".str.contains(r'Death|Mort')]\\\n",
    ".groupby(['Measure Name'])[['Ratio']]\\\n",
    ".mean()\\\n",
    ".sort_values(by='Ratio',ascending=False)"
   ]
  },
  {
   "cell_type": "markdown",
   "metadata": {
    "ExecuteTime": {
     "end_time": "2018-02-09T01:37:40.834697Z",
     "start_time": "2018-02-09T01:37:40.831044Z"
    }
   },
   "source": [
    "# Identify the five safest hospitals (2 points)"
   ]
  },
  {
   "cell_type": "markdown",
   "metadata": {},
   "source": [
    "Return a **list** with the hospitals that have, on average, the lowest rate of deadly complications. **Be careful when you identify 'deathly' complications.** (Again, ignore that the dataset covers multiple years)."
   ]
  },
  {
   "cell_type": "code",
   "execution_count": 11,
   "metadata": {
    "ExecuteTime": {
     "end_time": "2018-02-16T01:22:33.935096Z",
     "start_time": "2018-02-16T01:22:33.586093Z"
    }
   },
   "outputs": [
    {
     "data": {
      "text/plain": [
       "Hospital Name\n",
       "UNIVERITY OF MD BALTO WASHINGTON  MEDICAL CENTER   0.0206\n",
       "NEW YORK-PRESBYTERIAN HOSPITAL                     0.0220\n",
       "NORTON HOSPITALS, INC                              0.0226\n",
       "SAN JUAN VA MEDICAL CENTER                         0.0240\n",
       "FLORIDA HOSPITAL                                   0.0256\n",
       "Name: Ratio, dtype: float64"
      ]
     },
     "execution_count": 11,
     "metadata": {},
     "output_type": "execute_result"
    }
   ],
   "source": [
    "cd[cd['Measure Name']\\\n",
    ".str.contains(r'Dea|Mort')]\\\n",
    ".groupby('Hospital Name')['Ratio']\\\n",
    ".mean()\\\n",
    ".nsmallest(5)"
   ]
  },
  {
   "cell_type": "markdown",
   "metadata": {
    "ExecuteTime": {
     "end_time": "2018-02-09T01:54:20.635175Z",
     "start_time": "2018-02-09T01:54:20.626192Z"
    }
   },
   "source": [
    "# Augment the datset with information about the state (1 points)"
   ]
  },
  {
   "cell_type": "markdown",
   "metadata": {
    "ExecuteTime": {
     "end_time": "2018-02-09T01:55:10.296708Z",
     "start_time": "2018-02-09T01:55:10.285834Z"
    }
   },
   "source": [
    "Read the file 'geo-data.csv'. **Make sure that you read all columns as string.**"
   ]
  },
  {
   "cell_type": "code",
   "execution_count": 12,
   "metadata": {
    "ExecuteTime": {
     "end_time": "2018-02-16T01:22:34.108825Z",
     "start_time": "2018-02-16T01:22:34.034546Z"
    }
   },
   "outputs": [],
   "source": [
    "zip_codes = pd.read_csv('geo-data.csv', dtype=str)"
   ]
  },
  {
   "cell_type": "markdown",
   "metadata": {},
   "source": [
    "This file contains information about the relationship of zip codes, counties, and U.S. states. "
   ]
  },
  {
   "cell_type": "code",
   "execution_count": 13,
   "metadata": {
    "ExecuteTime": {
     "end_time": "2018-02-16T01:22:34.248716Z",
     "start_time": "2018-02-16T01:22:34.237288Z"
    }
   },
   "outputs": [
    {
     "data": {
      "text/plain": [
       "Index(['state_fips', 'state', 'state_abbr', 'zipcode', 'county', 'city'], dtype='object')"
      ]
     },
     "execution_count": 13,
     "metadata": {},
     "output_type": "execute_result"
    }
   ],
   "source": [
    "zip_codes.columns"
   ]
  },
  {
   "cell_type": "markdown",
   "metadata": {},
   "source": [
    "| Column Name | Description|\n",
    "|-------------|------------|\n",
    "|state_fips | FIPS code for the state |\n",
    "|state| Name of the state|\n",
    "|state_abbr| Abbreviation of the state|\n",
    "|zipcode | Postal code|\n",
    "|county | County name|\n",
    "|city | City name  |"
   ]
  },
  {
   "cell_type": "markdown",
   "metadata": {},
   "source": [
    "1. Combine the dataset on complications with the dateset on zip codes.\n",
    "2. Explain why you chose the column that used to combine the datasets.\n",
    "3. **Do not worry, not all states will be matched.**"
   ]
  },
  {
   "cell_type": "code",
   "execution_count": 14,
   "metadata": {
    "ExecuteTime": {
     "end_time": "2018-02-16T01:22:34.560448Z",
     "start_time": "2018-02-16T01:22:34.384474Z"
    }
   },
   "outputs": [],
   "source": [
    "cds=pd.merge(cd, zip_codes, left_on='ZIP Code', right_on='zipcode', how='left' )"
   ]
  },
  {
   "cell_type": "code",
   "execution_count": 15,
   "metadata": {
    "ExecuteTime": {
     "end_time": "2018-02-16T01:22:35.138840Z",
     "start_time": "2018-02-16T01:22:35.126961Z"
    }
   },
   "outputs": [
    {
     "data": {
      "text/plain": [
       "Index(['Provider ID', 'Hospital Name', 'Address', 'City', 'ZIP Code',\n",
       "       'County Name', 'Phone Number', 'Year', 'Measure ID', 'Measure Name',\n",
       "       'Denominator', 'Score', 'Lower Estimate', 'Higher Estimate', 'Ratio',\n",
       "       'state_fips', 'state', 'state_abbr', 'zipcode', 'county', 'city'],\n",
       "      dtype='object')"
      ]
     },
     "execution_count": 15,
     "metadata": {},
     "output_type": "execute_result"
    }
   ],
   "source": [
    "cds.columns"
   ]
  },
  {
   "cell_type": "markdown",
   "metadata": {
    "ExecuteTime": {
     "end_time": "2018-02-09T02:01:36.232035Z",
     "start_time": "2018-02-09T02:01:36.225785Z"
    }
   },
   "source": [
    "# Create an overview of the complications per U.S. state (1 point)"
   ]
  },
  {
   "cell_type": "markdown",
   "metadata": {},
   "source": [
    "* Return a sorted list with the overall complication rate per state. \n",
    "* Ignore that the data is for multiple years. \n",
    "* Focus on the **best** ten states."
   ]
  },
  {
   "cell_type": "code",
   "execution_count": 16,
   "metadata": {
    "ExecuteTime": {
     "end_time": "2018-02-16T01:22:35.733150Z",
     "start_time": "2018-02-16T01:22:35.663383Z"
    }
   },
   "outputs": [
    {
     "data": {
      "text/plain": [
       "state\n",
       "Delaware               0.0634\n",
       "Maryland               0.0685\n",
       "Florida                0.0756\n",
       "District of columbia   0.0777\n",
       "Virginia               0.0796\n",
       "Pennsylvania           0.0869\n",
       "New york               0.0881\n",
       "South carolina         0.0893\n",
       "North carolina         0.0899\n",
       "Ohio                   0.0918\n",
       "Name: Ratio, dtype: float64"
      ]
     },
     "execution_count": 16,
     "metadata": {},
     "output_type": "execute_result"
    }
   ],
   "source": [
    "cds.groupby('state')['Ratio'].mean().nsmallest(10)"
   ]
  },
  {
   "cell_type": "markdown",
   "metadata": {},
   "source": [
    "# Create an overview of the change across U.S. states (2 points)"
   ]
  },
  {
   "cell_type": "markdown",
   "metadata": {},
   "source": [
    "* Focus on the deathly complications only.\n",
    "* Calculate the change as follows: **(average rate for last year in dataset - average rate for first year in dataset)/(average rate for first year in dataset)**"
   ]
  },
  {
   "cell_type": "code",
   "execution_count": 17,
   "metadata": {
    "ExecuteTime": {
     "end_time": "2018-02-16T01:22:36.559820Z",
     "start_time": "2018-02-16T01:22:36.186488Z"
    }
   },
   "outputs": [],
   "source": [
    "improved = cds[cds['Measure Name']\\\n",
    ".str.contains(r'Death|Mort')].groupby(['state','Year'])['Ratio'].mean().groupby(['state']).apply(lambda x: (x.iloc[-1] - x.iloc[0])/x.iloc[0]).sort_values()"
   ]
  },
  {
   "cell_type": "code",
   "execution_count": 18,
   "metadata": {
    "ExecuteTime": {
     "end_time": "2018-02-16T01:22:36.969564Z",
     "start_time": "2018-02-16T01:22:36.957635Z"
    }
   },
   "outputs": [
    {
     "data": {
      "text/plain": [
       "state\n",
       "Delaware               -0.1874\n",
       "South carolina         -0.1660\n",
       "Nevada                 -0.1612\n",
       "Arizona                -0.1380\n",
       "Oregon                 -0.1280\n",
       "Maryland               -0.1023\n",
       "Alaska                 -0.0912\n",
       "Tennessee              -0.0843\n",
       "Alabama                -0.0736\n",
       "Virginia               -0.0683\n",
       "Kentucky               -0.0650\n",
       "Missouri               -0.0613\n",
       "Georgia                -0.0600\n",
       "Utah                   -0.0572\n",
       "Florida                -0.0557\n",
       "Pennsylvania           -0.0550\n",
       "Texas                  -0.0458\n",
       "Indiana                -0.0454\n",
       "Ohio                   -0.0434\n",
       "West virginia          -0.0366\n",
       "Louisiana              -0.0344\n",
       "Washington             -0.0270\n",
       "Illinois               -0.0257\n",
       "Wisconsin              -0.0244\n",
       "Michigan               -0.0158\n",
       "North carolina         -0.0157\n",
       "Hawaii                 -0.0112\n",
       "Idaho                  -0.0080\n",
       "Oklahoma               -0.0009\n",
       "California             -0.0006\n",
       "Minnesota               0.0052\n",
       "Arkansas                0.0072\n",
       "Mississippi             0.0104\n",
       "Colorado                0.0111\n",
       "New york                0.0222\n",
       "District of columbia    0.0246\n",
       "Kansas                  0.0277\n",
       "South dakota            0.0501\n",
       "Nebraska                0.0512\n",
       "New mexico              0.0766\n",
       "Montana                 0.0836\n",
       "Iowa                    0.0847\n",
       "North dakota            0.0898\n",
       "Wyoming                 0.1061\n",
       "Name: Ratio, dtype: float64"
      ]
     },
     "execution_count": 18,
     "metadata": {},
     "output_type": "execute_result"
    }
   ],
   "source": [
    "improved"
   ]
  },
  {
   "cell_type": "markdown",
   "metadata": {},
   "source": [
    "Which state has improved the most?"
   ]
  },
  {
   "cell_type": "code",
   "execution_count": null,
   "metadata": {
    "ExecuteTime": {
     "end_time": "2018-02-16T01:22:37.510990Z",
     "start_time": "2018-02-16T01:22:37.494191Z"
    }
   },
   "outputs": [],
   "source": [
    "improved.nsmallest(1)"
   ]
  },
  {
   "cell_type": "code",
   "execution_count": null,
   "metadata": {
    "ExecuteTime": {
     "end_time": "2018-02-16T01:22:37.510990Z",
     "start_time": "2018-02-16T01:22:37.494191Z"
    }
   },
   "outputs": [],
   "source": []
  },
  {
   "cell_type": "code",
   "execution_count": 19,
   "metadata": {
    "ExecuteTime": {
     "end_time": "2018-02-16T01:22:37.510990Z",
     "start_time": "2018-02-16T01:22:37.494191Z"
    }
   },
   "outputs": [
    {
     "data": {
      "text/plain": [
       "state\n",
       "Delaware   -0.1874\n",
       "Name: Ratio, dtype: float64"
      ]
     },
     "execution_count": 19,
     "metadata": {},
     "output_type": "execute_result"
    }
   ],
   "source": []
  },
  {
   "cell_type": "markdown",
   "metadata": {},
   "source": [
    "Which state has the worst development?"
   ]
  },
  {
   "cell_type": "code",
   "execution_count": 20,
   "metadata": {
    "ExecuteTime": {
     "end_time": "2018-02-16T01:22:37.956938Z",
     "start_time": "2018-02-16T01:22:37.933459Z"
    }
   },
   "outputs": [
    {
     "data": {
      "text/plain": [
       "state\n",
       "Wyoming   0.1061\n",
       "Name: Ratio, dtype: float64"
      ]
     },
     "execution_count": 20,
     "metadata": {},
     "output_type": "execute_result"
    }
   ],
   "source": [
    "improved.nlargest(1)"
   ]
  },
  {
   "cell_type": "markdown",
   "metadata": {
    "ExecuteTime": {
     "end_time": "2018-02-09T02:30:33.122083Z",
     "start_time": "2018-02-09T02:30:33.116370Z"
    }
   },
   "source": [
    "# Bonus (1 points)"
   ]
  },
  {
   "cell_type": "markdown",
   "metadata": {},
   "source": [
    "Which state has the worst development for 'Deaths among Patients with Serious Treatable Complications after Surgery'?"
   ]
  },
  {
   "cell_type": "code",
   "execution_count": 21,
   "metadata": {
    "ExecuteTime": {
     "end_time": "2018-02-16T01:22:38.883620Z",
     "start_time": "2018-02-16T01:22:38.413156Z"
    }
   },
   "outputs": [
    {
     "data": {
      "text/plain": [
       "state\n",
       "Utah                    0.2155\n",
       "District of columbia    0.0553\n",
       "Alaska                  0.0441\n",
       "Arkansas                0.0328\n",
       "Michigan                0.0075\n",
       "Maryland                0.0000\n",
       "Idaho                  -0.0252\n",
       "Minnesota              -0.0451\n",
       "Missouri               -0.0454\n",
       "Tennessee              -0.0467\n",
       "Name: PSI_4_SURG_COMP, dtype: float64"
      ]
     },
     "execution_count": 21,
     "metadata": {},
     "output_type": "execute_result"
    }
   ],
   "source": [
    "cds.groupby(['state','Measure ID','Year'])['Ratio'].mean().groupby(['state','Measure ID']).apply(lambda x: (x.iloc[-1] - x.iloc[0])/x.iloc[0]).unstack()['PSI_4_SURG_COMP'].nlargest(10)"
   ]
  },
  {
   "cell_type": "code",
   "execution_count": null,
   "metadata": {},
   "outputs": [],
   "source": []
  }
 ],
 "metadata": {
  "kernelspec": {
   "display_name": "Python 3",
   "language": "python",
   "name": "python3"
  },
  "language_info": {
   "codemirror_mode": {
    "name": "ipython",
    "version": 3
   },
   "file_extension": ".py",
   "mimetype": "text/x-python",
   "name": "python",
   "nbconvert_exporter": "python",
   "pygments_lexer": "ipython3",
   "version": "3.6.4"
  },
  "toc": {
   "nav_menu": {},
   "number_sections": true,
   "sideBar": true,
   "skip_h1_title": false,
   "title_cell": "Table of Contents",
   "title_sidebar": "Contents",
   "toc_cell": false,
   "toc_position": {},
   "toc_section_display": true,
   "toc_window_display": false
  },
  "varInspector": {
   "cols": {
    "lenName": 16,
    "lenType": 16,
    "lenVar": 40
   },
   "kernels_config": {
    "python": {
     "delete_cmd_postfix": "",
     "delete_cmd_prefix": "del ",
     "library": "var_list.py",
     "varRefreshCmd": "print(var_dic_list())"
    },
    "r": {
     "delete_cmd_postfix": ") ",
     "delete_cmd_prefix": "rm(",
     "library": "var_list.r",
     "varRefreshCmd": "cat(var_dic_list()) "
    }
   },
   "types_to_exclude": [
    "module",
    "function",
    "builtin_function_or_method",
    "instance",
    "_Feature"
   ],
   "window_display": false
  }
 },
 "nbformat": 4,
 "nbformat_minor": 2
}
