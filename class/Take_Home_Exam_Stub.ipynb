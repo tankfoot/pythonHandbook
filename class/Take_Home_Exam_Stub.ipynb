{
 "cells": [
  {
   "cell_type": "markdown",
   "metadata": {},
   "source": [
    "# Take Home Exam"
   ]
  },
  {
   "cell_type": "markdown",
   "metadata": {},
   "source": [
    "## Instructions:\n",
    "* Make sure that you run all code cells that are included in this notebook.\n",
    "* I will deduct points in **half-point steps** in the following cases:\n",
    "    * Your code does not work.\n",
    "    * You are not answering the question (Read carefully).\n",
    "    * Your code is slow or inefficient.\n",
    "    * You do not explain why you are doing what you are doing.\n",
    "    * Clean **unnecessary** elements before submission.\n",
    "    * **Check the rubric on Camino for this assignment!**\n",
    "    \n",
    "**The deadline is Saturday, February 10, 2018, 11:59PM**.\n",
    "\n",
    "**I am not available on Saturday and have only limited access to my email. If you have questions or issues, make sure you adress them on Friday. **"
   ]
  },
  {
   "cell_type": "markdown",
   "metadata": {
    "ExecuteTime": {
     "end_time": "2018-02-09T02:47:21.154845Z",
     "start_time": "2018-02-09T02:47:21.148053Z"
    }
   },
   "source": [
    "## Overview"
   ]
  },
  {
   "cell_type": "code",
   "execution_count": null,
   "metadata": {},
   "outputs": [],
   "source": [
    "import numpy as np\n",
    "import pandas as pd\n",
    "pd.options.display.float_format = '{:.4f}'.format"
   ]
  },
  {
   "cell_type": "code",
   "execution_count": 3,
   "metadata": {
    "ExecuteTime": {
     "end_time": "2018-02-09T02:32:57.453215Z",
     "start_time": "2018-02-09T02:32:57.208930Z"
    }
   },
   "outputs": [],
   "source": [
    "%matplotlib inline"
   ]
  },
  {
   "cell_type": "code",
   "execution_count": 4,
   "metadata": {
    "ExecuteTime": {
     "end_time": "2018-02-09T02:32:57.827511Z",
     "start_time": "2018-02-09T02:32:57.819390Z"
    }
   },
   "outputs": [],
   "source": [
    "from IPython.core.interactiveshell import InteractiveShell\n",
    "InteractiveShell.ast_node_interactivity = \"all\""
   ]
  },
  {
   "cell_type": "code",
   "execution_count": 5,
   "metadata": {
    "ExecuteTime": {
     "end_time": "2018-02-09T02:32:59.474851Z",
     "start_time": "2018-02-09T02:32:58.389018Z"
    }
   },
   "outputs": [],
   "source": [
    "cd = pd.read_csv('complications.csv', dtype=str).rename(columns=lambda x: x.strip())"
   ]
  },
  {
   "cell_type": "markdown",
   "metadata": {},
   "source": [
    "This dataset contains complications in U.S. hospitals. Each observation represents the number of complications and the 30-day death rate for a specific complication in a specific hospital."
   ]
  },
  {
   "cell_type": "markdown",
   "metadata": {},
   "source": [
    "The columns are as follows:"
   ]
  },
  {
   "cell_type": "code",
   "execution_count": 6,
   "metadata": {
    "ExecuteTime": {
     "end_time": "2018-02-09T02:33:02.568935Z",
     "start_time": "2018-02-09T02:33:02.556557Z"
    }
   },
   "outputs": [
    {
     "data": {
      "text/plain": [
       "Index(['Provider ID', 'Hospital Name', 'Address', 'City', 'ZIP Code',\n",
       "       'County Name', 'Phone Number', 'Year', 'Measure ID', 'Measure Name',\n",
       "       'Denominator', 'Score', 'Lower Estimate', 'Higher Estimate'],\n",
       "      dtype='object')"
      ]
     },
     "execution_count": 6,
     "metadata": {},
     "output_type": "execute_result"
    }
   ],
   "source": [
    "cd.columns"
   ]
  },
  {
   "cell_type": "markdown",
   "metadata": {},
   "source": [
    "| Column Name | Description|\n",
    "|-------------|------------|\n",
    "|Provider ID | Unique ID of the hospital |\n",
    "|Hospital Name| Name of the hospital|\n",
    "|Address| Address of the hospital|\n",
    "|City| Name of the city the hospital is in |\n",
    "|ZIP Code | Postal code of the hospital|\n",
    "|County Name | Name of the county the hospital is in|\n",
    "|Phone Number | Phone number of the hospital |\n",
    "|Year | The year in which the complications were recorded|\n",
    "|Measure ID | Code for the complication |\n",
    "|Measure Name | Name of the complication|\n",
    "|Denominator| Number of underlying medical procedures|\n",
    "|Score | Estimate for number of serious complications |\n",
    "|Lower Estimate | Lower boundary of score|\n",
    "|Higher Estimate | Upper boundary of score|"
   ]
  },
  {
   "cell_type": "markdown",
   "metadata": {},
   "source": [
    "A quick overview of the dataset:"
   ]
  },
  {
   "cell_type": "code",
   "execution_count": 7,
   "metadata": {
    "ExecuteTime": {
     "end_time": "2018-02-09T02:33:06.354324Z",
     "start_time": "2018-02-09T02:33:05.407259Z"
    }
   },
   "outputs": [
    {
     "data": {
      "text/html": [
       "<div>\n",
       "<style scoped>\n",
       "    .dataframe tbody tr th:only-of-type {\n",
       "        vertical-align: middle;\n",
       "    }\n",
       "\n",
       "    .dataframe tbody tr th {\n",
       "        vertical-align: top;\n",
       "    }\n",
       "\n",
       "    .dataframe thead th {\n",
       "        text-align: right;\n",
       "    }\n",
       "</style>\n",
       "<table border=\"1\" class=\"dataframe\">\n",
       "  <thead>\n",
       "    <tr style=\"text-align: right;\">\n",
       "      <th></th>\n",
       "      <th>Provider ID</th>\n",
       "      <th>Hospital Name</th>\n",
       "      <th>Address</th>\n",
       "      <th>City</th>\n",
       "      <th>ZIP Code</th>\n",
       "      <th>County Name</th>\n",
       "      <th>Phone Number</th>\n",
       "      <th>Year</th>\n",
       "      <th>Measure ID</th>\n",
       "      <th>Measure Name</th>\n",
       "      <th>Denominator</th>\n",
       "      <th>Score</th>\n",
       "      <th>Lower Estimate</th>\n",
       "      <th>Higher Estimate</th>\n",
       "    </tr>\n",
       "  </thead>\n",
       "  <tbody>\n",
       "    <tr>\n",
       "      <th>count</th>\n",
       "      <td>272788</td>\n",
       "      <td>272788</td>\n",
       "      <td>272788</td>\n",
       "      <td>272788</td>\n",
       "      <td>272788</td>\n",
       "      <td>272626</td>\n",
       "      <td>272788</td>\n",
       "      <td>272788</td>\n",
       "      <td>272788</td>\n",
       "      <td>272788</td>\n",
       "      <td>272788</td>\n",
       "      <td>272788</td>\n",
       "      <td>272788</td>\n",
       "      <td>272788</td>\n",
       "    </tr>\n",
       "    <tr>\n",
       "      <th>unique</th>\n",
       "      <td>4746</td>\n",
       "      <td>5119</td>\n",
       "      <td>4915</td>\n",
       "      <td>2874</td>\n",
       "      <td>4368</td>\n",
       "      <td>1526</td>\n",
       "      <td>5028</td>\n",
       "      <td>6</td>\n",
       "      <td>26</td>\n",
       "      <td>26</td>\n",
       "      <td>23771</td>\n",
       "      <td>6373</td>\n",
       "      <td>8690</td>\n",
       "      <td>11699</td>\n",
       "    </tr>\n",
       "    <tr>\n",
       "      <th>top</th>\n",
       "      <td>140209</td>\n",
       "      <td>MEMORIAL HOSPITAL</td>\n",
       "      <td>100 HOSPITAL DRIVE</td>\n",
       "      <td>CHICAGO</td>\n",
       "      <td>76104</td>\n",
       "      <td>LOS ANGELES</td>\n",
       "      <td>6104022273</td>\n",
       "      <td>2013</td>\n",
       "      <td>MORT_30_PN</td>\n",
       "      <td>Pneumonia (PN) 30-Day Mortality Rate</td>\n",
       "      <td>26.0</td>\n",
       "      <td>0.06</td>\n",
       "      <td>0.0</td>\n",
       "      <td>0.06</td>\n",
       "    </tr>\n",
       "    <tr>\n",
       "      <th>freq</th>\n",
       "      <td>89</td>\n",
       "      <td>710</td>\n",
       "      <td>378</td>\n",
       "      <td>1957</td>\n",
       "      <td>353</td>\n",
       "      <td>5421</td>\n",
       "      <td>178</td>\n",
       "      <td>58668</td>\n",
       "      <td>24942</td>\n",
       "      <td>24942</td>\n",
       "      <td>1435</td>\n",
       "      <td>2947</td>\n",
       "      <td>23907</td>\n",
       "      <td>2897</td>\n",
       "    </tr>\n",
       "  </tbody>\n",
       "</table>\n",
       "</div>"
      ],
      "text/plain": [
       "       Provider ID      Hospital Name             Address     City ZIP Code  \\\n",
       "count       272788             272788              272788   272788   272788   \n",
       "unique        4746               5119                4915     2874     4368   \n",
       "top         140209  MEMORIAL HOSPITAL  100 HOSPITAL DRIVE  CHICAGO    76104   \n",
       "freq            89                710                 378     1957      353   \n",
       "\n",
       "        County Name Phone Number    Year  Measure ID  \\\n",
       "count        272626       272788  272788      272788   \n",
       "unique         1526         5028       6          26   \n",
       "top     LOS ANGELES   6104022273    2013  MORT_30_PN   \n",
       "freq           5421          178   58668       24942   \n",
       "\n",
       "                                Measure Name Denominator   Score  \\\n",
       "count                                 272788      272788  272788   \n",
       "unique                                    26       23771    6373   \n",
       "top     Pneumonia (PN) 30-Day Mortality Rate        26.0    0.06   \n",
       "freq                                   24942        1435    2947   \n",
       "\n",
       "       Lower Estimate Higher Estimate  \n",
       "count          272788          272788  \n",
       "unique           8690           11699  \n",
       "top               0.0            0.06  \n",
       "freq            23907            2897  "
      ]
     },
     "execution_count": 7,
     "metadata": {},
     "output_type": "execute_result"
    }
   ],
   "source": [
    "cd.describe()"
   ]
  },
  {
   "cell_type": "markdown",
   "metadata": {},
   "source": [
    "A sample of the dataset:"
   ]
  },
  {
   "cell_type": "code",
   "execution_count": 8,
   "metadata": {
    "ExecuteTime": {
     "end_time": "2018-02-09T02:33:09.786940Z",
     "start_time": "2018-02-09T02:33:09.725225Z"
    }
   },
   "outputs": [
    {
     "data": {
      "text/html": [
       "<div>\n",
       "<style scoped>\n",
       "    .dataframe tbody tr th:only-of-type {\n",
       "        vertical-align: middle;\n",
       "    }\n",
       "\n",
       "    .dataframe tbody tr th {\n",
       "        vertical-align: top;\n",
       "    }\n",
       "\n",
       "    .dataframe thead th {\n",
       "        text-align: right;\n",
       "    }\n",
       "</style>\n",
       "<table border=\"1\" class=\"dataframe\">\n",
       "  <thead>\n",
       "    <tr style=\"text-align: right;\">\n",
       "      <th></th>\n",
       "      <th>Provider ID</th>\n",
       "      <th>Hospital Name</th>\n",
       "      <th>Address</th>\n",
       "      <th>City</th>\n",
       "      <th>ZIP Code</th>\n",
       "      <th>County Name</th>\n",
       "      <th>Phone Number</th>\n",
       "      <th>Year</th>\n",
       "      <th>Measure ID</th>\n",
       "      <th>Measure Name</th>\n",
       "      <th>Denominator</th>\n",
       "      <th>Score</th>\n",
       "      <th>Lower Estimate</th>\n",
       "      <th>Higher Estimate</th>\n",
       "    </tr>\n",
       "  </thead>\n",
       "  <tbody>\n",
       "    <tr>\n",
       "      <th>22678</th>\n",
       "      <td>050222</td>\n",
       "      <td>SHARP CHULA VISTA MEDICAL CENTER</td>\n",
       "      <td>751 MEDICAL CENTER COURT</td>\n",
       "      <td>CHULA VISTA</td>\n",
       "      <td>91911</td>\n",
       "      <td>SAN DIEGO</td>\n",
       "      <td>6195025800</td>\n",
       "      <td>2016</td>\n",
       "      <td>MORT_30_PN</td>\n",
       "      <td>Pneumonia (PN) 30-Day Mortality Rate</td>\n",
       "      <td>474.0</td>\n",
       "      <td>14.3</td>\n",
       "      <td>12.1</td>\n",
       "      <td>16.8</td>\n",
       "    </tr>\n",
       "    <tr>\n",
       "      <th>22088</th>\n",
       "      <td>050191</td>\n",
       "      <td>ST MARY MEDICAL CENTER</td>\n",
       "      <td>1050 LINDEN AVE</td>\n",
       "      <td>LONG BEACH</td>\n",
       "      <td>90813</td>\n",
       "      <td>LOS ANGELES</td>\n",
       "      <td>5624919000</td>\n",
       "      <td>2012</td>\n",
       "      <td>PSI_14_POSTOP_DEHIS</td>\n",
       "      <td>A wound that splits open  after surgery on the...</td>\n",
       "      <td>102.0</td>\n",
       "      <td>1.78</td>\n",
       "      <td>0.0</td>\n",
       "      <td>3.64</td>\n",
       "    </tr>\n",
       "    <tr>\n",
       "      <th>111295</th>\n",
       "      <td>201309</td>\n",
       "      <td>MAYO REGIONAL HOSPITAL</td>\n",
       "      <td>897 WEST MAIN STREET</td>\n",
       "      <td>DOVER FOXCROFT</td>\n",
       "      <td>04426</td>\n",
       "      <td>PISCATAQUIS</td>\n",
       "      <td>2075644251</td>\n",
       "      <td>2014</td>\n",
       "      <td>MORT_30_STK</td>\n",
       "      <td>Death rate for stroke patients</td>\n",
       "      <td>43.0</td>\n",
       "      <td>14.1</td>\n",
       "      <td>10.2</td>\n",
       "      <td>18.9</td>\n",
       "    </tr>\n",
       "    <tr>\n",
       "      <th>44865</th>\n",
       "      <td>100012</td>\n",
       "      <td>LEE MEMORIAL HOSPITAL</td>\n",
       "      <td>2776 CLEVELAND AVE</td>\n",
       "      <td>FORT MYERS</td>\n",
       "      <td>33901</td>\n",
       "      <td>LEE</td>\n",
       "      <td>2393321111</td>\n",
       "      <td>2012</td>\n",
       "      <td>MORT_30_PN</td>\n",
       "      <td>Pneumonia (PN) 30-Day Mortality Rate</td>\n",
       "      <td>971.0</td>\n",
       "      <td>10.6</td>\n",
       "      <td>8.9</td>\n",
       "      <td>12.5</td>\n",
       "    </tr>\n",
       "    <tr>\n",
       "      <th>208974</th>\n",
       "      <td>390194</td>\n",
       "      <td>BLUE MOUNTAIN HOSPITAL-GNADEN HUETTEN CAMPUS</td>\n",
       "      <td>211 NORTH 12TH STREET</td>\n",
       "      <td>LEHIGHTON</td>\n",
       "      <td>18235</td>\n",
       "      <td>CARBON</td>\n",
       "      <td>6073771300</td>\n",
       "      <td>2016</td>\n",
       "      <td>MORT_30_STK</td>\n",
       "      <td>Death rate for stroke patients</td>\n",
       "      <td>72.0</td>\n",
       "      <td>15.7</td>\n",
       "      <td>11.7</td>\n",
       "      <td>20.8</td>\n",
       "    </tr>\n",
       "  </tbody>\n",
       "</table>\n",
       "</div>"
      ],
      "text/plain": [
       "       Provider ID                                 Hospital Name  \\\n",
       "22678       050222              SHARP CHULA VISTA MEDICAL CENTER   \n",
       "22088       050191                        ST MARY MEDICAL CENTER   \n",
       "111295      201309                        MAYO REGIONAL HOSPITAL   \n",
       "44865       100012                         LEE MEMORIAL HOSPITAL   \n",
       "208974      390194  BLUE MOUNTAIN HOSPITAL-GNADEN HUETTEN CAMPUS   \n",
       "\n",
       "                         Address            City ZIP Code  County Name  \\\n",
       "22678   751 MEDICAL CENTER COURT     CHULA VISTA    91911    SAN DIEGO   \n",
       "22088            1050 LINDEN AVE      LONG BEACH    90813  LOS ANGELES   \n",
       "111295      897 WEST MAIN STREET  DOVER FOXCROFT    04426  PISCATAQUIS   \n",
       "44865         2776 CLEVELAND AVE      FORT MYERS    33901          LEE   \n",
       "208974     211 NORTH 12TH STREET       LEHIGHTON    18235       CARBON   \n",
       "\n",
       "       Phone Number  Year           Measure ID  \\\n",
       "22678    6195025800  2016           MORT_30_PN   \n",
       "22088    5624919000  2012  PSI_14_POSTOP_DEHIS   \n",
       "111295   2075644251  2014          MORT_30_STK   \n",
       "44865    2393321111  2012           MORT_30_PN   \n",
       "208974   6073771300  2016          MORT_30_STK   \n",
       "\n",
       "                                             Measure Name Denominator Score  \\\n",
       "22678                Pneumonia (PN) 30-Day Mortality Rate       474.0  14.3   \n",
       "22088   A wound that splits open  after surgery on the...       102.0  1.78   \n",
       "111295                     Death rate for stroke patients        43.0  14.1   \n",
       "44865                Pneumonia (PN) 30-Day Mortality Rate       971.0  10.6   \n",
       "208974                     Death rate for stroke patients        72.0  15.7   \n",
       "\n",
       "       Lower Estimate Higher Estimate  \n",
       "22678            12.1            16.8  \n",
       "22088             0.0            3.64  \n",
       "111295           10.2            18.9  \n",
       "44865             8.9            12.5  \n",
       "208974           11.7            20.8  "
      ]
     },
     "execution_count": 8,
     "metadata": {},
     "output_type": "execute_result"
    }
   ],
   "source": [
    "cd.sample(5, random_state=1234).head()"
   ]
  },
  {
   "cell_type": "markdown",
   "metadata": {
    "ExecuteTime": {
     "end_time": "2018-02-09T01:16:45.300896Z",
     "start_time": "2018-02-09T01:16:45.295156Z"
    }
   },
   "source": [
    "# Transform relevant columns"
   ]
  },
  {
   "cell_type": "markdown",
   "metadata": {},
   "source": [
    "All columns in the dataset are of type `str` (to preserve the ZIP code information). For **five** columns, str is the wrong type. Change the columns and explain why you changed which column."
   ]
  },
  {
   "cell_type": "code",
   "execution_count": null,
   "metadata": {},
   "outputs": [],
   "source": []
  },
  {
   "cell_type": "markdown",
   "metadata": {
    "ExecuteTime": {
     "end_time": "2018-02-09T01:31:41.847890Z",
     "start_time": "2018-02-09T01:31:41.839019Z"
    }
   },
   "source": [
    "# Create a ratio between the score and the denominator"
   ]
  },
  {
   "cell_type": "markdown",
   "metadata": {
    "ExecuteTime": {
     "end_time": "2018-02-09T01:34:20.308451Z",
     "start_time": "2018-02-09T01:34:20.287272Z"
    }
   },
   "source": [
    "Create a new column in the dataset that contains the ratio value."
   ]
  },
  {
   "cell_type": "code",
   "execution_count": null,
   "metadata": {},
   "outputs": [],
   "source": []
  },
  {
   "cell_type": "markdown",
   "metadata": {
    "ExecuteTime": {
     "end_time": "2018-02-09T01:33:13.551872Z",
     "start_time": "2018-02-09T01:33:13.546879Z"
    }
   },
   "source": [
    "# Create an overview of the ratio for deathly complications"
   ]
  },
  {
   "cell_type": "markdown",
   "metadata": {},
   "source": [
    "0. **Be careful when you identify 'deathly' complications and make sure that you catch all of them.**\n",
    "1. Create the overview (Make sure that the overview is understandable to everyone.)\n",
    "2. Choose an appropriate measure to aggregate the data. **Ignore that the data is for multiple years**.\n",
    "2. Sort with the highest ratio on top."
   ]
  },
  {
   "cell_type": "code",
   "execution_count": null,
   "metadata": {},
   "outputs": [],
   "source": []
  },
  {
   "cell_type": "markdown",
   "metadata": {
    "ExecuteTime": {
     "end_time": "2018-02-09T01:37:40.834697Z",
     "start_time": "2018-02-09T01:37:40.831044Z"
    }
   },
   "source": [
    "# Identify the five safest hospitals"
   ]
  },
  {
   "cell_type": "markdown",
   "metadata": {},
   "source": [
    "Return a **list** with the hospitals that have, on average, the lowest rate of deadly complications. **Be careful when you identify 'deathly' complications.** (Again, ignore that the dataset covers multiple years)."
   ]
  },
  {
   "cell_type": "code",
   "execution_count": null,
   "metadata": {},
   "outputs": [],
   "source": []
  },
  {
   "cell_type": "markdown",
   "metadata": {
    "ExecuteTime": {
     "end_time": "2018-02-09T01:54:20.635175Z",
     "start_time": "2018-02-09T01:54:20.626192Z"
    }
   },
   "source": [
    "# Augment the datset with information about the state"
   ]
  },
  {
   "cell_type": "markdown",
   "metadata": {
    "ExecuteTime": {
     "end_time": "2018-02-09T01:55:10.296708Z",
     "start_time": "2018-02-09T01:55:10.285834Z"
    }
   },
   "source": [
    "Read the file `geo-data.csv` into an object `zip_codes`. **Make sure that you read all columns as string.** ([Link](https://github.com/scpike/us-state-county-zip))"
   ]
  },
  {
   "cell_type": "code",
   "execution_count": null,
   "metadata": {},
   "outputs": [],
   "source": []
  },
  {
   "cell_type": "markdown",
   "metadata": {},
   "source": [
    "This file contains information about the relationship of zip codes, counties, and U.S. states. "
   ]
  },
  {
   "cell_type": "code",
   "execution_count": 23,
   "metadata": {
    "ExecuteTime": {
     "end_time": "2018-02-09T02:35:13.640199Z",
     "start_time": "2018-02-09T02:35:13.627558Z"
    }
   },
   "outputs": [
    {
     "data": {
      "text/plain": [
       "Index(['state_fips', 'state', 'state_abbr', 'zipcode', 'county', 'city'], dtype='object')"
      ]
     },
     "execution_count": 23,
     "metadata": {},
     "output_type": "execute_result"
    }
   ],
   "source": [
    "zip_codes.columns"
   ]
  },
  {
   "cell_type": "markdown",
   "metadata": {},
   "source": [
    "| Column Name | Description|\n",
    "|-------------|------------|\n",
    "|state_fips | FIPS code for the state |\n",
    "|state| Name of the state|\n",
    "|state_abbr| Abbreviation of the state|\n",
    "|zipcode | Postal code|\n",
    "|county | County name|\n",
    "|city | City name  |"
   ]
  },
  {
   "cell_type": "markdown",
   "metadata": {},
   "source": [
    "1. Combine the dataset on complications with the dateset on zip codes.\n",
    "2. Explain why you chose the column that used to combine the datasets.\n",
    "3. **Do not worry, not all states will be matched.**"
   ]
  },
  {
   "cell_type": "code",
   "execution_count": null,
   "metadata": {},
   "outputs": [],
   "source": []
  },
  {
   "cell_type": "markdown",
   "metadata": {
    "ExecuteTime": {
     "end_time": "2018-02-09T02:01:36.232035Z",
     "start_time": "2018-02-09T02:01:36.225785Z"
    }
   },
   "source": [
    "# Create an overview of the complications per U.S. state"
   ]
  },
  {
   "cell_type": "markdown",
   "metadata": {},
   "source": [
    "* Return a sorted list with the overall complication rate per state. \n",
    "* Ignore that the data is for multiple years. \n",
    "* Focus on the **best** ten states."
   ]
  },
  {
   "cell_type": "code",
   "execution_count": null,
   "metadata": {},
   "outputs": [],
   "source": []
  },
  {
   "cell_type": "markdown",
   "metadata": {},
   "source": [
    "# Create an overview of the change in complications across U.S. states"
   ]
  },
  {
   "cell_type": "markdown",
   "metadata": {},
   "source": [
    "* Focus on the deadly complications only.\n",
    "* Calculate the change as follows: **(average rate for last year in dataset - average rate for first year in dataset)/(average rate for first year in dataset)**"
   ]
  },
  {
   "cell_type": "code",
   "execution_count": null,
   "metadata": {},
   "outputs": [],
   "source": []
  },
  {
   "cell_type": "markdown",
   "metadata": {},
   "source": [
    "Which state has improved the most?"
   ]
  },
  {
   "cell_type": "code",
   "execution_count": null,
   "metadata": {},
   "outputs": [],
   "source": []
  },
  {
   "cell_type": "markdown",
   "metadata": {},
   "source": [
    "Which state has the worst development?"
   ]
  },
  {
   "cell_type": "code",
   "execution_count": null,
   "metadata": {},
   "outputs": [],
   "source": []
  },
  {
   "cell_type": "markdown",
   "metadata": {
    "ExecuteTime": {
     "end_time": "2018-02-09T02:30:33.122083Z",
     "start_time": "2018-02-09T02:30:33.116370Z"
    }
   },
   "source": [
    "# Bonus"
   ]
  },
  {
   "cell_type": "markdown",
   "metadata": {},
   "source": [
    "Which state has the worst development for 'Deaths among Patients with Serious Treatable Complications after Surgery'?"
   ]
  },
  {
   "cell_type": "code",
   "execution_count": null,
   "metadata": {},
   "outputs": [],
   "source": []
  }
 ],
 "metadata": {
  "kernelspec": {
   "display_name": "Python 3",
   "language": "python",
   "name": "python3"
  },
  "language_info": {
   "codemirror_mode": {
    "name": "ipython",
    "version": 3
   },
   "file_extension": ".py",
   "mimetype": "text/x-python",
   "name": "python",
   "nbconvert_exporter": "python",
   "pygments_lexer": "ipython3",
   "version": "3.6.4"
  },
  "toc": {
   "nav_menu": {},
   "number_sections": true,
   "sideBar": true,
   "skip_h1_title": false,
   "title_cell": "Table of Contents",
   "title_sidebar": "Contents",
   "toc_cell": false,
   "toc_position": {},
   "toc_section_display": true,
   "toc_window_display": false
  },
  "varInspector": {
   "cols": {
    "lenName": 16,
    "lenType": 16,
    "lenVar": 40
   },
   "kernels_config": {
    "python": {
     "delete_cmd_postfix": "",
     "delete_cmd_prefix": "del ",
     "library": "var_list.py",
     "varRefreshCmd": "print(var_dic_list())"
    },
    "r": {
     "delete_cmd_postfix": ") ",
     "delete_cmd_prefix": "rm(",
     "library": "var_list.r",
     "varRefreshCmd": "cat(var_dic_list()) "
    }
   },
   "types_to_exclude": [
    "module",
    "function",
    "builtin_function_or_method",
    "instance",
    "_Feature"
   ],
   "window_display": false
  }
 },
 "nbformat": 4,
 "nbformat_minor": 2
}
