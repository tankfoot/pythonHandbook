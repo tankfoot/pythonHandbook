{
 "cells": [
  {
   "cell_type": "markdown",
   "metadata": {
    "ExecuteTime": {
     "end_time": "2018-01-09T22:16:12.534253Z",
     "start_time": "2018-01-09T22:16:12.530354Z"
    }
   },
   "source": [
    "# Homework 2: Simple Stock Analysis"
   ]
  },
  {
   "cell_type": "markdown",
   "metadata": {},
   "source": [
    "The objective of this homework is to practice working with **Pandas Series**. To successfully complete this homework, you may use any resources available to you."
   ]
  },
  {
   "cell_type": "markdown",
   "metadata": {
    "ExecuteTime": {
     "end_time": "2018-01-09T22:43:29.993598Z",
     "start_time": "2018-01-09T22:43:29.974919Z"
    }
   },
   "source": [
    "You need to accomplish the following tasks:\n",
    "1. Download the Apple stock data for the timeframe of 1982 to today.\n",
    "1. Use the %magic command to activate inline matplotlib graphs\n",
    "2. Provide an overview of the `Close` series of the Apple stock.\n",
    "3. Identify three approaches of obtaining the maximum closing price. What is the difference between the approaches?\n",
    "3. Find the timeframes with the highest stock price surge in five days. Can you explain why these five dates?\n",
    "4. Resample the `Close` series to represent business quarters with a financial year that ends in September.\n",
    "3. Identify series of four quarters with the an overall surge in the stock prices that is larger than 100 percent. Can you explain why the larges surge happened? Visualize it.\n",
    "\n",
    "If you use tutorials/code snippets that you find on the internet to complete this task, make sure that you reference them. Also make sure that the Jupyter notebook is free of mistakes, well-documented, and professionally formatted before you submit it.\n",
    "\n",
    "This homework is due on **Tuesday, 23 2018**."
   ]
  },
  {
   "cell_type": "markdown",
   "metadata": {},
   "source": [
    "Lets' make sure that we allow multiple outputs."
   ]
  },
  {
   "cell_type": "code",
   "execution_count": 2,
   "metadata": {
    "ExecuteTime": {
     "end_time": "2018-01-22T21:33:45.449352Z",
     "start_time": "2018-01-22T21:33:45.439057Z"
    }
   },
   "outputs": [],
   "source": [
    "from IPython.core.interactiveshell import InteractiveShell\n",
    "InteractiveShell.ast_node_interactivity = \"all\""
   ]
  },
  {
   "cell_type": "markdown",
   "metadata": {},
   "source": [
    "Install the [pandas-datareader package](https://pandas-datareader.readthedocs.io/en/latest/). This package allows you to obtain stock information."
   ]
  },
  {
   "cell_type": "code",
   "execution_count": null,
   "metadata": {
    "ExecuteTime": {
     "end_time": "2018-01-17T02:48:11.807314Z",
     "start_time": "2018-01-17T02:48:10.852781Z"
    }
   },
   "outputs": [],
   "source": [
    "!pip install pandas-datareader"
   ]
  },
  {
   "cell_type": "markdown",
   "metadata": {},
   "source": [
    "* Write a function that has the ticker symbol and the start/enddate as input and that returns a dataframe with the stock information.\n",
    "* Use the function to get the stock information for Apple from 1982 to today."
   ]
  },
  {
   "cell_type": "code",
   "execution_count": 5,
   "metadata": {
    "ExecuteTime": {
     "end_time": "2018-01-22T21:33:58.305210Z",
     "start_time": "2018-01-22T21:33:56.346352Z"
    }
   },
   "outputs": [],
   "source": [
    "import pandas_datareader as pdr\n",
    "from pandas_datareader._utils import RemoteDataError\n",
    "from datetime import datetime\n",
    "\n",
    "ticker_symbol = \"AAPL\"\n",
    "\n",
    "def get_stock_data(x,start_year, end_year):\n",
    "    start = datetime(start_year, 1, 1)\n",
    "    end = datetime(end_year, 12, 31)\n",
    "    try:\n",
    "        f = pdr.DataReader(x, \"yahoo\", start, end)\n",
    "        #f = pdr.DataReader(\"WIKI/\"+x, 'quandl', start, end)\n",
    "        f['symbol'] = x\n",
    "        return f\n",
    "    except RemoteDataError:\n",
    "        print(\"404,\",x)\n",
    "\n",
    "stock = get_stock_data(ticker_symbol, 1982, 2017)"
   ]
  },
  {
   "cell_type": "markdown",
   "metadata": {
    "ExecuteTime": {
     "end_time": "2018-01-17T02:59:18.307999Z",
     "start_time": "2018-01-17T02:59:18.295456Z"
    }
   },
   "source": [
    "Use the %magic command to activate inline matplotlib graphs and plot the `Close` series."
   ]
  },
  {
   "cell_type": "code",
   "execution_count": 6,
   "metadata": {
    "ExecuteTime": {
     "end_time": "2018-01-22T21:34:00.692099Z",
     "start_time": "2018-01-22T21:34:00.449899Z"
    }
   },
   "outputs": [
    {
     "data": {
      "image/png": "[encoded data removed]",
      "text/plain": [
       "<matplotlib.figure.Figure at 0x7fe9d4b06a90>"
      ]
     },
     "metadata": {},
     "output_type": "display_data"
    }
   ],
   "source": [
    "%matplotlib inline\n",
    "stock.Close.plot();"
   ]
  },
  {
   "cell_type": "markdown",
   "metadata": {},
   "source": [
    "Provide an overview of the Close series of the Apple stock."
   ]
  },
  {
   "cell_type": "code",
   "execution_count": 7,
   "metadata": {
    "ExecuteTime": {
     "end_time": "2018-01-22T21:34:02.660808Z",
     "start_time": "2018-01-22T21:34:02.641846Z"
    }
   },
   "outputs": [
    {
     "data": {
      "text/plain": [
       "count    9078.000000\n",
       "mean       22.547216\n",
       "std        39.303114\n",
       "min         0.196429\n",
       "25%         1.090179\n",
       "50%         1.669643\n",
       "75%        23.260000\n",
       "max       176.419998\n",
       "Name: Close, dtype: float64"
      ]
     },
     "execution_count": 7,
     "metadata": {},
     "output_type": "execute_result"
    }
   ],
   "source": [
    "stock.Close.describe()"
   ]
  },
  {
   "cell_type": "markdown",
   "metadata": {},
   "source": [
    "Identify three approaches of obtaining the maximum closing price. What is the difference between the approaches?"
   ]
  },
  {
   "cell_type": "code",
   "execution_count": 8,
   "metadata": {
    "ExecuteTime": {
     "end_time": "2018-01-22T21:34:03.747198Z",
     "start_time": "2018-01-22T21:34:03.734858Z"
    }
   },
   "outputs": [],
   "source": [
    "a = stock[stock.Close == stock.Close.max()]\n",
    "b = stock.Close[stock.Close.values==172.90]\n",
    "c = stock.Close.idxmax()"
   ]
  },
  {
   "cell_type": "code",
   "execution_count": 9,
   "metadata": {
    "ExecuteTime": {
     "end_time": "2018-01-22T21:34:04.308307Z",
     "start_time": "2018-01-22T21:34:04.294536Z"
    }
   },
   "outputs": [
    {
     "data": {
      "text/plain": [
       "pandas.core.frame.DataFrame"
      ]
     },
     "execution_count": 9,
     "metadata": {},
     "output_type": "execute_result"
    },
    {
     "data": {
      "text/plain": [
       "pandas.core.series.Series"
      ]
     },
     "execution_count": 9,
     "metadata": {},
     "output_type": "execute_result"
    },
    {
     "data": {
      "text/plain": [
       "pandas._libs.tslib.Timestamp"
      ]
     },
     "execution_count": 9,
     "metadata": {},
     "output_type": "execute_result"
    }
   ],
   "source": [
    "type(a)\n",
    "type(b)\n",
    "type(c)"
   ]
  },
  {
   "cell_type": "markdown",
   "metadata": {},
   "source": [
    "Find the five timeframes with the highest stock price surge in five days (in % compared to the closing cost of the previous trading day). Do you notice something? Can you explain what happend during the timeframes?"
   ]
  },
  {
   "cell_type": "markdown",
   "metadata": {},
   "source": [
    "## Solution using shift"
   ]
  },
  {
   "cell_type": "code",
   "execution_count": 10,
   "metadata": {
    "ExecuteTime": {
     "end_time": "2018-01-22T21:34:08.056394Z",
     "start_time": "2018-01-22T21:34:07.979764Z"
    }
   },
   "outputs": [
    {
     "data": {
      "text/plain": [
       "Date\n",
       "1997-08-07    0.667858\n",
       "1997-08-06    0.514388\n",
       "1998-01-06    0.442857\n",
       "1997-08-08    0.397393\n",
       "1998-01-08    0.385715\n",
       "Name: Close, dtype: float64"
      ]
     },
     "execution_count": 10,
     "metadata": {},
     "output_type": "execute_result"
    }
   ],
   "source": [
    "percentRise = (stock.Close - stock.Close.shift(5))/stock.Close.shift(5)\n",
    "percentRise.nlargest(5)"
   ]
  },
  {
   "cell_type": "code",
   "execution_count": 11,
   "metadata": {
    "ExecuteTime": {
     "end_time": "2018-01-22T21:34:11.825202Z",
     "start_time": "2018-01-22T21:34:11.761928Z"
    }
   },
   "outputs": [
    {
     "data": {
      "text/plain": [
       "Date\n",
       "1997-08-01    0.685268\n",
       "1997-08-04    0.705357\n",
       "1997-08-05    0.705357\n",
       "1997-08-06    0.939732\n",
       "1997-08-07    1.042411\n",
       "1997-08-08    0.957589\n",
       "Name: Close, dtype: float64"
      ]
     },
     "execution_count": 11,
     "metadata": {},
     "output_type": "execute_result"
    }
   ],
   "source": [
    "stock.Close['1997-08-01':'1997-08-10']"
   ]
  },
  {
   "cell_type": "markdown",
   "metadata": {},
   "source": [
    "## Solution using pct_change"
   ]
  },
  {
   "cell_type": "code",
   "execution_count": 14,
   "metadata": {
    "ExecuteTime": {
     "end_time": "2018-01-22T21:34:38.873928Z",
     "start_time": "2018-01-22T21:34:38.841749Z"
    }
   },
   "outputs": [
    {
     "data": {
      "text/plain": [
       "Date\n",
       "1997-08-07    0.667858\n",
       "1997-08-06    0.514388\n",
       "1998-01-06    0.442857\n",
       "1997-08-08    0.397393\n",
       "1998-01-08    0.385715\n",
       "Name: Close, dtype: float64"
      ]
     },
     "execution_count": 14,
     "metadata": {},
     "output_type": "execute_result"
    }
   ],
   "source": [
    "stock.Close.pct_change(5).nlargest(5)"
   ]
  },
  {
   "cell_type": "markdown",
   "metadata": {
    "ExecuteTime": {
     "end_time": "2018-01-22T21:41:00.645835Z",
     "start_time": "2018-01-22T21:41:00.629975Z"
    }
   },
   "source": [
    "Microsoft saved Apple during this timeperiod ([Link](https://www.wired.com/2009/08/dayintech_0806/))."
   ]
  },
  {
   "cell_type": "markdown",
   "metadata": {},
   "source": [
    "Resample the Close series to represent business quarters with a financial year that ends in September."
   ]
  },
  {
   "cell_type": "code",
   "execution_count": 192,
   "metadata": {
    "ExecuteTime": {
     "end_time": "2018-01-17T03:02:23.850529Z",
     "start_time": "2018-01-17T03:02:23.828167Z"
    }
   },
   "outputs": [],
   "source": [
    "quarterly_stock = stock.Close.resample('BQ-SEP').mean()"
   ]
  },
  {
   "cell_type": "markdown",
   "metadata": {
    "ExecuteTime": {
     "end_time": "2018-01-17T03:02:56.165199Z",
     "start_time": "2018-01-17T03:02:56.147414Z"
    }
   },
   "source": [
    "Identify series of four quarters with the an overall surge in the stock prices that is larger than 100 percent. \n",
    "Can you explain why the largest surge happened?."
   ]
  },
  {
   "cell_type": "code",
   "execution_count": 194,
   "metadata": {
    "ExecuteTime": {
     "end_time": "2018-01-17T03:03:03.376721Z",
     "start_time": "2018-01-17T03:03:03.364693Z"
    }
   },
   "outputs": [],
   "source": [
    "window = 4\n",
    "percentage = 1\n",
    "\n",
    "r = quarterly_stock.rolling(window).min()"
   ]
  },
  {
   "cell_type": "code",
   "execution_count": 195,
   "metadata": {
    "ExecuteTime": {
     "end_time": "2018-01-17T03:03:04.491311Z",
     "start_time": "2018-01-17T03:03:04.483206Z"
    }
   },
   "outputs": [],
   "source": [
    "gain = (quarterly_stock - r) / r >= percentage"
   ]
  },
  {
   "cell_type": "code",
   "execution_count": 196,
   "metadata": {
    "ExecuteTime": {
     "end_time": "2018-01-17T03:03:08.109642Z",
     "start_time": "2018-01-17T03:03:08.041738Z"
    }
   },
   "outputs": [
    {
     "data": {
      "text/plain": [
       "Date\n",
       "1983-06-30    244.412806\n",
       "2005-03-31    175.793597\n",
       "1983-03-31    174.650733\n",
       "2000-03-31    167.956777\n",
       "1987-09-30    155.883120\n",
       "Name: Close, dtype: float64"
      ]
     },
     "execution_count": 196,
     "metadata": {},
     "output_type": "execute_result"
    }
   ],
   "source": [
    "((quarterly_stock[gain] - r[gain]) / r[gain] * 100).nlargest(5)"
   ]
  },
  {
   "cell_type": "markdown",
   "metadata": {},
   "source": [
    "* 1983: John Sculley becomes the CEO of Apple and Apple began to ship the [Lisa](https://en.wikipedia.org/wiki/Apple_Lisa), which turned out to be overhyped.\n",
    "* 1987: Apple began to ship the Mac II.\n",
    "* 2000: Apple fills its product matrix with the iBook and announced its internet strategy\n",
    "* 2005: iPod at its peak.\n",
    "Source: [http://apple-history.com](http://apple-history.com)"
   ]
  },
  {
   "cell_type": "markdown",
   "metadata": {},
   "source": [
    "Visualize the stock price for the quarters with the highest price surge."
   ]
  },
  {
   "cell_type": "code",
   "execution_count": 183,
   "metadata": {
    "ExecuteTime": {
     "end_time": "2018-01-17T02:48:25.509919Z",
     "start_time": "2018-01-17T02:48:25.203180Z"
    }
   },
   "outputs": [
    {
     "data": {
      "image/png": "[encoded data removed]",
      "text/plain": [
       "<matplotlib.figure.Figure at 0x7fefd63c9dd8>"
      ]
     },
     "metadata": {},
     "output_type": "display_data"
    }
   ],
   "source": [
    "quarterly_stock[:'1983-09-30'].plot();"
   ]
  },
  {
   "cell_type": "code",
   "execution_count": null,
   "metadata": {},
   "outputs": [],
   "source": []
  }
 ],
 "metadata": {
  "kernelspec": {
   "display_name": "Python 3",
   "language": "python",
   "name": "python3"
  },
  "language_info": {
   "codemirror_mode": {
    "name": "ipython",
    "version": 3
   },
   "file_extension": ".py",
   "mimetype": "text/x-python",
   "name": "python",
   "nbconvert_exporter": "python",
   "pygments_lexer": "ipython3",
   "version": "3.6.3"
  },
  "toc": {
   "nav_menu": {},
   "number_sections": true,
   "sideBar": true,
   "skip_h1_title": false,
   "toc_cell": false,
   "toc_position": {},
   "toc_section_display": "block",
   "toc_window_display": false
  },
  "varInspector": {
   "cols": {
    "lenName": 16,
    "lenType": 16,
    "lenVar": 40
   },
   "kernels_config": {
    "python": {
     "delete_cmd_postfix": "",
     "delete_cmd_prefix": "del ",
     "library": "var_list.py",
     "varRefreshCmd": "print(var_dic_list())"
    },
    "r": {
     "delete_cmd_postfix": ") ",
     "delete_cmd_prefix": "rm(",
     "library": "var_list.r",
     "varRefreshCmd": "cat(var_dic_list()) "
    }
   },
   "types_to_exclude": [
    "module",
    "function",
    "builtin_function_or_method",
    "instance",
    "_Feature"
   ],
   "window_display": false
  }
 },
 "nbformat": 4,
 "nbformat_minor": 2
}
