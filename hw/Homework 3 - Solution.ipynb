{
 "cells": [
  {
   "cell_type": "markdown",
   "metadata": {
    "ExecuteTime": {
     "end_time": "2018-01-23T04:31:51.255588Z",
     "start_time": "2018-01-23T04:31:51.252836Z"
    }
   },
   "source": [
    "# Homework 3 - Immigration, the stock market, and GDP"
   ]
  },
  {
   "cell_type": "markdown",
   "metadata": {},
   "source": [
    "The objective of this homework is to practice working with Pandas Dataframes. To successfully complete this homework, you may use any resources available to you. \n",
    "\n",
    "Answer the following question: What has a higher correlation with the GDP in the US: stock market returns or immigration?\n",
    "\n",
    "You need to accomplish the following tasks:\n",
    "1. Install the [wbdata](http://wbdata.readthedocs.io/en/latest/) package for API access to Worldbank data.\n",
    "2. Explore the databases `Population estimates and projections`, `Global Financial Development`, and `World Development Indicators`.\n",
    "3. Get the data on `GDP per capita growth (annual %)` as a dataframe.\n",
    "4. Get the data on `Net immigration` as a dataframe (Make sure that you also have a percentage value for this). \n",
    "5. Get the data on `Stock market return (%, year-on-year)` as a dataframe.\n",
    "5. Explore the data and note the issues. \n",
    "5. Clean and combine the data.\n",
    "6. What is the correlation between the GDP and net immigration and stock market returns. "
   ]
  },
  {
   "cell_type": "code",
   "execution_count": 1,
   "metadata": {
    "ExecuteTime": {
     "end_time": "2018-02-02T02:05:22.105628Z",
     "start_time": "2018-02-02T02:05:22.093095Z"
    }
   },
   "outputs": [],
   "source": [
    "from IPython.core.interactiveshell import InteractiveShell\n",
    "InteractiveShell.ast_node_interactivity = \"all\""
   ]
  },
  {
   "cell_type": "code",
   "execution_count": null,
   "metadata": {
    "ExecuteTime": {
     "end_time": "2018-02-02T02:05:26.849048Z",
     "start_time": "2018-02-02T02:05:24.227435Z"
    }
   },
   "outputs": [],
   "source": [
    "!pip install wbdata"
   ]
  },
  {
   "cell_type": "code",
   "execution_count": 3,
   "metadata": {
    "ExecuteTime": {
     "end_time": "2018-02-02T02:05:28.270940Z",
     "start_time": "2018-02-02T02:05:27.907600Z"
    }
   },
   "outputs": [],
   "source": [
    "import pandas as pd\n",
    "import wbdata as wb"
   ]
  },
  {
   "cell_type": "code",
   "execution_count": null,
   "metadata": {
    "ExecuteTime": {
     "end_time": "2018-02-02T02:05:28.918921Z",
     "start_time": "2018-02-02T02:05:28.688306Z"
    }
   },
   "outputs": [],
   "source": [
    "wb.get_source()"
   ]
  },
  {
   "cell_type": "code",
   "execution_count": null,
   "metadata": {
    "ExecuteTime": {
     "end_time": "2018-02-02T02:05:29.562758Z",
     "start_time": "2018-02-02T02:05:29.138577Z"
    }
   },
   "outputs": [],
   "source": [
    "wb.get_indicator(source=32)"
   ]
  },
  {
   "cell_type": "code",
   "execution_count": 78,
   "metadata": {
    "ExecuteTime": {
     "end_time": "2018-02-02T02:46:51.877778Z",
     "start_time": "2018-02-02T02:46:51.845092Z"
    }
   },
   "outputs": [],
   "source": [
    "gdp = {'NY.GDP.PCAP.KD.ZG':'World Development Indicators'}\n",
    "im = {'SM.POP.NETM': 'Population estimates and projections'}\n",
    "pop = {'SP.POP.TOTL':'Population estimates and projections'}\n",
    "stock = {'GFDD.OM.02': 'Global Financial Development'}\n",
    "\n",
    "stock_data = wb.get_dataframe(stock, country='USA', convert_date=True)\n",
    "gdp_data = wb.get_dataframe(gdp, country='USA', convert_date=True)\n",
    "im_data = wb.get_dataframe(im, country='USA', convert_date=True)\n",
    "pop_data = wb.get_dataframe(pop, country='USA', convert_date=True)"
   ]
  },
  {
   "cell_type": "code",
   "execution_count": 94,
   "metadata": {
    "ExecuteTime": {
     "end_time": "2018-02-02T02:49:23.650027Z",
     "start_time": "2018-02-02T02:49:23.389528Z"
    }
   },
   "outputs": [
    {
     "data": {
      "text/plain": [
       "<matplotlib.axes._subplots.AxesSubplot at 0x7fafc3accb00>"
      ]
     },
     "execution_count": 94,
     "metadata": {},
     "output_type": "execute_result"
    },
    {
     "data": {
      "image/png": "[encoded data removed]",
      "text/plain": [
       "<matplotlib.figure.Figure at 0x7fafc3b95c18>"
      ]
     },
     "metadata": {},
     "output_type": "display_data"
    }
   ],
   "source": [
    "im = (im_data/pop_data)*100\n",
    "im = im.interpolate()\n",
    "im.plot()"
   ]
  },
  {
   "cell_type": "code",
   "execution_count": 95,
   "metadata": {
    "ExecuteTime": {
     "end_time": "2018-02-02T02:49:54.486555Z",
     "start_time": "2018-02-02T02:49:54.475054Z"
    }
   },
   "outputs": [],
   "source": [
    "comb_results = pd.concat([gdp_data, im, stock_data], axis=1)\n",
    "names = ['GDtP_Percentage', 'Immi', 'Returns_Percentage']\n",
    "comb_results.columns = names"
   ]
  },
  {
   "cell_type": "code",
   "execution_count": 97,
   "metadata": {
    "ExecuteTime": {
     "end_time": "2018-02-02T02:50:06.338127Z",
     "start_time": "2018-02-02T02:50:06.317022Z"
    }
   },
   "outputs": [
    {
     "data": {
      "text/html": [
       "<div>\n",
       "<style scoped>\n",
       "    .dataframe tbody tr th:only-of-type {\n",
       "        vertical-align: middle;\n",
       "    }\n",
       "\n",
       "    .dataframe tbody tr th {\n",
       "        vertical-align: top;\n",
       "    }\n",
       "\n",
       "    .dataframe thead th {\n",
       "        text-align: right;\n",
       "    }\n",
       "</style>\n",
       "<table border=\"1\" class=\"dataframe\">\n",
       "  <thead>\n",
       "    <tr style=\"text-align: right;\">\n",
       "      <th></th>\n",
       "      <th>GDP_Percentage</th>\n",
       "      <th>Immi</th>\n",
       "      <th>Returns_Percentage</th>\n",
       "    </tr>\n",
       "    <tr>\n",
       "      <th>date</th>\n",
       "      <th></th>\n",
       "      <th></th>\n",
       "      <th></th>\n",
       "    </tr>\n",
       "  </thead>\n",
       "  <tbody>\n",
       "    <tr>\n",
       "      <th>1960-01-01</th>\n",
       "      <td>NaN</td>\n",
       "      <td>0.980644</td>\n",
       "      <td>NaN</td>\n",
       "    </tr>\n",
       "    <tr>\n",
       "      <th>1961-01-01</th>\n",
       "      <td>0.618121</td>\n",
       "      <td>0.980644</td>\n",
       "      <td>18.67</td>\n",
       "    </tr>\n",
       "    <tr>\n",
       "      <th>1962-01-01</th>\n",
       "      <td>4.480669</td>\n",
       "      <td>0.980644</td>\n",
       "      <td>-5.96</td>\n",
       "    </tr>\n",
       "    <tr>\n",
       "      <th>1963-01-01</th>\n",
       "      <td>2.908272</td>\n",
       "      <td>0.940466</td>\n",
       "      <td>12.10</td>\n",
       "    </tr>\n",
       "    <tr>\n",
       "      <th>1964-01-01</th>\n",
       "      <td>4.340549</td>\n",
       "      <td>0.900288</td>\n",
       "      <td>16.48</td>\n",
       "    </tr>\n",
       "  </tbody>\n",
       "</table>\n",
       "</div>"
      ],
      "text/plain": [
       "            GDP_Percentage      Immi  Returns_Percentage\n",
       "date                                                    \n",
       "1960-01-01             NaN  0.980644                 NaN\n",
       "1961-01-01        0.618121  0.980644               18.67\n",
       "1962-01-01        4.480669  0.980644               -5.96\n",
       "1963-01-01        2.908272  0.940466               12.10\n",
       "1964-01-01        4.340549  0.900288               16.48"
      ]
     },
     "execution_count": 97,
     "metadata": {},
     "output_type": "execute_result"
    }
   ],
   "source": [
    "comb_results.head()"
   ]
  },
  {
   "cell_type": "code",
   "execution_count": 102,
   "metadata": {
    "ExecuteTime": {
     "end_time": "2018-02-02T02:51:22.721933Z",
     "start_time": "2018-02-02T02:51:22.433825Z"
    }
   },
   "outputs": [
    {
     "data": {
      "text/plain": [
       "<matplotlib.axes._subplots.AxesSubplot at 0x7fafc393d278>"
      ]
     },
     "execution_count": 102,
     "metadata": {},
     "output_type": "execute_result"
    },
    {
     "data": {
      "image/png": "[encoded data removed]",
      "text/plain": [
       "<matplotlib.figure.Figure at 0x7fafc39d1dd8>"
      ]
     },
     "metadata": {},
     "output_type": "display_data"
    }
   ],
   "source": [
    "%matplotlib inline\n",
    "comb_results[['GDP_Percentage','Returns_Percentage','Immi']].plot()"
   ]
  },
  {
   "cell_type": "code",
   "execution_count": 103,
   "metadata": {
    "ExecuteTime": {
     "end_time": "2018-02-02T02:51:29.494628Z",
     "start_time": "2018-02-02T02:51:29.476869Z"
    }
   },
   "outputs": [
    {
     "data": {
      "text/html": [
       "<div>\n",
       "<style scoped>\n",
       "    .dataframe tbody tr th:only-of-type {\n",
       "        vertical-align: middle;\n",
       "    }\n",
       "\n",
       "    .dataframe tbody tr th {\n",
       "        vertical-align: top;\n",
       "    }\n",
       "\n",
       "    .dataframe thead th {\n",
       "        text-align: right;\n",
       "    }\n",
       "</style>\n",
       "<table border=\"1\" class=\"dataframe\">\n",
       "  <thead>\n",
       "    <tr style=\"text-align: right;\">\n",
       "      <th></th>\n",
       "      <th>GDP_Percentage</th>\n",
       "      <th>Returns_Percentage</th>\n",
       "      <th>Immi</th>\n",
       "    </tr>\n",
       "  </thead>\n",
       "  <tbody>\n",
       "    <tr>\n",
       "      <th>GDP_Percentage</th>\n",
       "      <td>1.000000</td>\n",
       "      <td>0.320460</td>\n",
       "      <td>-0.074788</td>\n",
       "    </tr>\n",
       "    <tr>\n",
       "      <th>Returns_Percentage</th>\n",
       "      <td>0.320460</td>\n",
       "      <td>1.000000</td>\n",
       "      <td>0.238076</td>\n",
       "    </tr>\n",
       "    <tr>\n",
       "      <th>Immi</th>\n",
       "      <td>-0.074788</td>\n",
       "      <td>0.238076</td>\n",
       "      <td>1.000000</td>\n",
       "    </tr>\n",
       "  </tbody>\n",
       "</table>\n",
       "</div>"
      ],
      "text/plain": [
       "                    GDP_Percentage  Returns_Percentage      Immi\n",
       "GDP_Percentage            1.000000            0.320460 -0.074788\n",
       "Returns_Percentage        0.320460            1.000000  0.238076\n",
       "Immi                     -0.074788            0.238076  1.000000"
      ]
     },
     "execution_count": 103,
     "metadata": {},
     "output_type": "execute_result"
    }
   ],
   "source": [
    "comb_results[['GDP_Percentage','Returns_Percentage','Immi']].corr()"
   ]
  },
  {
   "cell_type": "code",
   "execution_count": null,
   "metadata": {},
   "outputs": [],
   "source": []
  }
 ],
 "metadata": {
  "kernelspec": {
   "display_name": "Python 3",
   "language": "python",
   "name": "python3"
  },
  "language_info": {
   "codemirror_mode": {
    "name": "ipython",
    "version": 3
   },
   "file_extension": ".py",
   "mimetype": "text/x-python",
   "name": "python",
   "nbconvert_exporter": "python",
   "pygments_lexer": "ipython3",
   "version": "3.6.4"
  },
  "toc": {
   "nav_menu": {},
   "number_sections": true,
   "sideBar": true,
   "skip_h1_title": false,
   "title_cell": "Table of Contents",
   "title_sidebar": "Contents",
   "toc_cell": false,
   "toc_position": {},
   "toc_section_display": "block",
   "toc_window_display": false
  },
  "varInspector": {
   "cols": {
    "lenName": 16,
    "lenType": 16,
    "lenVar": 40
   },
   "kernels_config": {
    "python": {
     "delete_cmd_postfix": "",
     "delete_cmd_prefix": "del ",
     "library": "var_list.py",
     "varRefreshCmd": "print(var_dic_list())"
    },
    "r": {
     "delete_cmd_postfix": ") ",
     "delete_cmd_prefix": "rm(",
     "library": "var_list.r",
     "varRefreshCmd": "cat(var_dic_list()) "
    }
   },
   "types_to_exclude": [
    "module",
    "function",
    "builtin_function_or_method",
    "instance",
    "_Feature"
   ],
   "window_display": false
  }
 },
 "nbformat": 4,
 "nbformat_minor": 2
}
