{
 "cells": [
  {
   "cell_type": "markdown",
   "metadata": {
    "ExecuteTime": {
     "end_time": "2018-01-23T04:31:51.255588Z",
     "start_time": "2018-01-23T04:31:51.252836Z"
    }
   },
   "source": [
    "# Homework 5 - Gender Differences in University Enrollment"
   ]
  },
  {
   "cell_type": "markdown",
   "metadata": {},
   "source": [
    "The objective of this homework is to practice visualizing data. To successfully complete this homework, you may use any resources available to you. \n",
    "\n",
    "Get the `universities.csv` data. This is data from the [National Center for Education Statistics](https://nces.ed.gov/ipeds/datacenter/DataFiles.aspx). Develop **three** plots:\n",
    "1. A boxplot of the average number of total enrollment for the states in the U.S. West\n",
    "    * The States in the U.S. West are\n",
    "        * Alaska\n",
    "        * Arizona\n",
    "        * California\n",
    "        * Colorado\n",
    "        * Hawaii\n",
    "        * Idaho\n",
    "        * Montana\n",
    "        * Nevada\n",
    "        * New Mexico\n",
    "        * Oregon\n",
    "        * Utah\n",
    "        * Washington\n",
    "        * Wyoming\n",
    "    * Order the plot based on the number of institutions in the state\n",
    "2. A boxplot of the average number of enrollment per gender category (hue) and state in the U.S. West\n",
    "    * Please notice that enrollment numbers for men and women are in two separate columns.\n",
    "    * Hue requires one column, which means you have to 'melt' the dataset ([Link](https://pandas.pydata.org/pandas-docs/stable/generated/pandas.melt.html)).\n",
    "    * The results should be a dataframe with two rows (one for men, one for women) for each university\n",
    "3. A ordered barplot of the ratio of admissions for men and women for universities in the Bay Area\n",
    "    * We assume that the Bay Area is characterized with zip codes that start with `950` and `94`\n",
    "    * Focus on institutions with more than 1,000 enrollments.\n",
    "    * Develop the ratio of admissions for women and for men. Standardize this ratio on the mean. \n",
    "4. Interpret you plots in terms of gender differences. \n",
    "\n",
    "Hints:\n",
    "* Make sure your plots are nicely formatted (including axes label).\n",
    "* Explain what you are doing.\n",
    "* Use references."
   ]
  },
  {
   "cell_type": "code",
   "execution_count": 18,
   "metadata": {
    "ExecuteTime": {
     "end_time": "2018-02-23T01:40:53.669538Z",
     "start_time": "2018-02-23T01:40:53.663539Z"
    }
   },
   "outputs": [],
   "source": [
    "from IPython.core.interactiveshell import InteractiveShell\n",
    "InteractiveShell.ast_node_interactivity = \"all\""
   ]
  },
  {
   "cell_type": "code",
   "execution_count": 19,
   "metadata": {
    "ExecuteTime": {
     "end_time": "2018-02-23T01:40:53.957814Z",
     "start_time": "2018-02-23T01:40:53.944378Z"
    }
   },
   "outputs": [],
   "source": [
    "%matplotlib inline"
   ]
  },
  {
   "cell_type": "code",
   "execution_count": 20,
   "metadata": {
    "ExecuteTime": {
     "end_time": "2018-02-23T01:40:54.223093Z",
     "start_time": "2018-02-23T01:40:54.217006Z"
    }
   },
   "outputs": [],
   "source": [
    "import numpy as np\n",
    "import pandas as pd"
   ]
  },
  {
   "cell_type": "code",
   "execution_count": 21,
   "metadata": {
    "ExecuteTime": {
     "end_time": "2018-02-23T01:40:54.761022Z",
     "start_time": "2018-02-23T01:40:54.487746Z"
    }
   },
   "outputs": [],
   "source": [
    "universities = pd.read_csv('hd2016.csv', encoding = 'ISO-8859-1')\n",
    "admissions = pd.read_csv('adm2016.csv', encoding = 'ISO-8859-1')"
   ]
  },
  {
   "cell_type": "code",
   "execution_count": 22,
   "metadata": {
    "ExecuteTime": {
     "end_time": "2018-02-23T01:40:55.239783Z",
     "start_time": "2018-02-23T01:40:55.077915Z"
    }
   },
   "outputs": [],
   "source": [
    "comb = universities.merge(admissions, on='UNITID', how='left')"
   ]
  },
  {
   "cell_type": "code",
   "execution_count": 23,
   "metadata": {
    "ExecuteTime": {
     "end_time": "2018-02-23T01:40:55.644686Z",
     "start_time": "2018-02-23T01:40:55.541935Z"
    }
   },
   "outputs": [],
   "source": [
    "comb[['UNITID','INSTNM','ZIP','STABBR','ENRLT', 'ENRLM', 'ENRLW', 'ADMSSNW','ADMSSNM']].to_csv('universities.csv', index=False)"
   ]
  },
  {
   "cell_type": "code",
   "execution_count": 24,
   "metadata": {
    "ExecuteTime": {
     "end_time": "2018-02-23T01:40:56.380686Z",
     "start_time": "2018-02-23T01:40:56.088103Z"
    }
   },
   "outputs": [],
   "source": [
    "c = students = pd.read_csv('https://raw.githubusercontent.com/mschermann/msis2802winter2018homework/master/\\\n",
    "universities.csv')"
   ]
  },
  {
   "cell_type": "code",
   "execution_count": 25,
   "metadata": {
    "ExecuteTime": {
     "end_time": "2018-02-23T01:40:56.963296Z",
     "start_time": "2018-02-23T01:40:56.946105Z"
    }
   },
   "outputs": [],
   "source": [
    "import seaborn as sn\n",
    "%matplotlib inline"
   ]
  },
  {
   "cell_type": "markdown",
   "metadata": {
    "ExecuteTime": {
     "end_time": "2018-02-13T17:33:45.951851Z",
     "start_time": "2018-02-13T17:33:45.935567Z"
    }
   },
   "source": [
    "https://stackoverflow.com/questions/39214484/how-to-rank-plot-in-seaborn-boxplot"
   ]
  },
  {
   "cell_type": "code",
   "execution_count": 26,
   "metadata": {
    "ExecuteTime": {
     "end_time": "2018-02-23T01:40:58.004072Z",
     "start_time": "2018-02-23T01:40:57.427376Z"
    }
   },
   "outputs": [
    {
     "data": {
      "image/png": "[encoded data removed]",
      "text/plain": [
       "<matplotlib.figure.Figure at 0x7f8d67bfb208>"
      ]
     },
     "metadata": {},
     "output_type": "display_data"
    }
   ],
   "source": [
    "uswest = ['AK','AZ','CA', 'CO', 'HI', 'ID', 'MT', 'NV', 'NM', 'OR', 'UT', 'WA', 'WY']\n",
    "\n",
    "order = c[c['STABBR'].isin(uswest)].groupby('STABBR')[\"UNITID\"].count().sort_values(ascending=False).index\n",
    "\n",
    "te = sn.boxplot(x='STABBR', y='ENRLT', data=c[c['STABBR'].isin(uswest)], order=order)\n",
    "\n",
    "te.set(xlabel='States in the U.S. West', ylabel='Total Enrollment in 2016');"
   ]
  },
  {
   "cell_type": "code",
   "execution_count": 27,
   "metadata": {
    "ExecuteTime": {
     "end_time": "2018-02-23T01:40:58.471730Z",
     "start_time": "2018-02-23T01:40:58.454433Z"
    }
   },
   "outputs": [],
   "source": [
    "g =c[c['STABBR'].isin(uswest)][['UNITID','INSTNM','STABBR','ENRLT', 'ENRLM', 'ENRLW']].copy()"
   ]
  },
  {
   "cell_type": "markdown",
   "metadata": {},
   "source": [
    "https://pandas.pydata.org/pandas-docs/stable/generated/pandas.melt.html"
   ]
  },
  {
   "cell_type": "code",
   "execution_count": 28,
   "metadata": {
    "ExecuteTime": {
     "end_time": "2018-02-23T01:40:58.873658Z",
     "start_time": "2018-02-23T01:40:58.845191Z"
    }
   },
   "outputs": [],
   "source": [
    "gm = pd.melt(g, id_vars=['UNITID', 'INSTNM', 'STABBR', 'ENRLT'], value_vars=['ENRLM','ENRLW'])\n",
    "gm['variable'] = gm['variable'].replace({'ENRLM':'Men', 'ENRLW':'Women'})"
   ]
  },
  {
   "cell_type": "code",
   "execution_count": 29,
   "metadata": {
    "ExecuteTime": {
     "end_time": "2018-02-23T01:41:00.043603Z",
     "start_time": "2018-02-23T01:40:59.295656Z"
    }
   },
   "outputs": [
    {
     "data": {
      "image/png": "[encoded data removed]",
      "text/plain": [
       "<matplotlib.figure.Figure at 0x7f8d66726e80>"
      ]
     },
     "metadata": {},
     "output_type": "display_data"
    }
   ],
   "source": [
    "mw = sn.boxplot(x='STABBR', y='value', hue='variable' ,data=gm)\n",
    "mw.set(xlabel='States in the U.S. West', ylabel='Enrollment in 2016');"
   ]
  },
  {
   "cell_type": "code",
   "execution_count": 54,
   "metadata": {
    "ExecuteTime": {
     "end_time": "2018-02-23T01:45:57.368265Z",
     "start_time": "2018-02-23T01:45:57.360649Z"
    }
   },
   "outputs": [],
   "source": [
    "ca = c[c['STABBR']=='CA']"
   ]
  },
  {
   "cell_type": "code",
   "execution_count": 55,
   "metadata": {
    "ExecuteTime": {
     "end_time": "2018-02-23T01:45:57.723340Z",
     "start_time": "2018-02-23T01:45:57.713098Z"
    }
   },
   "outputs": [],
   "source": [
    "adm = ca[((ca['ZIP'].str.startswith('950')) | (ca['ZIP'].str.startswith('94') )) & (ca['ENRLT'] > 1000)].copy()"
   ]
  },
  {
   "cell_type": "code",
   "execution_count": 56,
   "metadata": {
    "ExecuteTime": {
     "end_time": "2018-02-23T01:45:58.113036Z",
     "start_time": "2018-02-23T01:45:58.082042Z"
    }
   },
   "outputs": [
    {
     "data": {
      "text/html": [
       "<div>\n",
       "<style scoped>\n",
       "    .dataframe tbody tr th:only-of-type {\n",
       "        vertical-align: middle;\n",
       "    }\n",
       "\n",
       "    .dataframe tbody tr th {\n",
       "        vertical-align: top;\n",
       "    }\n",
       "\n",
       "    .dataframe thead th {\n",
       "        text-align: right;\n",
       "    }\n",
       "</style>\n",
       "<table border=\"1\" class=\"dataframe\">\n",
       "  <thead>\n",
       "    <tr style=\"text-align: right;\">\n",
       "      <th></th>\n",
       "      <th>UNITID</th>\n",
       "      <th>INSTNM</th>\n",
       "      <th>ZIP</th>\n",
       "      <th>STABBR</th>\n",
       "      <th>ENRLT</th>\n",
       "      <th>ENRLM</th>\n",
       "      <th>ENRLW</th>\n",
       "      <th>ADMSSNW</th>\n",
       "      <th>ADMSSNM</th>\n",
       "      <th>ADM_RATIO</th>\n",
       "    </tr>\n",
       "  </thead>\n",
       "  <tbody>\n",
       "    <tr>\n",
       "      <th>241</th>\n",
       "      <td>110574</td>\n",
       "      <td>California State University-East Bay</td>\n",
       "      <td>94542</td>\n",
       "      <td>CA</td>\n",
       "      <td>1596.0</td>\n",
       "      <td>588.0</td>\n",
       "      <td>1008.0</td>\n",
       "      <td>7039.0</td>\n",
       "      <td>3891.0</td>\n",
       "      <td>1.809047</td>\n",
       "    </tr>\n",
       "    <tr>\n",
       "      <th>246</th>\n",
       "      <td>110635</td>\n",
       "      <td>University of California-Berkeley</td>\n",
       "      <td>94720</td>\n",
       "      <td>CA</td>\n",
       "      <td>6182.0</td>\n",
       "      <td>2997.0</td>\n",
       "      <td>3185.0</td>\n",
       "      <td>7766.0</td>\n",
       "      <td>6209.0</td>\n",
       "      <td>1.250765</td>\n",
       "    </tr>\n",
       "    <tr>\n",
       "      <th>254</th>\n",
       "      <td>110714</td>\n",
       "      <td>University of California-Santa Cruz</td>\n",
       "      <td>95064-1011</td>\n",
       "      <td>CA</td>\n",
       "      <td>4221.0</td>\n",
       "      <td>2149.0</td>\n",
       "      <td>2072.0</td>\n",
       "      <td>15883.0</td>\n",
       "      <td>12569.0</td>\n",
       "      <td>1.263665</td>\n",
       "    </tr>\n",
       "    <tr>\n",
       "      <th>490</th>\n",
       "      <td>122597</td>\n",
       "      <td>San Francisco State University</td>\n",
       "      <td>94132</td>\n",
       "      <td>CA</td>\n",
       "      <td>3642.0</td>\n",
       "      <td>1483.0</td>\n",
       "      <td>2159.0</td>\n",
       "      <td>15688.0</td>\n",
       "      <td>9016.0</td>\n",
       "      <td>1.740018</td>\n",
       "    </tr>\n",
       "    <tr>\n",
       "      <th>492</th>\n",
       "      <td>122612</td>\n",
       "      <td>University of San Francisco</td>\n",
       "      <td>94117-1080</td>\n",
       "      <td>CA</td>\n",
       "      <td>1587.0</td>\n",
       "      <td>576.0</td>\n",
       "      <td>1011.0</td>\n",
       "      <td>7245.0</td>\n",
       "      <td>3666.0</td>\n",
       "      <td>1.976268</td>\n",
       "    </tr>\n",
       "    <tr>\n",
       "      <th>505</th>\n",
       "      <td>122931</td>\n",
       "      <td>Santa Clara University</td>\n",
       "      <td>95053</td>\n",
       "      <td>CA</td>\n",
       "      <td>1317.0</td>\n",
       "      <td>650.0</td>\n",
       "      <td>667.0</td>\n",
       "      <td>4271.0</td>\n",
       "      <td>3377.0</td>\n",
       "      <td>1.264732</td>\n",
       "    </tr>\n",
       "    <tr>\n",
       "      <th>524</th>\n",
       "      <td>123572</td>\n",
       "      <td>Sonoma State University</td>\n",
       "      <td>94928-3609</td>\n",
       "      <td>CA</td>\n",
       "      <td>1806.0</td>\n",
       "      <td>629.0</td>\n",
       "      <td>1177.0</td>\n",
       "      <td>8307.0</td>\n",
       "      <td>4268.0</td>\n",
       "      <td>1.946345</td>\n",
       "    </tr>\n",
       "    <tr>\n",
       "      <th>4247</th>\n",
       "      <td>243744</td>\n",
       "      <td>Stanford University</td>\n",
       "      <td>94305</td>\n",
       "      <td>CA</td>\n",
       "      <td>1739.0</td>\n",
       "      <td>854.0</td>\n",
       "      <td>885.0</td>\n",
       "      <td>1087.0</td>\n",
       "      <td>1031.0</td>\n",
       "      <td>1.054316</td>\n",
       "    </tr>\n",
       "  </tbody>\n",
       "</table>\n",
       "</div>"
      ],
      "text/plain": [
       "      UNITID                                INSTNM         ZIP STABBR   ENRLT  \\\n",
       "241   110574  California State University-East Bay       94542     CA  1596.0   \n",
       "246   110635     University of California-Berkeley       94720     CA  6182.0   \n",
       "254   110714   University of California-Santa Cruz  95064-1011     CA  4221.0   \n",
       "490   122597        San Francisco State University       94132     CA  3642.0   \n",
       "492   122612           University of San Francisco  94117-1080     CA  1587.0   \n",
       "505   122931                Santa Clara University       95053     CA  1317.0   \n",
       "524   123572               Sonoma State University  94928-3609     CA  1806.0   \n",
       "4247  243744                   Stanford University       94305     CA  1739.0   \n",
       "\n",
       "       ENRLM   ENRLW  ADMSSNW  ADMSSNM  ADM_RATIO  \n",
       "241    588.0  1008.0   7039.0   3891.0   1.809047  \n",
       "246   2997.0  3185.0   7766.0   6209.0   1.250765  \n",
       "254   2149.0  2072.0  15883.0  12569.0   1.263665  \n",
       "490   1483.0  2159.0  15688.0   9016.0   1.740018  \n",
       "492    576.0  1011.0   7245.0   3666.0   1.976268  \n",
       "505    650.0   667.0   4271.0   3377.0   1.264732  \n",
       "524    629.0  1177.0   8307.0   4268.0   1.946345  \n",
       "4247   854.0   885.0   1087.0   1031.0   1.054316  "
      ]
     },
     "execution_count": 56,
     "metadata": {},
     "output_type": "execute_result"
    }
   ],
   "source": [
    "adm['ADM_RATIO'] = adm['ADMSSNW']/adm['ADMSSNM']\n",
    "adm"
   ]
  },
  {
   "cell_type": "code",
   "execution_count": 57,
   "metadata": {
    "ExecuteTime": {
     "end_time": "2018-02-23T01:45:58.989874Z",
     "start_time": "2018-02-23T01:45:58.956492Z"
    }
   },
   "outputs": [
    {
     "data": {
      "text/plain": [
       "1.5381444208883028"
      ]
     },
     "execution_count": 57,
     "metadata": {},
     "output_type": "execute_result"
    },
    {
     "data": {
      "text/html": [
       "<div>\n",
       "<style scoped>\n",
       "    .dataframe tbody tr th:only-of-type {\n",
       "        vertical-align: middle;\n",
       "    }\n",
       "\n",
       "    .dataframe tbody tr th {\n",
       "        vertical-align: top;\n",
       "    }\n",
       "\n",
       "    .dataframe thead th {\n",
       "        text-align: right;\n",
       "    }\n",
       "</style>\n",
       "<table border=\"1\" class=\"dataframe\">\n",
       "  <thead>\n",
       "    <tr style=\"text-align: right;\">\n",
       "      <th></th>\n",
       "      <th>UNITID</th>\n",
       "      <th>INSTNM</th>\n",
       "      <th>ZIP</th>\n",
       "      <th>STABBR</th>\n",
       "      <th>ENRLT</th>\n",
       "      <th>ENRLM</th>\n",
       "      <th>ENRLW</th>\n",
       "      <th>ADMSSNW</th>\n",
       "      <th>ADMSSNM</th>\n",
       "      <th>ADM_RATIO</th>\n",
       "    </tr>\n",
       "  </thead>\n",
       "  <tbody>\n",
       "    <tr>\n",
       "      <th>241</th>\n",
       "      <td>110574</td>\n",
       "      <td>California State University-East Bay</td>\n",
       "      <td>94542</td>\n",
       "      <td>CA</td>\n",
       "      <td>1596.0</td>\n",
       "      <td>588.0</td>\n",
       "      <td>1008.0</td>\n",
       "      <td>7039.0</td>\n",
       "      <td>3891.0</td>\n",
       "      <td>0.270902</td>\n",
       "    </tr>\n",
       "    <tr>\n",
       "      <th>246</th>\n",
       "      <td>110635</td>\n",
       "      <td>University of California-Berkeley</td>\n",
       "      <td>94720</td>\n",
       "      <td>CA</td>\n",
       "      <td>6182.0</td>\n",
       "      <td>2997.0</td>\n",
       "      <td>3185.0</td>\n",
       "      <td>7766.0</td>\n",
       "      <td>6209.0</td>\n",
       "      <td>-0.287379</td>\n",
       "    </tr>\n",
       "    <tr>\n",
       "      <th>254</th>\n",
       "      <td>110714</td>\n",
       "      <td>University of California-Santa Cruz</td>\n",
       "      <td>95064-1011</td>\n",
       "      <td>CA</td>\n",
       "      <td>4221.0</td>\n",
       "      <td>2149.0</td>\n",
       "      <td>2072.0</td>\n",
       "      <td>15883.0</td>\n",
       "      <td>12569.0</td>\n",
       "      <td>-0.274480</td>\n",
       "    </tr>\n",
       "    <tr>\n",
       "      <th>490</th>\n",
       "      <td>122597</td>\n",
       "      <td>San Francisco State University</td>\n",
       "      <td>94132</td>\n",
       "      <td>CA</td>\n",
       "      <td>3642.0</td>\n",
       "      <td>1483.0</td>\n",
       "      <td>2159.0</td>\n",
       "      <td>15688.0</td>\n",
       "      <td>9016.0</td>\n",
       "      <td>0.201873</td>\n",
       "    </tr>\n",
       "    <tr>\n",
       "      <th>492</th>\n",
       "      <td>122612</td>\n",
       "      <td>University of San Francisco</td>\n",
       "      <td>94117-1080</td>\n",
       "      <td>CA</td>\n",
       "      <td>1587.0</td>\n",
       "      <td>576.0</td>\n",
       "      <td>1011.0</td>\n",
       "      <td>7245.0</td>\n",
       "      <td>3666.0</td>\n",
       "      <td>0.438124</td>\n",
       "    </tr>\n",
       "    <tr>\n",
       "      <th>505</th>\n",
       "      <td>122931</td>\n",
       "      <td>Santa Clara University</td>\n",
       "      <td>95053</td>\n",
       "      <td>CA</td>\n",
       "      <td>1317.0</td>\n",
       "      <td>650.0</td>\n",
       "      <td>667.0</td>\n",
       "      <td>4271.0</td>\n",
       "      <td>3377.0</td>\n",
       "      <td>-0.273412</td>\n",
       "    </tr>\n",
       "    <tr>\n",
       "      <th>524</th>\n",
       "      <td>123572</td>\n",
       "      <td>Sonoma State University</td>\n",
       "      <td>94928-3609</td>\n",
       "      <td>CA</td>\n",
       "      <td>1806.0</td>\n",
       "      <td>629.0</td>\n",
       "      <td>1177.0</td>\n",
       "      <td>8307.0</td>\n",
       "      <td>4268.0</td>\n",
       "      <td>0.408200</td>\n",
       "    </tr>\n",
       "    <tr>\n",
       "      <th>4247</th>\n",
       "      <td>243744</td>\n",
       "      <td>Stanford University</td>\n",
       "      <td>94305</td>\n",
       "      <td>CA</td>\n",
       "      <td>1739.0</td>\n",
       "      <td>854.0</td>\n",
       "      <td>885.0</td>\n",
       "      <td>1087.0</td>\n",
       "      <td>1031.0</td>\n",
       "      <td>-0.483828</td>\n",
       "    </tr>\n",
       "  </tbody>\n",
       "</table>\n",
       "</div>"
      ],
      "text/plain": [
       "      UNITID                                INSTNM         ZIP STABBR   ENRLT  \\\n",
       "241   110574  California State University-East Bay       94542     CA  1596.0   \n",
       "246   110635     University of California-Berkeley       94720     CA  6182.0   \n",
       "254   110714   University of California-Santa Cruz  95064-1011     CA  4221.0   \n",
       "490   122597        San Francisco State University       94132     CA  3642.0   \n",
       "492   122612           University of San Francisco  94117-1080     CA  1587.0   \n",
       "505   122931                Santa Clara University       95053     CA  1317.0   \n",
       "524   123572               Sonoma State University  94928-3609     CA  1806.0   \n",
       "4247  243744                   Stanford University       94305     CA  1739.0   \n",
       "\n",
       "       ENRLM   ENRLW  ADMSSNW  ADMSSNM  ADM_RATIO  \n",
       "241    588.0  1008.0   7039.0   3891.0   0.270902  \n",
       "246   2997.0  3185.0   7766.0   6209.0  -0.287379  \n",
       "254   2149.0  2072.0  15883.0  12569.0  -0.274480  \n",
       "490   1483.0  2159.0  15688.0   9016.0   0.201873  \n",
       "492    576.0  1011.0   7245.0   3666.0   0.438124  \n",
       "505    650.0   667.0   4271.0   3377.0  -0.273412  \n",
       "524    629.0  1177.0   8307.0   4268.0   0.408200  \n",
       "4247   854.0   885.0   1087.0   1031.0  -0.483828  "
      ]
     },
     "execution_count": 57,
     "metadata": {},
     "output_type": "execute_result"
    }
   ],
   "source": [
    "adm['ADM_RATIO'].mean()\n",
    "adm['ADM_RATIO'] = adm['ADM_RATIO'] - adm['ADM_RATIO'].mean()\n",
    "adm"
   ]
  },
  {
   "cell_type": "code",
   "execution_count": 59,
   "metadata": {
    "ExecuteTime": {
     "end_time": "2018-02-23T03:54:00.597316Z",
     "start_time": "2018-02-23T03:54:00.311782Z"
    }
   },
   "outputs": [
    {
     "data": {
      "image/png": "[encoded data removed]",
      "text/plain": [
       "<matplotlib.figure.Figure at 0x7f8d73b2b438>"
      ]
     },
     "metadata": {},
     "output_type": "display_data"
    }
   ],
   "source": [
    "adm_ratio = sn.factorplot(y='INSTNM', x='ADM_RATIO', kind='bar', data=adm.sort_values(by='ADM_RATIO', ascending=True))\n",
    "adm_ratio.set_axis_labels(x_var='Difference from Mean', y_var='Institution');"
   ]
  },
  {
   "cell_type": "code",
   "execution_count": null,
   "metadata": {},
   "outputs": [],
   "source": []
  }
 ],
 "metadata": {
  "kernelspec": {
   "display_name": "Python 3",
   "language": "python",
   "name": "python3"
  },
  "language_info": {
   "codemirror_mode": {
    "name": "ipython",
    "version": 3
   },
   "file_extension": ".py",
   "mimetype": "text/x-python",
   "name": "python",
   "nbconvert_exporter": "python",
   "pygments_lexer": "ipython3",
   "version": "3.6.4"
  },
  "toc": {
   "nav_menu": {},
   "number_sections": true,
   "sideBar": true,
   "skip_h1_title": false,
   "title_cell": "Table of Contents",
   "title_sidebar": "Contents",
   "toc_cell": false,
   "toc_position": {},
   "toc_section_display": "block",
   "toc_window_display": false
  },
  "varInspector": {
   "cols": {
    "lenName": 16,
    "lenType": 16,
    "lenVar": 40
   },
   "kernels_config": {
    "python": {
     "delete_cmd_postfix": "",
     "delete_cmd_prefix": "del ",
     "library": "var_list.py",
     "varRefreshCmd": "print(var_dic_list())"
    },
    "r": {
     "delete_cmd_postfix": ") ",
     "delete_cmd_prefix": "rm(",
     "library": "var_list.r",
     "varRefreshCmd": "cat(var_dic_list()) "
    }
   },
   "types_to_exclude": [
    "module",
    "function",
    "builtin_function_or_method",
    "instance",
    "_Feature"
   ],
   "window_display": false
  }
 },
 "nbformat": 4,
 "nbformat_minor": 2
}
