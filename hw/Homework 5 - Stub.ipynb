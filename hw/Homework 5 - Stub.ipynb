{
 "cells": [
  {
   "cell_type": "markdown",
   "metadata": {
    "ExecuteTime": {
     "end_time": "2018-01-23T04:31:51.255588Z",
     "start_time": "2018-01-23T04:31:51.252836Z"
    }
   },
   "source": [
    "# Homework 5 - Gender Differences in University Enrollment"
   ]
  },
  {
   "cell_type": "markdown",
   "metadata": {},
   "source": [
    "The objective of this homework is to practice visualizing data. To successfully complete this homework, you may use any resources available to you. \n",
    "\n",
    "Get the `universities.csv` data. This is data from the [National Center for Education Statistics](https://nces.ed.gov/ipeds/datacenter/DataFiles.aspx). Develop **three** plots:\n",
    "1. A boxplot of the average number of total enrollment for the states in the U.S. West\n",
    "    * The States in the U.S. West are\n",
    "        * Alaska\n",
    "        * Arizona\n",
    "        * California\n",
    "        * Colorado\n",
    "        * Hawaii\n",
    "        * Idaho\n",
    "        * Montana\n",
    "        * Nevada\n",
    "        * New Mexico\n",
    "        * Oregon\n",
    "        * Utah\n",
    "        * Washington\n",
    "        * Wyoming (see prepared list `uswest`)\n",
    "    * Order the plot based on the number of institutions in the state\n",
    "2. A boxplot of the average number of enrollment per gender category (hue) and state in the U.S. West\n",
    "    * Please notice that enrollment numbers for men and women are in two separate columns.\n",
    "    * Hue requires one column, which means you have to 'melt' the dataset ([Link](https://pandas.pydata.org/pandas-docs/stable/generated/pandas.melt.html)).\n",
    "    * The results should be a dataframe with two rows (one for men, one for women) for each university\n",
    "3. A ordered barplot of the ratio of admissions for men and women for universities in the Bay Area\n",
    "    * We assume that the Bay Area is characterized with zip codes that start with `950` and `94`\n",
    "    * Focus on institutions with more than 1,000 enrollments.\n",
    "    * Develop the ratio of admissions for women and for men. Standardize this ratio on the mean. \n",
    "4. Interpret you plots in terms of gender differences. \n",
    "\n",
    "Hints:\n",
    "* Make sure your plots are nicely formatted (including axes label).\n",
    "* Explain what you are doing.\n",
    "* Use references."
   ]
  },
  {
   "cell_type": "code",
   "execution_count": 2,
   "metadata": {
    "ExecuteTime": {
     "end_time": "2018-02-13T17:45:19.822310Z",
     "start_time": "2018-02-13T17:45:19.816703Z"
    }
   },
   "outputs": [],
   "source": [
    "from IPython.core.interactiveshell import InteractiveShell\n",
    "InteractiveShell.ast_node_interactivity = \"all\""
   ]
  },
  {
   "cell_type": "code",
   "execution_count": 4,
   "metadata": {
    "ExecuteTime": {
     "end_time": "2018-02-13T17:45:20.792374Z",
     "start_time": "2018-02-13T17:45:20.557515Z"
    }
   },
   "outputs": [],
   "source": [
    "import numpy as np\n",
    "import pandas as pd"
   ]
  },
  {
   "cell_type": "code",
   "execution_count": 8,
   "metadata": {
    "ExecuteTime": {
     "end_time": "2018-02-13T17:45:23.621448Z",
     "start_time": "2018-02-13T17:45:23.424111Z"
    }
   },
   "outputs": [],
   "source": [
    "c = students = pd.read_csv('https://raw.githubusercontent.com/mschermann/msis2802winter2018homework/master/\\\n",
    "universities.csv')"
   ]
  },
  {
   "cell_type": "code",
   "execution_count": 9,
   "metadata": {
    "ExecuteTime": {
     "end_time": "2018-02-13T17:45:25.590732Z",
     "start_time": "2018-02-13T17:45:25.149151Z"
    }
   },
   "outputs": [],
   "source": [
    "import seaborn as sn\n",
    "%matplotlib inline"
   ]
  },
  {
   "cell_type": "code",
   "execution_count": 19,
   "metadata": {
    "ExecuteTime": {
     "end_time": "2018-02-13T17:46:02.458031Z",
     "start_time": "2018-02-13T17:46:02.452375Z"
    }
   },
   "outputs": [],
   "source": [
    "uswest = ['AK','AZ','CA', 'CO', 'HI', 'ID', 'MT', 'NV', 'NM', 'OR', 'UT', 'WA', 'WY']"
   ]
  }
 ],
 "metadata": {
  "kernelspec": {
   "display_name": "Python 3",
   "language": "python",
   "name": "python3"
  },
  "language_info": {
   "codemirror_mode": {
    "name": "ipython",
    "version": 3
   },
   "file_extension": ".py",
   "mimetype": "text/x-python",
   "name": "python",
   "nbconvert_exporter": "python",
   "pygments_lexer": "ipython3",
   "version": "3.6.4"
  },
  "toc": {
   "nav_menu": {},
   "number_sections": true,
   "sideBar": true,
   "skip_h1_title": false,
   "title_cell": "Table of Contents",
   "title_sidebar": "Contents",
   "toc_cell": false,
   "toc_position": {},
   "toc_section_display": "block",
   "toc_window_display": false
  },
  "varInspector": {
   "cols": {
    "lenName": 16,
    "lenType": 16,
    "lenVar": 40
   },
   "kernels_config": {
    "python": {
     "delete_cmd_postfix": "",
     "delete_cmd_prefix": "del ",
     "library": "var_list.py",
     "varRefreshCmd": "print(var_dic_list())"
    },
    "r": {
     "delete_cmd_postfix": ") ",
     "delete_cmd_prefix": "rm(",
     "library": "var_list.r",
     "varRefreshCmd": "cat(var_dic_list()) "
    }
   },
   "types_to_exclude": [
    "module",
    "function",
    "builtin_function_or_method",
    "instance",
    "_Feature"
   ],
   "window_display": false
  }
 },
 "nbformat": 4,
 "nbformat_minor": 2
}
