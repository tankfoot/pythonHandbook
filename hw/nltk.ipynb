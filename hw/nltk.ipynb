{
 "cells": [
  {
   "cell_type": "code",
   "execution_count": 1,
   "metadata": {},
   "outputs": [],
   "source": [
    "import nltk"
   ]
  },
  {
   "cell_type": "code",
   "execution_count": 2,
   "metadata": {},
   "outputs": [],
   "source": [
    "example_text = 'The terrifying videos from Marjory Stoneman Douglas High School place viewers right inside the bloodied classrooms and hallways of the school. We can hear the gunshots and the cries for help. We can see the bodies on the floor.'"
   ]
  },
  {
   "cell_type": "code",
   "execution_count": 5,
   "metadata": {},
   "outputs": [
    {
     "name": "stdout",
     "output_type": "stream",
     "text": [
      "[nltk_data] Downloading package punkt to /Users/Jimshire/nltk_data...\n",
      "[nltk_data]   Unzipping tokenizers/punkt.zip.\n"
     ]
    },
    {
     "data": {
      "text/plain": [
       "True"
      ]
     },
     "execution_count": 5,
     "metadata": {},
     "output_type": "execute_result"
    }
   ],
   "source": [
    "nltk.download('punkt')"
   ]
  },
  {
   "cell_type": "code",
   "execution_count": 21,
   "metadata": {},
   "outputs": [],
   "source": [
    "tokens = nltk.word_tokenize(example_text)"
   ]
  },
  {
   "cell_type": "code",
   "execution_count": 22,
   "metadata": {},
   "outputs": [
    {
     "name": "stdout",
     "output_type": "stream",
     "text": [
      "['The', 'terrifying', 'videos', 'from', 'Marjory', 'Stoneman', 'Douglas', 'High', 'School', 'place', 'viewers', 'right', 'inside', 'the', 'bloodied', 'classrooms', 'and', 'hallways', 'of', 'the', 'school', '.', 'We', 'can', 'hear', 'the', 'gunshots', 'and', 'the', 'cries', 'for', 'help', '.', 'We', 'can', 'see', 'the', 'bodies', 'on', 'the', 'floor', '.']\n"
     ]
    }
   ],
   "source": [
    "print(tokens)"
   ]
  },
  {
   "cell_type": "code",
   "execution_count": 10,
   "metadata": {},
   "outputs": [],
   "source": [
    "tokens = nltk.sent_tokenize(example_text)"
   ]
  },
  {
   "cell_type": "code",
   "execution_count": 11,
   "metadata": {},
   "outputs": [
    {
     "name": "stdout",
     "output_type": "stream",
     "text": [
      "['The terrifying videos from Marjory Stoneman Douglas High School place viewers right inside the bloodied classrooms and hallways of the school.', 'We can hear the gunshots and the cries for help.', 'We can see the bodies on the floor.']\n"
     ]
    }
   ],
   "source": [
    "print(tokens)"
   ]
  },
  {
   "cell_type": "code",
   "execution_count": 15,
   "metadata": {},
   "outputs": [
    {
     "name": "stdout",
     "output_type": "stream",
     "text": [
      "[nltk_data] Downloading package stopwords to\n",
      "[nltk_data]     /Users/Jimshire/nltk_data...\n",
      "[nltk_data]   Unzipping corpora/stopwords.zip.\n"
     ]
    },
    {
     "data": {
      "text/plain": [
       "True"
      ]
     },
     "execution_count": 15,
     "metadata": {},
     "output_type": "execute_result"
    }
   ],
   "source": [
    "nltk.download('stopwords')"
   ]
  },
  {
   "cell_type": "code",
   "execution_count": 16,
   "metadata": {},
   "outputs": [],
   "source": [
    "stopwords = set(stopwords.words(\"English\"))"
   ]
  },
  {
   "cell_type": "code",
   "execution_count": 17,
   "metadata": {},
   "outputs": [
    {
     "name": "stdout",
     "output_type": "stream",
     "text": [
      "{'when', 'hasn', 'own', 'then', 'not', 'here', 'off', 'some', 'does', 'than', 'we', 'so', \"she's\", 'has', 'll', 'because', 'd', 'mustn', 'weren', 'to', 'by', 'will', 'yourself', 'i', \"needn't\", 'again', 'during', 'under', 'it', 'that', 'just', 'very', 'mightn', \"haven't\", 'against', 'a', 'being', 'between', 've', 'and', 'for', 'over', 'you', 'its', 'at', 'y', 'have', 'myself', \"hadn't\", 'himself', 'below', 'were', 'shan', 'only', 'but', 'about', 'an', 'now', 'your', 'aren', 'o', 'what', 'such', 'be', 'hadn', 'up', 'nor', 'no', 'wouldn', 'couldn', 'had', \"shan't\", 'why', 'while', \"won't\", 'he', 'my', 'before', 'm', 'this', 'do', 'there', 'where', \"wasn't\", 'who', 'above', \"that'll\", \"didn't\", 'yourselves', 'was', 'after', 'once', \"mightn't\", 'they', 'are', \"don't\", 'am', 'can', 'those', 'ours', 'ain', 'as', 'did', 'each', 'more', 'most', 'is', \"you'd\", 'our', 'them', \"mustn't\", 'theirs', 'too', \"you've\", 'wasn', \"should've\", \"couldn't\", 'doesn', 'haven', 'down', 'which', 'herself', \"it's\", 'all', 'yours', 're', 'same', \"hasn't\", 'in', 'she', 'the', 'should', \"isn't\", 'his', 'further', 'didn', 'or', 'any', 'been', \"aren't\", 'her', \"shouldn't\", 'whom', 'if', 't', 'me', \"weren't\", \"you'll\", 'out', 'don', 'won', 'their', 'needn', 'of', 'him', 'until', 'ma', \"doesn't\", 'these', 'from', 'on', 's', 'itself', 'themselves', 'other', 'with', 'doing', 'having', 'hers', 'isn', 'into', 'few', 'through', 'how', 'ourselves', 'both', \"wouldn't\", \"you're\", 'shouldn'}\n"
     ]
    }
   ],
   "source": [
    "print(stopwords)"
   ]
  },
  {
   "cell_type": "code",
   "execution_count": 25,
   "metadata": {},
   "outputs": [],
   "source": [
    "filtered_example=[]"
   ]
  },
  {
   "cell_type": "code",
   "execution_count": 26,
   "metadata": {},
   "outputs": [],
   "source": [
    "for word in tokens:\n",
    "    if word not in stopwords:\n",
    "        filtered_example.append(word)"
   ]
  },
  {
   "cell_type": "code",
   "execution_count": 27,
   "metadata": {},
   "outputs": [
    {
     "name": "stdout",
     "output_type": "stream",
     "text": [
      "['The', 'terrifying', 'videos', 'Marjory', 'Stoneman', 'Douglas', 'High', 'School', 'place', 'viewers', 'right', 'inside', 'bloodied', 'classrooms', 'hallways', 'school', '.', 'We', 'hear', 'gunshots', 'cries', 'help', '.', 'We', 'see', 'bodies', 'floor', '.']\n"
     ]
    }
   ],
   "source": [
    "print(filtered_example)"
   ]
  },
  {
   "cell_type": "code",
   "execution_count": null,
   "metadata": {},
   "outputs": [],
   "source": []
  }
 ],
 "metadata": {
  "kernelspec": {
   "display_name": "Python 3",
   "language": "python",
   "name": "python3"
  },
  "language_info": {
   "codemirror_mode": {
    "name": "ipython",
    "version": 3
   },
   "file_extension": ".py",
   "mimetype": "text/x-python",
   "name": "python",
   "nbconvert_exporter": "python",
   "pygments_lexer": "ipython3",
   "version": "3.6.4"
  }
 },
 "nbformat": 4,
 "nbformat_minor": 2
}
